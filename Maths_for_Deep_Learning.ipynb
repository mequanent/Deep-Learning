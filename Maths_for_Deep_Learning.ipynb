{
  "nbformat": 4,
  "nbformat_minor": 0,
  "metadata": {
    "colab": {
      "provenance": [],
      "toc_visible": true,
      "authorship_tag": "ABX9TyMKoVAHwoTizUbeFuVmCDOb",
      "include_colab_link": true
    },
    "kernelspec": {
      "name": "python3",
      "display_name": "Python 3"
    },
    "language_info": {
      "name": "python"
    }
  },
  "cells": [
    {
      "cell_type": "markdown",
      "metadata": {
        "id": "view-in-github",
        "colab_type": "text"
      },
      "source": [
        "<a href=\"https://colab.research.google.com/github/mequanent/Deep-Learning/blob/main/Maths_for_Deep_Learning.ipynb\" target=\"_parent\"><img src=\"https://colab.research.google.com/assets/colab-badge.svg\" alt=\"Open In Colab\"/></a>"
      ]
    },
    {
      "cell_type": "code",
      "execution_count": null,
      "metadata": {
        "id": "RyezgA66XxDe",
        "outputId": "6b769cc0-e0e5-40b6-fe9b-b6e7be6d63a6",
        "colab": {
          "base_uri": "https://localhost:8080/"
        }
      },
      "outputs": [
        {
          "output_type": "stream",
          "name": "stdout",
          "text": [
            "\u001b[K\u001b[?25hnpx: installed 1 in 1.934s\n",
            "\u001b[36m> destination directory is not empty. Using --force, continuing\u001b[39m\n",
            "\u001b[36m> cloned \u001b[1mmequanent/Deep-Learning\u001b[22m#\u001b[1mHEAD\u001b[22m\u001b[39m\n"
          ]
        }
      ],
      "source": [
        "# Clone the repository first using the following command\n",
        "!npx degit https://github.com/mequanent/Deep-Learning -f"
      ]
    },
    {
      "cell_type": "markdown",
      "source": [
        "# Libraries"
      ],
      "metadata": {
        "id": "T3YtAs4Eexv2"
      }
    },
    {
      "cell_type": "code",
      "source": [
        "from scipy.io import loadmat\n",
        "import matplotlib.pyplot as plt\n",
        "import numpy as np\n",
        "import pandas as pd\n",
        "import random\n",
        "\n",
        "%matplotlib inline"
      ],
      "metadata": {
        "id": "8MPYBxWVZmLt"
      },
      "execution_count": 1,
      "outputs": []
    },
    {
      "cell_type": "markdown",
      "source": [
        "Load ‘data.mat’ into your Python code, where you will find $x,y∈R^{1001}$. "
      ],
      "metadata": {
        "id": "XUC2Uq2Tl2pe"
      }
    },
    {
      "cell_type": "markdown",
      "source": [
        "# Dataset"
      ],
      "metadata": {
        "id": "xq7smfVze0bM"
      }
    },
    {
      "cell_type": "code",
      "source": [
        "data = loadmat(r\"Ex1/data.mat\")\n",
        "x = data['x']#.flatten()\n",
        "y = data['y']#.flatten()"
      ],
      "metadata": {
        "id": "922F2jnZhMp-"
      },
      "execution_count": null,
      "outputs": []
    },
    {
      "cell_type": "markdown",
      "source": [
        "# 1"
      ],
      "metadata": {
        "id": "25132D6jmpvF"
      }
    },
    {
      "cell_type": "markdown",
      "source": [
        "## a. \n",
        "Plot the data using plot function. "
      ],
      "metadata": {
        "id": "7KR5FvHefCSv"
      }
    },
    {
      "cell_type": "markdown",
      "source": [
        "**Plot**"
      ],
      "metadata": {
        "id": "EZRYCHhZjOjR"
      }
    },
    {
      "cell_type": "code",
      "source": [
        "plt.figure(num=0, dpi=120)\n",
        "plt.plot(x, y)\n",
        "plt.title(\"x-y plot\")\n",
        "plt.xlabel(\"x\")\n",
        "plt.ylabel(\"y\")\n"
      ],
      "metadata": {
        "id": "w6YTtd3VjkQ4",
        "outputId": "6224d75c-ace6-4263-a9e8-2b601b2e2e7f",
        "colab": {
          "base_uri": "https://localhost:8080/",
          "height": 499
        }
      },
      "execution_count": null,
      "outputs": [
        {
          "output_type": "execute_result",
          "data": {
            "text/plain": [
              "Text(0, 0.5, 'y')"
            ]
          },
          "metadata": {},
          "execution_count": 23
        },
        {
          "output_type": "display_data",
          "data": {
            "text/plain": [
              "<Figure size 720x480 with 1 Axes>"
            ],
            "image/png": "[encoded data removed]"
          },
          "metadata": {
            "needs_background": "light"
          }
        }
      ]
    },
    {
      "cell_type": "markdown",
      "source": [
        "## b. \n",
        "Compute the least square line $y=θ_0+xθ_1$ using the given data and overlay the line over the given data."
      ],
      "metadata": {
        "id": "Lfcf7oZtmvSG"
      }
    },
    {
      "cell_type": "code",
      "source": [
        "ones = np.repeat(1, len(x)) # coefficients for θ0 to have one column in x\n",
        "X1 = np.array([ones, x.flatten()]) # insert the ones at the left of x as coefficient of θ0\n",
        "θ = np.matmul(np.linalg.pinv(X1.T), (y))\n",
        "θ = θ.flatten()\n",
        "θ10, θ11 = θ[0], θ[1]\n",
        "Y1 = θ10 + θ11 * x"
      ],
      "metadata": {
        "id": "uJEB7qs2SheK"
      },
      "execution_count": null,
      "outputs": []
    },
    {
      "cell_type": "code",
      "source": [
        "# plot y = θ10 + xθ11\n",
        "\n",
        "plt.figure(num=0, dpi=120)\n",
        "plt.plot(x, y, label = r\"expected\")\n",
        "plt.plot(x, Y1, \"r\", label=\"$y=θ_0+xθ_1$\")\n",
        "plt.title(\"x-y plot\")\n",
        "plt.xlabel(\"x\")\n",
        "plt.ylabel(\"y\")\n",
        "plt.legend()"
      ],
      "metadata": {
        "colab": {
          "base_uri": "https://localhost:8080/",
          "height": 499
        },
        "id": "M_PNc4Vfid2q",
        "outputId": "8b2a9b30-5382-4daf-a42b-2f407e438c26"
      },
      "execution_count": null,
      "outputs": [
        {
          "output_type": "execute_result",
          "data": {
            "text/plain": [
              "<matplotlib.legend.Legend at 0x7f88fa313b90>"
            ]
          },
          "metadata": {},
          "execution_count": 33
        },
        {
          "output_type": "display_data",
          "data": {
            "text/plain": [
              "<Figure size 720x480 with 1 Axes>"
            ],
            "image/png": "[encoded data removed]"
          },
          "metadata": {
            "needs_background": "light"
          }
        }
      ]
    },
    {
      "cell_type": "markdown",
      "source": [
        "# 2. \n",
        "Using the same data from Question 2, compute the least square parabola (i.e. second order polynomial $y=θ_0+xθ_1+x^2 θ_2)$ to fit the data. (5%) Explain which formulation (line or parabola) is more suitable for this dataset and why (please calculate the mean square error for these two fitting equations)?"
      ],
      "metadata": {
        "id": "i21HQF0U-uEw"
      }
    },
    {
      "cell_type": "markdown",
      "source": [
        "First, find $θ_0, θ_1, θ_2$."
      ],
      "metadata": {
        "id": "lVDpV76ikptf"
      }
    },
    {
      "cell_type": "code",
      "source": [
        "ones = np.repeat(1, len(x)) # coefficients for θ0 to have one column in x\n",
        "squares = (x**2).flatten() # x^2 to be multiplied by θ2 as third columns\n",
        "X2 = np.array([ones, x.flatten(), squares]) # insert the ones at the left \n",
        "                                            #and squares on the right of x \n",
        "X2 = X2.T\n",
        "X2.shape"
      ],
      "metadata": {
        "id": "SKF3IuucvcAI",
        "colab": {
          "base_uri": "https://localhost:8080/"
        },
        "outputId": "e23de1ba-54bf-4821-f6eb-f5df9fd4fb6f"
      },
      "execution_count": null,
      "outputs": [
        {
          "output_type": "execute_result",
          "data": {
            "text/plain": [
              "(1001, 3)"
            ]
          },
          "metadata": {},
          "execution_count": 34
        }
      ]
    },
    {
      "cell_type": "code",
      "source": [
        "θ2 = np.matmul(np.linalg.pinv(X2), (y))\n",
        "θ2 = θ2.flatten()\n",
        "θ20, θ21, θ22 = θ2[0], θ2[1], θ2[2]\n",
        "θ20, θ21, θ22"
      ],
      "metadata": {
        "colab": {
          "base_uri": "https://localhost:8080/"
        },
        "id": "Jo8RVh5GIybr",
        "outputId": "6853bc03-1b75-4496-c773-0a1e2c23f8c8"
      },
      "execution_count": null,
      "outputs": [
        {
          "output_type": "execute_result",
          "data": {
            "text/plain": [
              "(1.178945987733097, 0.14356709045621222, 5.837350079181328)"
            ]
          },
          "metadata": {},
          "execution_count": 36
        }
      ]
    },
    {
      "cell_type": "code",
      "source": [
        "# Predict the expected values of y\n",
        "Y2 = θ20 + θ21 * x + θ22 * (x ** 2)"
      ],
      "metadata": {
        "id": "fg2y_TaafeSn"
      },
      "execution_count": null,
      "outputs": []
    },
    {
      "cell_type": "code",
      "source": [
        "plt.figure(num=0, dpi=120) \n",
        "plt.plot(x, y, label = r\"expected\") \n",
        "plt.plot(x, Y2, \"r\", label=\"$y=θ_0+xθ_1+x^2θ_2$\") \n",
        "plt.title(\"x-y plot\") \n",
        "plt.xlabel(\"x\")\n",
        "plt.ylabel(\"y\")\n",
        "plt.legend()"
      ],
      "metadata": {
        "colab": {
          "base_uri": "https://localhost:8080/",
          "height": 499
        },
        "id": "BaO4yqkDjuVd",
        "outputId": "fd469d75-2311-436d-f644-55d90fb8989f"
      },
      "execution_count": null,
      "outputs": [
        {
          "output_type": "execute_result",
          "data": {
            "text/plain": [
              "<matplotlib.legend.Legend at 0x7f88ec238d10>"
            ]
          },
          "metadata": {},
          "execution_count": 38
        },
        {
          "output_type": "display_data",
          "data": {
            "text/plain": [
              "<Figure size 720x480 with 1 Axes>"
            ],
            "image/png": "[encoded data removed]"
          },
          "metadata": {
            "needs_background": "light"
          }
        }
      ]
    },
    {
      "cell_type": "code",
      "source": [
        "# Mean squared error\n",
        "from sklearn.metrics import mean_squared_error\n",
        "\n",
        "rmse1 = np.sqrt(mean_squared_error(y,Y1)) # for linear least square\n",
        "rmse2 = np.sqrt(mean_squared_error(y,Y2)) # for quadratic least square\n",
        "print(f\"rmse for line is: {rmse1} while rmse for parabola is: {rmse2}.\")"
      ],
      "metadata": {
        "colab": {
          "base_uri": "https://localhost:8080/"
        },
        "id": "GzzVAyXIjvbI",
        "outputId": "4b36b311-4fdc-4a09-acbb-be9d2af2682f"
      },
      "execution_count": null,
      "outputs": [
        {
          "output_type": "stream",
          "name": "stdout",
          "text": [
            "rmse for line is: 0.453658425277404 while rmse for parabola is: 0.12547876286929024.\n"
          ]
        }
      ]
    },
    {
      "cell_type": "markdown",
      "source": [
        " Explain which formulation (line or parabola) is more suitable for this dataset and why. \\\\\n",
        " **Ans:** \\\\\n",
        "**The parabola is more suitable for this dataset because the prediction for y  with the parabola is more closer than with the line as the root mean squared error and the visual plots indicate it clearly.** \\\\\n",
        "**The prediction error is less when using quadratic linear regression.**"
      ],
      "metadata": {
        "id": "N2wHdB7HrFK6"
      }
    },
    {
      "cell_type": "markdown",
      "source": [
        "# 3. \n",
        "(15%)\n",
        "Following the previous two questions, please randomly select $100$ data samples for $50$ times and plot these $50$ lines $(y=θ_0+xθ_1)$ and parabolas $(y=θ_0+xθ_1+x^2 θ_2)$ in two separate figures, one for lines and the other for parabolas. (5%) Explain these visualizations based on the bias and variance."
      ],
      "metadata": {
        "id": "GhoRzubSsJR2"
      }
    },
    {
      "cell_type": "code",
      "source": [
        "lines = [] # to hold list of 50 linear regression predictions\n",
        "parabolas = [] # to hold list of 50 quadratic linear regression predictions\n",
        "samples = []\n",
        "for i in range(50):\n",
        "  xs = np.random.choice(x.flatten(), 100) # 100 samples in each iteration\n",
        "  xs = np.sort(xs) # change samples from list back to array and sort\n",
        "  Ys1 = θ10 + θ11 * xs # compute the linear regression for the current samples\n",
        "  Ys2 = θ20 + (θ21 * xs) + (θ22 * (xs ** 2)) # quadratic linear regression for the same sample\n",
        "  lines.append([xs, Ys1]) \n",
        "  parabolas.append([xs, Ys2])\n",
        "  samples.append(xs)"
      ],
      "metadata": {
        "id": "mODJJXLKdAUn"
      },
      "execution_count": null,
      "outputs": []
    },
    {
      "cell_type": "code",
      "source": [
        "def plot(func, title):\n",
        "  plt.figure(num=0, dpi=120)\n",
        "  for i in range(len(func)):\n",
        "    plt.plot(func[i][0], func[i][1], label = f\"line {i}\")\n",
        "\n",
        "  plt.xlabel(\"x\")\n",
        "  plt.ylabel(\"y\")\n",
        "  plt.title(title)\n",
        "  plt.show"
      ],
      "metadata": {
        "id": "89-tefYZ1w0Q"
      },
      "execution_count": null,
      "outputs": []
    },
    {
      "cell_type": "code",
      "source": [
        "plot(lines, title = \"Lines plot\")"
      ],
      "metadata": {
        "colab": {
          "base_uri": "https://localhost:8080/",
          "height": 482
        },
        "id": "CO6ZyRdd2QYx",
        "outputId": "d28df40d-62c4-4ae5-fd8d-a53a0df76849"
      },
      "execution_count": null,
      "outputs": [
        {
          "output_type": "display_data",
          "data": {
            "text/plain": [
              "<Figure size 720x480 with 1 Axes>"
            ],
            "image/png": "[encoded data removed]"
          },
          "metadata": {
            "needs_background": "light"
          }
        }
      ]
    },
    {
      "cell_type": "markdown",
      "source": [
        "Parabolas plot"
      ],
      "metadata": {
        "id": "fARC7oaQnFvA"
      }
    },
    {
      "cell_type": "code",
      "source": [
        "plot(parabolas, \"parabolas plot\")"
      ],
      "metadata": {
        "colab": {
          "base_uri": "https://localhost:8080/",
          "height": 482
        },
        "id": "ZmlOU6-O2nuX",
        "outputId": "cb90d4d7-ad39-4437-fd54-051425aaeb52"
      },
      "execution_count": null,
      "outputs": [
        {
          "output_type": "display_data",
          "data": {
            "text/plain": [
              "<Figure size 720x480 with 1 Axes>"
            ],
            "image/png": "[encoded data removed]"
          },
          "metadata": {
            "needs_background": "light"
          }
        }
      ]
    },
    {
      "cell_type": "markdown",
      "source": [
        "Retry with lower samples in each iteration for better resolution"
      ],
      "metadata": {
        "id": "ywSj2hw92vCK"
      }
    },
    {
      "cell_type": "code",
      "source": [
        "lines = [] # to hold list of 50 linear regression predictions\n",
        "parabolas = [] # to hold list of 50 quadratic linear regression predictions\n",
        "samples = []\n",
        "for i in range(5):\n",
        "  xs = np.random.choice(x.flatten(), 10) # 100 samples in each iteration\n",
        "  xs = np.sort(xs) # change samples from list back to array and sort\n",
        "  Ys1 = θ10 + θ11 * xs # compute the linear regression for the current samples\n",
        "  Ys2 = θ20 + (θ21 * xs) + (θ22 * (xs ** 2)) # quadratic linear regression for the same sample\n",
        "  lines.append([xs, Ys1]) \n",
        "  parabolas.append([xs, Ys2])\n",
        "  samples.append(xs)\n"
      ],
      "metadata": {
        "id": "X4HU0bP5zFUi"
      },
      "execution_count": null,
      "outputs": []
    },
    {
      "cell_type": "code",
      "source": [
        "plot(lines, \"Lower sampled lines plot\")"
      ],
      "metadata": {
        "colab": {
          "base_uri": "https://localhost:8080/",
          "height": 482
        },
        "id": "DTm1PbQ01i1f",
        "outputId": "504e3c45-46e9-4d6b-a57b-bb5c47fddf00"
      },
      "execution_count": null,
      "outputs": [
        {
          "output_type": "display_data",
          "data": {
            "text/plain": [
              "<Figure size 720x480 with 1 Axes>"
            ],
            "image/png": "[encoded data removed]"
          },
          "metadata": {
            "needs_background": "light"
          }
        }
      ]
    },
    {
      "cell_type": "code",
      "source": [
        "plot(parabolas, \"Lower sampled parabolas plot\")"
      ],
      "metadata": {
        "colab": {
          "base_uri": "https://localhost:8080/",
          "height": 482
        },
        "id": "ljqlbhD84HJG",
        "outputId": "bdcbd43d-2688-4130-b4f5-eea9942a6325"
      },
      "execution_count": null,
      "outputs": [
        {
          "output_type": "display_data",
          "data": {
            "text/plain": [
              "<Figure size 720x480 with 1 Axes>"
            ],
            "image/png": "[encoded data removed]"
          },
          "metadata": {
            "needs_background": "light"
          }
        }
      ]
    },
    {
      "cell_type": "markdown",
      "source": [
        "# 4. \n",
        "(10%) \n",
        "In ‘train.mat,’ you can find 2-D points $X=[x1, x2]$ and their corresponding labels $Y=y$. Please use logistic regression $h(θ)=1/(1+e^(-θ^T x))$  to find the decision boundary (optimal $θ^*$) based on ‘train.mat.” Please use a gradient descent method to solve it and report the test error on the test dataset ‘test.mat.’ (percentage of misclassified test samples) "
      ],
      "metadata": {
        "id": "zA_FNAG6sStH"
      }
    },
    {
      "cell_type": "code",
      "source": [
        "train_mat = loadmat(r\"Ex1/train.mat\")\n",
        "test_mat = loadmat(r\"Ex1/test.mat\")\n",
        "\n",
        "train, test = pd.DataFrame(), pd.DataFrame()\n",
        "\n",
        "train[\"x1\"], train[\"x2\"] = train_mat['x1'].flatten(),  train_mat['x2']\n",
        "test[\"x1\"],test[\"x2\"]  = test_mat['x1'].flatten(),  test_mat['x2']\n",
        "\n",
        "train[\"y\"], test[\"y\"]  = train_mat['y'], test_mat['y']\n",
        "\n",
        "train.head(3)"
      ],
      "metadata": {
        "id": "aPaveOvfpu0A",
        "outputId": "fc1b00ac-2633-4f2a-8788-623a07ef2f68",
        "colab": {
          "base_uri": "https://localhost:8080/",
          "height": 143
        }
      },
      "execution_count": null,
      "outputs": [
        {
          "output_type": "execute_result",
          "data": {
            "text/plain": [
              "    x1   x2  y\n",
              "0  5.1  3.5  1\n",
              "1  4.9  3.0  1\n",
              "2  4.7  3.2  1"
            ],
            "text/html": [
              "\n",
              "  <div id=\"df-31dfe54f-0320-44fe-8b39-08ec25ecda9e\">\n",
              "    <div class=\"colab-df-container\">\n",
              "      <div>\n",
              "<style scoped>\n",
              "    .dataframe tbody tr th:only-of-type {\n",
              "        vertical-align: middle;\n",
              "    }\n",
              "\n",
              "    .dataframe tbody tr th {\n",
              "        vertical-align: top;\n",
              "    }\n",
              "\n",
              "    .dataframe thead th {\n",
              "        text-align: right;\n",
              "    }\n",
              "</style>\n",
              "<table border=\"1\" class=\"dataframe\">\n",
              "  <thead>\n",
              "    <tr style=\"text-align: right;\">\n",
              "      <th></th>\n",
              "      <th>x1</th>\n",
              "      <th>x2</th>\n",
              "      <th>y</th>\n",
              "    </tr>\n",
              "  </thead>\n",
              "  <tbody>\n",
              "    <tr>\n",
              "      <th>0</th>\n",
              "      <td>5.1</td>\n",
              "      <td>3.5</td>\n",
              "      <td>1</td>\n",
              "    </tr>\n",
              "    <tr>\n",
              "      <th>1</th>\n",
              "      <td>4.9</td>\n",
              "      <td>3.0</td>\n",
              "      <td>1</td>\n",
              "    </tr>\n",
              "    <tr>\n",
              "      <th>2</th>\n",
              "      <td>4.7</td>\n",
              "      <td>3.2</td>\n",
              "      <td>1</td>\n",
              "    </tr>\n",
              "  </tbody>\n",
              "</table>\n",
              "</div>\n",
              "      <button class=\"colab-df-convert\" onclick=\"convertToInteractive('df-31dfe54f-0320-44fe-8b39-08ec25ecda9e')\"\n",
              "              title=\"Convert this dataframe to an interactive table.\"\n",
              "              style=\"display:none;\">\n",
              "        \n",
              "  <svg xmlns=\"http://www.w3.org/2000/svg\" height=\"24px\"viewBox=\"0 0 24 24\"\n",
              "       width=\"24px\">\n",
              "    <path d=\"M0 0h24v24H0V0z\" fill=\"none\"/>\n",
              "    <path d=\"M18.56 5.44l.94 2.06.94-2.06 2.06-.94-2.06-.94-.94-2.06-.94 2.06-2.06.94zm-11 1L8.5 8.5l.94-2.06 2.06-.94-2.06-.94L8.5 2.5l-.94 2.06-2.06.94zm10 10l.94 2.06.94-2.06 2.06-.94-2.06-.94-.94-2.06-.94 2.06-2.06.94z\"/><path d=\"M17.41 7.96l-1.37-1.37c-.4-.4-.92-.59-1.43-.59-.52 0-1.04.2-1.43.59L10.3 9.45l-7.72 7.72c-.78.78-.78 2.05 0 2.83L4 21.41c.39.39.9.59 1.41.59.51 0 1.02-.2 1.41-.59l7.78-7.78 2.81-2.81c.8-.78.8-2.07 0-2.86zM5.41 20L4 18.59l7.72-7.72 1.47 1.35L5.41 20z\"/>\n",
              "  </svg>\n",
              "      </button>\n",
              "      \n",
              "  <style>\n",
              "    .colab-df-container {\n",
              "      display:flex;\n",
              "      flex-wrap:wrap;\n",
              "      gap: 12px;\n",
              "    }\n",
              "\n",
              "    .colab-df-convert {\n",
              "      background-color: #E8F0FE;\n",
              "      border: none;\n",
              "      border-radius: 50%;\n",
              "      cursor: pointer;\n",
              "      display: none;\n",
              "      fill: #1967D2;\n",
              "      height: 32px;\n",
              "      padding: 0 0 0 0;\n",
              "      width: 32px;\n",
              "    }\n",
              "\n",
              "    .colab-df-convert:hover {\n",
              "      background-color: #E2EBFA;\n",
              "      box-shadow: 0px 1px 2px rgba(60, 64, 67, 0.3), 0px 1px 3px 1px rgba(60, 64, 67, 0.15);\n",
              "      fill: #174EA6;\n",
              "    }\n",
              "\n",
              "    [theme=dark] .colab-df-convert {\n",
              "      background-color: #3B4455;\n",
              "      fill: #D2E3FC;\n",
              "    }\n",
              "\n",
              "    [theme=dark] .colab-df-convert:hover {\n",
              "      background-color: #434B5C;\n",
              "      box-shadow: 0px 1px 3px 1px rgba(0, 0, 0, 0.15);\n",
              "      filter: drop-shadow(0px 1px 2px rgba(0, 0, 0, 0.3));\n",
              "      fill: #FFFFFF;\n",
              "    }\n",
              "  </style>\n",
              "\n",
              "      <script>\n",
              "        const buttonEl =\n",
              "          document.querySelector('#df-31dfe54f-0320-44fe-8b39-08ec25ecda9e button.colab-df-convert');\n",
              "        buttonEl.style.display =\n",
              "          google.colab.kernel.accessAllowed ? 'block' : 'none';\n",
              "\n",
              "        async function convertToInteractive(key) {\n",
              "          const element = document.querySelector('#df-31dfe54f-0320-44fe-8b39-08ec25ecda9e');\n",
              "          const dataTable =\n",
              "            await google.colab.kernel.invokeFunction('convertToInteractive',\n",
              "                                                     [key], {});\n",
              "          if (!dataTable) return;\n",
              "\n",
              "          const docLinkHtml = 'Like what you see? Visit the ' +\n",
              "            '<a target=\"_blank\" href=https://colab.research.google.com/notebooks/data_table.ipynb>data table notebook</a>'\n",
              "            + ' to learn more about interactive tables.';\n",
              "          element.innerHTML = '';\n",
              "          dataTable['output_type'] = 'display_data';\n",
              "          await google.colab.output.renderOutput(dataTable, element);\n",
              "          const docLink = document.createElement('div');\n",
              "          docLink.innerHTML = docLinkHtml;\n",
              "          element.appendChild(docLink);\n",
              "        }\n",
              "      </script>\n",
              "    </div>\n",
              "  </div>\n",
              "  "
            ]
          },
          "metadata": {},
          "execution_count": 5
        }
      ]
    },
    {
      "cell_type": "code",
      "source": [
        "x_train = train.values[:,:2]\n",
        "x_test = test.values[:,:2]\n",
        "\n",
        "y_train = train.values[:,2]\n",
        "y_test = test.values[:,2]"
      ],
      "metadata": {
        "id": "WkabYIdkwJ3f"
      },
      "execution_count": null,
      "outputs": []
    },
    {
      "cell_type": "code",
      "source": [
        "x_train[:,None]"
      ],
      "metadata": {
        "id": "nUHEgBDkOGXn",
        "outputId": "22deb787-5679-493b-a269-ed6cf79ca1fc",
        "colab": {
          "base_uri": "https://localhost:8080/"
        }
      },
      "execution_count": null,
      "outputs": [
        {
          "output_type": "execute_result",
          "data": {
            "text/plain": [
              "array([[[5.1, 3.5]],\n",
              "\n",
              "       [[4.9, 3. ]],\n",
              "\n",
              "       [[4.7, 3.2]],\n",
              "\n",
              "       [[4.6, 3.1]],\n",
              "\n",
              "       [[5. , 3.6]],\n",
              "\n",
              "       [[5.4, 3.9]],\n",
              "\n",
              "       [[4.6, 3.4]],\n",
              "\n",
              "       [[5. , 3.4]],\n",
              "\n",
              "       [[4.4, 2.9]],\n",
              "\n",
              "       [[4.9, 3.1]],\n",
              "\n",
              "       [[5.4, 3.7]],\n",
              "\n",
              "       [[4.8, 3.4]],\n",
              "\n",
              "       [[4.8, 3. ]],\n",
              "\n",
              "       [[4.3, 3. ]],\n",
              "\n",
              "       [[5.8, 4. ]],\n",
              "\n",
              "       [[5.7, 4.4]],\n",
              "\n",
              "       [[5.4, 3.9]],\n",
              "\n",
              "       [[5.1, 3.5]],\n",
              "\n",
              "       [[5.7, 3.8]],\n",
              "\n",
              "       [[5.1, 3.8]],\n",
              "\n",
              "       [[5.4, 3.4]],\n",
              "\n",
              "       [[5.1, 3.7]],\n",
              "\n",
              "       [[4.6, 3.6]],\n",
              "\n",
              "       [[5.1, 3.3]],\n",
              "\n",
              "       [[4.8, 3.4]],\n",
              "\n",
              "       [[5. , 3. ]],\n",
              "\n",
              "       [[5. , 3.4]],\n",
              "\n",
              "       [[5.2, 3.5]],\n",
              "\n",
              "       [[5.2, 3.4]],\n",
              "\n",
              "       [[4.7, 3.2]],\n",
              "\n",
              "       [[4.8, 3.1]],\n",
              "\n",
              "       [[5.4, 3.4]],\n",
              "\n",
              "       [[5.2, 4.1]],\n",
              "\n",
              "       [[5.5, 4.2]],\n",
              "\n",
              "       [[4.9, 3.1]],\n",
              "\n",
              "       [[7. , 3.2]],\n",
              "\n",
              "       [[6.4, 3.2]],\n",
              "\n",
              "       [[6.9, 3.1]],\n",
              "\n",
              "       [[5.5, 2.3]],\n",
              "\n",
              "       [[6.5, 2.8]],\n",
              "\n",
              "       [[5.7, 2.8]],\n",
              "\n",
              "       [[6.3, 3.3]],\n",
              "\n",
              "       [[4.9, 2.4]],\n",
              "\n",
              "       [[6.6, 2.9]],\n",
              "\n",
              "       [[5.2, 2.7]],\n",
              "\n",
              "       [[5. , 2. ]],\n",
              "\n",
              "       [[5.9, 3. ]],\n",
              "\n",
              "       [[6. , 2.2]],\n",
              "\n",
              "       [[6.1, 2.9]],\n",
              "\n",
              "       [[5.6, 2.9]],\n",
              "\n",
              "       [[6.7, 3.1]],\n",
              "\n",
              "       [[5.6, 3. ]],\n",
              "\n",
              "       [[5.8, 2.7]],\n",
              "\n",
              "       [[6.2, 2.2]],\n",
              "\n",
              "       [[5.6, 2.5]],\n",
              "\n",
              "       [[5.9, 3.2]],\n",
              "\n",
              "       [[6.1, 2.8]],\n",
              "\n",
              "       [[6.3, 2.5]],\n",
              "\n",
              "       [[6.1, 2.8]],\n",
              "\n",
              "       [[6.4, 2.9]],\n",
              "\n",
              "       [[6.6, 3. ]],\n",
              "\n",
              "       [[6.8, 2.8]],\n",
              "\n",
              "       [[6.7, 3. ]],\n",
              "\n",
              "       [[6. , 2.9]],\n",
              "\n",
              "       [[5.7, 2.6]],\n",
              "\n",
              "       [[5.5, 2.4]],\n",
              "\n",
              "       [[5.5, 2.4]],\n",
              "\n",
              "       [[5.8, 2.7]],\n",
              "\n",
              "       [[6. , 2.7]],\n",
              "\n",
              "       [[5.4, 3. ]]])"
            ]
          },
          "metadata": {},
          "execution_count": 8
        }
      ]
    },
    {
      "cell_type": "code",
      "source": [
        "MARKERS = ['o', '*']\n",
        "COLORS = ['red', 'blue']\n",
        "\n",
        "def plot_points(xy, labels):\n",
        "    \n",
        "    for i, label in enumerate(set(labels)):\n",
        "        points = np.array([xy[j,:] for j in range(len(xy)) if labels[j] == label])\n",
        "        marker = MARKERS[i % len(MARKERS)]\n",
        "        color = COLORS[i % len(COLORS)]\n",
        "        plt.scatter(points[:,0], points[:,1], marker=marker, color=color)\n",
        "\n",
        "plot_points(x_train, y_train)"
      ],
      "metadata": {
        "id": "isvLsmLVmhYd",
        "outputId": "9621d9f0-fe19-4d42-84c6-dd3a002e54e2",
        "colab": {
          "base_uri": "https://localhost:8080/",
          "height": 268
        }
      },
      "execution_count": null,
      "outputs": [
        {
          "output_type": "display_data",
          "data": {
            "text/plain": [
              "<Figure size 432x288 with 1 Axes>"
            ],
            "image/png": "[encoded data removed]"
          },
          "metadata": {
            "needs_background": "light"
          }
        }
      ]
    },
    {
      "cell_type": "code",
      "source": [
        "x_train = x_train.T\n",
        "x_test = x_test.T\n",
        "\n",
        "y_train = y_train.reshape(1,-1)\n",
        "y_test = y_test.reshape(1,-1)\n",
        "x_train.shape, y_train.shape, x_test.shape, y_test.shape"
      ],
      "metadata": {
        "id": "x8OjDbauraD4",
        "outputId": "11b745be-6b78-4cb6-d647-bb70050519b1",
        "colab": {
          "base_uri": "https://localhost:8080/"
        }
      },
      "execution_count": null,
      "outputs": [
        {
          "output_type": "execute_result",
          "data": {
            "text/plain": [
              "((2, 70), (1, 70), (2, 30), (1, 30))"
            ]
          },
          "metadata": {},
          "execution_count": 88
        }
      ]
    },
    {
      "cell_type": "code",
      "source": [
        "def sigmoid(a):\n",
        "  return 1 / (1 + np.exp(-a))"
      ],
      "metadata": {
        "id": "fp9QfE0zS_pO"
      },
      "execution_count": null,
      "outputs": []
    },
    {
      "cell_type": "code",
      "source": [
        "def logistic_regression(X, Y, learning_rate, iterations):\n",
        "  m = X.shape[1]\n",
        "  n = X.shape[0]\n",
        "\n",
        "  B = 0\n",
        "  W = np.zeros((n, 1))\n",
        "\n",
        "  errors = []\n",
        "\n",
        "  for i in range(iterations):\n",
        "    Z = np.dot(W.T, X) + B\n",
        "    Y_pred = sigmoid(Z)\n",
        "\n",
        "    # loss function\n",
        "    loss = -(1/m) * np.sum(Y * np.log(Y_pred) + (1-Y) * np.log(1 - Y_pred))\n",
        "\n",
        "    # Gradient Descent \n",
        "    dW = (1/m) * np.dot(Y_pred - Y, X.T)\n",
        "    dB = (1/m) * np.sum(Y_pred - Y)\n",
        "\n",
        "    W = W - learning_rate * dW.T\n",
        "    B = B - learning_rate * dB\n",
        "\n",
        "    # keeping track of our cost function value\n",
        "    errors.append(loss)\n",
        "\n",
        "    if (i % (iterations/100) == 0):\n",
        "      print(f\"cost after {i} iterations is : {loss}\")\n",
        "\n",
        "  return W, B, errors"
      ],
      "metadata": {
        "id": "cjcAKst0Tsvu"
      },
      "execution_count": null,
      "outputs": []
    },
    {
      "cell_type": "code",
      "source": [
        "iterations = 10000\n",
        "learning_rate = 0.05\n",
        "W, B, errors = logistic_regression(x_train, y_train, learning_rate, iterations)"
      ],
      "metadata": {
        "id": "v0QZi2BuZYN_",
        "outputId": "035bce56-ef85-45fc-a07a-a2d4743fba7a",
        "colab": {
          "base_uri": "https://localhost:8080/"
        }
      },
      "execution_count": null,
      "outputs": [
        {
          "output_type": "stream",
          "name": "stdout",
          "text": [
            "cost after 0 iterations is : 0.6931471805599454\n",
            "cost after 100 iterations is : 0.4444298254603646\n",
            "cost after 200 iterations is : 0.3274923017924057\n",
            "cost after 300 iterations is : 0.2622430018754115\n",
            "cost after 400 iterations is : 0.22093470387363684\n",
            "cost after 500 iterations is : 0.19241562680393912\n",
            "cost after 600 iterations is : 0.171486086953852\n",
            "cost after 700 iterations is : 0.1554229927407999\n",
            "cost after 800 iterations is : 0.14266837945859254\n",
            "cost after 900 iterations is : 0.1322677757810306\n",
            "cost after 1000 iterations is : 0.12360392444097608\n",
            "cost after 1100 iterations is : 0.11625980970825711\n",
            "cost after 1200 iterations is : 0.10994337810005023\n",
            "cost after 1300 iterations is : 0.10444384464311281\n",
            "cost after 1400 iterations is : 0.09960514691394699\n",
            "cost after 1500 iterations is : 0.09530918011987563\n",
            "cost after 1600 iterations is : 0.09146485140210357\n",
            "cost after 1700 iterations is : 0.08800072442425608\n",
            "cost after 1800 iterations is : 0.08485995029121407\n",
            "cost after 1900 iterations is : 0.08199669547521991\n",
            "cost after 2000 iterations is : 0.0793735743528172\n",
            "cost after 2100 iterations is : 0.07695977086857232\n",
            "cost after 2200 iterations is : 0.07472964230718981\n",
            "cost after 2300 iterations is : 0.07266166638280033\n",
            "cost after 2400 iterations is : 0.07073763677304595\n",
            "cost after 2500 iterations is : 0.06894204109422655\n",
            "cost after 2600 iterations is : 0.06726157465413686\n",
            "cost after 2700 iterations is : 0.06568475650338998\n",
            "cost after 2800 iterations is : 0.06420162343802431\n",
            "cost after 2900 iterations is : 0.06280348402499067\n",
            "cost after 3000 iterations is : 0.061482719295412935\n",
            "cost after 3100 iterations is : 0.060232620050097704\n",
            "cost after 3200 iterations is : 0.05904725313031119\n",
            "cost after 3300 iterations is : 0.057921350784183076\n",
            "cost after 3400 iterations is : 0.056850218584017835\n",
            "cost after 3500 iterations is : 0.055829658346888855\n",
            "cost after 3600 iterations is : 0.05485590326797777\n",
            "cost after 3700 iterations is : 0.0539255630558042\n",
            "cost after 3800 iterations is : 0.053035577305850214\n",
            "cost after 3900 iterations is : 0.05218317569689451\n",
            "cost after 4000 iterations is : 0.05136584386669601\n",
            "cost after 4100 iterations is : 0.05058129403830162\n",
            "cost after 4200 iterations is : 0.04982743963849059\n",
            "cost after 4300 iterations is : 0.049102373285700586\n",
            "cost after 4400 iterations is : 0.048404347633773596\n",
            "cost after 4500 iterations is : 0.047731758645797644\n",
            "cost after 4600 iterations is : 0.04708313094362363\n",
            "cost after 4700 iterations is : 0.04645710493675141\n",
            "cost after 4800 iterations is : 0.04585242548185156\n",
            "cost after 4900 iterations is : 0.04526793186331876\n",
            "cost after 5000 iterations is : 0.04470254891756729\n",
            "cost after 5100 iterations is : 0.044155279150578826\n",
            "cost after 5200 iterations is : 0.043625195720526797\n",
            "cost after 5300 iterations is : 0.043111436175946795\n",
            "cost after 5400 iterations is : 0.04261319685556544\n",
            "cost after 5500 iterations is : 0.042129727869060704\n",
            "cost after 5600 iterations is : 0.041660328589144945\n",
            "cost after 5700 iterations is : 0.0412043435947787\n",
            "cost after 5800 iterations is : 0.040761159013327594\n",
            "cost after 5900 iterations is : 0.040330199216294105\n",
            "cost after 6000 iterations is : 0.03991092382908929\n",
            "cost after 6100 iterations is : 0.039502825020306734\n",
            "cost after 6200 iterations is : 0.039105425040256284\n",
            "cost after 6300 iterations is : 0.03871827398221948\n",
            "cost after 6400 iterations is : 0.03834094774308253\n",
            "cost after 6500 iterations is : 0.03797304616277621\n",
            "cost after 6600 iterations is : 0.03761419132435195\n",
            "cost after 6700 iterations is : 0.03726402599861695\n",
            "cost after 6800 iterations is : 0.036922212219073394\n",
            "cost after 6900 iterations is : 0.03658842997449929\n",
            "cost after 7000 iterations is : 0.03626237600790375\n",
            "cost after 7100 iterations is : 0.03594376271181361\n",
            "cost after 7200 iterations is : 0.03563231711092103\n",
            "cost after 7300 iterations is : 0.03532777992407336\n",
            "cost after 7400 iterations is : 0.03502990469841722\n",
            "cost after 7500 iterations is : 0.03473845700925072\n",
            "cost after 7600 iterations is : 0.03445321371978997\n",
            "cost after 7700 iterations is : 0.03417396229563697\n",
            "cost after 7800 iterations is : 0.03390050016924963\n",
            "cost after 7900 iterations is : 0.03363263415017486\n",
            "cost after 8000 iterations is : 0.03337017987721201\n",
            "cost after 8100 iterations is : 0.033112961309040415\n",
            "cost after 8200 iterations is : 0.03286081025016888\n",
            "cost after 8300 iterations is : 0.0326135659093588\n",
            "cost after 8400 iterations is : 0.03237107448792983\n",
            "cost after 8500 iterations is : 0.03213318879559734\n",
            "cost after 8600 iterations is : 0.031899767891696504\n",
            "cost after 8700 iterations is : 0.031670676749840525\n",
            "cost after 8800 iterations is : 0.03144578594423042\n",
            "cost after 8900 iterations is : 0.031224971355988576\n",
            "cost after 9000 iterations is : 0.031008113898026997\n",
            "cost after 9100 iterations is : 0.03079509925708747\n",
            "cost after 9200 iterations is : 0.030585817651704796\n",
            "cost after 9300 iterations is : 0.030380163604947663\n",
            "cost after 9400 iterations is : 0.030178035730885976\n",
            "cost after 9500 iterations is : 0.029979336533817465\n",
            "cost after 9600 iterations is : 0.02978397221936573\n",
            "cost after 9700 iterations is : 0.029591852516629928\n",
            "cost after 9800 iterations is : 0.02940289051063379\n",
            "cost after 9900 iterations is : 0.029217002484376427\n"
          ]
        }
      ]
    },
    {
      "cell_type": "code",
      "source": [
        "plt.plot(np.arange(iterations), errors)\n",
        "plt.show()"
      ],
      "metadata": {
        "id": "ZEKGIejffCx5",
        "outputId": "038dbde4-34b2-491a-cd4b-4bd425f83a63",
        "colab": {
          "base_uri": "https://localhost:8080/",
          "height": 265
        }
      },
      "execution_count": null,
      "outputs": [
        {
          "output_type": "display_data",
          "data": {
            "text/plain": [
              "<Figure size 432x288 with 1 Axes>"
            ],
            "image/png": "[encoded data removed]"
          },
          "metadata": {
            "needs_background": "light"
          }
        }
      ]
    },
    {
      "cell_type": "code",
      "source": [
        "def accuracy(X, Y, W, B):\n",
        "    \n",
        "    Z = np.dot(W.T, X) + B\n",
        "    A = sigmoid(Z)\n",
        "    \n",
        "    A = A > 0.5\n",
        "    \n",
        "    A = np.array(A, dtype = 'int64')\n",
        "    \n",
        "    acc = (1 - np.sum(np.absolute(A - Y))/Y.shape[1])*100\n",
        "    \n",
        "    print(\"Accuracy of the model is : \", round(acc, 2), \"%\")\n",
        "\n",
        "accuracy(x_test, y_test, W, B)"
      ],
      "metadata": {
        "id": "rFhL6fQ7h1f2",
        "outputId": "af939def-601c-4883-db65-80bdbce37ffc",
        "colab": {
          "base_uri": "https://localhost:8080/"
        }
      },
      "execution_count": null,
      "outputs": [
        {
          "output_type": "stream",
          "name": "stdout",
          "text": [
            "Accuracy of the model is :  96.67 %\n"
          ]
        }
      ]
    },
    {
      "cell_type": "markdown",
      "source": [
        "# 5.\t\n",
        "Download the MNIST dataset using the following example code:"
      ],
      "metadata": {
        "id": "Q3exjma7bkZC"
      }
    },
    {
      "cell_type": "code",
      "source": [
        "##############################################\n",
        "from __future__ import print_function\n",
        "import keras\n",
        "from keras.datasets import mnist\n",
        "\n",
        "# input image dimensions 28x28\n",
        "img_rows, img_cols = 28, 28\n",
        "\n",
        "# the data, split between train and test sets\n",
        "(x_train, y_train), (x_test, y_test) = mnist.load_data()\n",
        "\n",
        "x_train = x_train.astype('float32')\n",
        "x_test = x_test.astype('float32')\n",
        "x_train /= 255\n",
        "x_test /= 255\n",
        "##############################################"
      ],
      "metadata": {
        "id": "JSCg_eRvboKl",
        "colab": {
          "base_uri": "https://localhost:8080/"
        },
        "outputId": "690b09ad-34bb-42e2-9ded-e5d1da8ef856"
      },
      "execution_count": 2,
      "outputs": [
        {
          "output_type": "stream",
          "name": "stdout",
          "text": [
            "Downloading data from https://storage.googleapis.com/tensorflow/tf-keras-datasets/mnist.npz\n",
            "11490434/11490434 [==============================] - 0s 0us/step\n"
          ]
        }
      ]
    },
    {
      "cell_type": "code",
      "source": [
        "x_train.shape, y_train.shape, x_test.shape, y_test.shape"
      ],
      "metadata": {
        "colab": {
          "base_uri": "https://localhost:8080/"
        },
        "id": "gvIPd82PGjXF",
        "outputId": "98a8fc2f-b544-4651-e3bc-2957705c8989"
      },
      "execution_count": null,
      "outputs": [
        {
          "output_type": "execute_result",
          "data": {
            "text/plain": [
              "((60000, 28, 28), (60000,), (10000, 28, 28), (10000,))"
            ]
          },
          "metadata": {},
          "execution_count": 3
        }
      ]
    },
    {
      "cell_type": "markdown",
      "source": [
        "Please randomly choose 1,000 different handwritten images from either the training or the testing dataset to construct your own dataset, where each digit has 100 data samples.\n",
        "\n"
      ],
      "metadata": {
        "id": "D_W0eoTtbzqW"
      }
    },
    {
      "cell_type": "code",
      "source": [
        "!pip install numpy_indexed -q"
      ],
      "metadata": {
        "id": "AYKLEb6x4my-"
      },
      "execution_count": 3,
      "outputs": []
    },
    {
      "cell_type": "code",
      "source": [
        "import numpy_indexed as npi # used to get the unique values in a numpy array \n",
        "                            # and their corresponding list of indices"
      ],
      "metadata": {
        "id": "QobcOGksd7MN"
      },
      "execution_count": 4,
      "outputs": []
    },
    {
      "cell_type": "code",
      "source": [
        "# a function to sample n samples from each category\n",
        "def take_n_samples(x, y, n):\n",
        "  # get the list of indices for each digit\n",
        "  _, idx_groups = npi.group_by(y, np.arange(len(y)))\n",
        "\n",
        "  indices = []\n",
        "\n",
        "  for i in range(len(idx_groups)):\n",
        "    indexes = np.random.choice(idx_groups[i], n)\n",
        "    indices.append(list(indexes))\n",
        "  \n",
        "  indices = np.array(indices).flatten()\n",
        "  np.random.shuffle(indices) # shuffle the indices before getting the data parts\n",
        "  \n",
        "  x_sample = x_train[indices]\n",
        "  \n",
        "  y_sample = y_train[indices]\n",
        "  \n",
        "  return x_sample, y_sample\n",
        "\n",
        "x_test, y_test = take_n_samples(x_train, y_train, 100)\n",
        "x_test.shape, y_test.shape"
      ],
      "metadata": {
        "colab": {
          "base_uri": "https://localhost:8080/"
        },
        "id": "JGldshJ4eQDF",
        "outputId": "37e0dc0c-6cd8-4045-986b-e8711b712f8a"
      },
      "execution_count": 5,
      "outputs": [
        {
          "output_type": "execute_result",
          "data": {
            "text/plain": [
              "((1000, 28, 28), (1000,))"
            ]
          },
          "metadata": {},
          "execution_count": 5
        }
      ]
    },
    {
      "cell_type": "markdown",
      "source": [
        "## 5.1.\t\n",
        "(5%) Use the following code to show 50 images in your own dataset. "
      ],
      "metadata": {
        "id": "Ie9RqEHtaY4q"
      }
    },
    {
      "cell_type": "code",
      "source": [
        "##############################################\n",
        "amount= 50\n",
        "lines = 5\n",
        "columns = 10\n",
        "number = np.zeros(amount)\n",
        "\n",
        "for i in range(amount):\n",
        "    number[i] = y_test[i]\n",
        "    # print(number[0])\n",
        "\n",
        "fig = plt.figure()\n",
        "\n",
        "for i in range(amount):\n",
        "    ax = fig.add_subplot(lines, columns, 1 + i)\n",
        "    plt.imshow(x_test[i,:,:], cmap='binary')\n",
        "    #plt.imshow(x_test[i,:], cmap='binary')\n",
        "    plt.sca(ax)\n",
        "    ax.set_xticks([], [])\n",
        "    ax.set_yticks([], [])\n",
        "\n",
        "plt.show()\n",
        "##############################################"
      ],
      "metadata": {
        "colab": {
          "base_uri": "https://localhost:8080/",
          "height": 298
        },
        "id": "JMy3qWSp8zVm",
        "outputId": "eb3cbc12-6a8c-40bc-ea5b-290917f7e309"
      },
      "execution_count": 6,
      "outputs": [
        {
          "output_type": "stream",
          "name": "stderr",
          "text": [
            "/usr/local/lib/python3.7/dist-packages/ipykernel_launcher.py:18: MatplotlibDeprecationWarning: Passing the minor parameter of set_xticks() positionally is deprecated since Matplotlib 3.2; the parameter will become keyword-only two minor releases later.\n",
            "/usr/local/lib/python3.7/dist-packages/ipykernel_launcher.py:19: MatplotlibDeprecationWarning: Passing the minor parameter of set_yticks() positionally is deprecated since Matplotlib 3.2; the parameter will become keyword-only two minor releases later.\n"
          ]
        },
        {
          "output_type": "display_data",
          "data": {
            "text/plain": [
              "<Figure size 432x288 with 50 Axes>"
            ],
            "image/png": "[encoded data removed]"
          },
          "metadata": {}
        }
      ]
    },
    {
      "cell_type": "markdown",
      "source": [
        "## 5.2.\t\n",
        "(15%) Normalize the data (subtracting the mean from it and then dividing it by the standard deviation) and compute the eigenpairs for the covariance of the data (sorted in a descending order based on eigenvalues)."
      ],
      "metadata": {
        "id": "zYaAQ-c9b4jG"
      }
    },
    {
      "cell_type": "code",
      "source": [
        "std = np.std(x_test, axis=0)\n",
        "std_filled = std.copy()\n",
        "std_filled[std==0] = 1."
      ],
      "metadata": {
        "id": "wUaQN5ozMc6O"
      },
      "execution_count": 9,
      "outputs": []
    },
    {
      "cell_type": "code",
      "source": [
        "0 in std, 0 in std_filled"
      ],
      "metadata": {
        "id": "S9cCSmI8NE0j",
        "outputId": "73c0546d-bbc4-4a0e-82b3-e4f8b1b9dec6",
        "colab": {
          "base_uri": "https://localhost:8080/"
        }
      },
      "execution_count": 10,
      "outputs": [
        {
          "output_type": "execute_result",
          "data": {
            "text/plain": [
              "(True, False)"
            ]
          },
          "metadata": {},
          "execution_count": 10
        }
      ]
    },
    {
      "cell_type": "code",
      "source": [
        "std==0"
      ],
      "metadata": {
        "id": "emr9JqpuNad3"
      },
      "execution_count": null,
      "outputs": []
    },
    {
      "cell_type": "code",
      "source": [
        "def normalize(X): \n",
        "    # N, D = X.shape\n",
        "    # mu = np.zeros((D,)) # the mean of X\n",
        "    x_mean = np.mean(X, axis=0) \n",
        "    std = np.std(X, axis=0) \n",
        "    if 0 in std: # to handle zero values in std and avoid NaN in the normalized data\n",
        "      std[std==0] = 1.0\n",
        "    x_norm = (X-x_mean) /std # there are some zero values in the std making division undefined.\n",
        "    return x_norm, x_mean, std"
      ],
      "metadata": {
        "id": "DTqu-uSQbYuf"
      },
      "execution_count": 12,
      "outputs": []
    },
    {
      "cell_type": "code",
      "source": [
        "x_test = np.reshape(x_test, (x_test.shape[0], -1))\n",
        "x_norm, x_mean, std = normalize(x_test)\n",
        "x_norm.shape, x_mean.shape, std.shape"
      ],
      "metadata": {
        "id": "f2ZfHrZezm7w",
        "outputId": "a7023d7d-dcdb-42ad-81e4-62048396da60",
        "colab": {
          "base_uri": "https://localhost:8080/"
        }
      },
      "execution_count": 13,
      "outputs": [
        {
          "output_type": "execute_result",
          "data": {
            "text/plain": [
              "((1000, 784), (784,), (784,))"
            ]
          },
          "metadata": {},
          "execution_count": 13
        }
      ]
    },
    {
      "cell_type": "code",
      "source": [
        "np.isnan(x_test).any(), np.isnan(x_norm).any(), np.isnan(x_mean).any(), np.isnan(std).any()"
      ],
      "metadata": {
        "id": "xxSTf46yTDHq",
        "outputId": "46bfdba4-7aa1-4865-ae17-082a49612ade",
        "colab": {
          "base_uri": "https://localhost:8080/"
        }
      },
      "execution_count": 14,
      "outputs": [
        {
          "output_type": "execute_result",
          "data": {
            "text/plain": [
              "(False, False, False, False)"
            ]
          },
          "metadata": {},
          "execution_count": 14
        }
      ]
    },
    {
      "cell_type": "markdown",
      "source": [
        "**Covariance**"
      ],
      "metadata": {
        "id": "9VkM9QpLze-y"
      }
    },
    {
      "cell_type": "code",
      "source": [
        "cov = np.cov(x_norm.T)\n",
        "cov = cov.astype(float)\n",
        "cov.shape "
      ],
      "metadata": {
        "id": "HlVudgIIND-p",
        "outputId": "c77b01ed-ff52-44ac-baf8-46867fd0a765",
        "colab": {
          "base_uri": "https://localhost:8080/"
        }
      },
      "execution_count": 15,
      "outputs": [
        {
          "output_type": "execute_result",
          "data": {
            "text/plain": [
              "(784, 784)"
            ]
          },
          "metadata": {},
          "execution_count": 15
        }
      ]
    },
    {
      "cell_type": "code",
      "source": [
        "cov"
      ],
      "metadata": {
        "colab": {
          "base_uri": "https://localhost:8080/"
        },
        "id": "ajA3dSRMDHS4",
        "outputId": "c30ba15c-3b32-453b-8984-ec141dfe9d97"
      },
      "execution_count": 16,
      "outputs": [
        {
          "output_type": "execute_result",
          "data": {
            "text/plain": [
              "array([[0., 0., 0., ..., 0., 0., 0.],\n",
              "       [0., 0., 0., ..., 0., 0., 0.],\n",
              "       [0., 0., 0., ..., 0., 0., 0.],\n",
              "       ...,\n",
              "       [0., 0., 0., ..., 0., 0., 0.],\n",
              "       [0., 0., 0., ..., 0., 0., 0.],\n",
              "       [0., 0., 0., ..., 0., 0., 0.]])"
            ]
          },
          "metadata": {},
          "execution_count": 16
        }
      ]
    },
    {
      "cell_type": "markdown",
      "source": [
        "**Eigenpairs** for the covariance of the data (sorted in a descending order based on eigenvalues)"
      ],
      "metadata": {
        "id": "XmnIDK_Cz0mB"
      }
    },
    {
      "cell_type": "code",
      "source": [
        "eigvals, eigvecs = np.linalg.eig(cov) # get eigen values and eigen vectors\n",
        "sort_indices = np.argsort(eigvals) # sort in ascending order\n",
        "sort_indices = np.flip(sort_indices) # reverse in decreasing order\n",
        "eigvals, eigvecs = eigvals[sort_indices], eigvecs[sort_indices]"
      ],
      "metadata": {
        "id": "vc0JM3OZOHCu"
      },
      "execution_count": 17,
      "outputs": []
    },
    {
      "cell_type": "code",
      "source": [
        "eigvals[:200].shape"
      ],
      "metadata": {
        "id": "c2x9ZsPYNWfM",
        "colab": {
          "base_uri": "https://localhost:8080/"
        },
        "outputId": "e3cd159d-dc71-4204-c42e-290d0b182af1"
      },
      "execution_count": 18,
      "outputs": [
        {
          "output_type": "execute_result",
          "data": {
            "text/plain": [
              "(200,)"
            ]
          },
          "metadata": {},
          "execution_count": 18
        }
      ]
    },
    {
      "cell_type": "code",
      "source": [
        "eigvecs[:200].shape"
      ],
      "metadata": {
        "id": "0bpSCaaMQzpr",
        "colab": {
          "base_uri": "https://localhost:8080/"
        },
        "outputId": "437253b9-798b-4a56-8345-826f3b379edc"
      },
      "execution_count": 19,
      "outputs": [
        {
          "output_type": "execute_result",
          "data": {
            "text/plain": [
              "(200, 784)"
            ]
          },
          "metadata": {},
          "execution_count": 19
        }
      ]
    },
    {
      "cell_type": "markdown",
      "source": [
        "## 5.3.\t \n",
        "(15%) Please use PCA to reduce the 784-dimensional data to that with 500, 300, 100, and 50 dimensions, and then show the decoding results, respectively. How do you interpret the results?"
      ],
      "metadata": {
        "id": "_ldpb0KN0l65"
      }
    },
    {
      "cell_type": "code",
      "source": [
        "_500_comps = eigvecs[:500] # 500 principal components\n",
        "_300_comps = eigvecs[:300]\n",
        "_100_comps = eigvecs[:100]\n",
        "_50_comps = eigvecs[:50]"
      ],
      "metadata": {
        "id": "JaqeGLaP097r"
      },
      "execution_count": null,
      "outputs": []
    },
    {
      "cell_type": "code",
      "source": [
        "_50_comps.shape, x_test.shape # x_test better to be transposed before multiplying"
      ],
      "metadata": {
        "id": "uinlnJHA-IwV",
        "outputId": "6c85c11c-53a0-441b-8693-fca57ccffa9c",
        "colab": {
          "base_uri": "https://localhost:8080/"
        }
      },
      "execution_count": null,
      "outputs": [
        {
          "output_type": "execute_result",
          "data": {
            "text/plain": [
              "((50, 784), (1000, 784))"
            ]
          },
          "metadata": {},
          "execution_count": 44
        }
      ]
    },
    {
      "cell_type": "code",
      "source": [
        "_500_dim = np.matmul(_500_comps, x_test.T).T # The outer transpose is only for \n",
        "_300_dim = np.matmul(_300_comps, x_test.T).T # purpose of rearranging the appearance.\n",
        "_100_dim = np.matmul(_100_comps, x_test.T).T\n",
        "_50_dim = np.matmul(_50_comps, x_test.T).T"
      ],
      "metadata": {
        "id": "dEZoFGAQ_LiM"
      },
      "execution_count": null,
      "outputs": []
    },
    {
      "cell_type": "code",
      "source": [
        "_500_dim.shape, _300_dim.shape, _100_dim.shape , _50_dim.shape"
      ],
      "metadata": {
        "id": "mc0gc-eO_6W-",
        "outputId": "e1f205b5-9aad-4a94-b2c7-bff374c68904",
        "colab": {
          "base_uri": "https://localhost:8080/"
        }
      },
      "execution_count": null,
      "outputs": [
        {
          "output_type": "execute_result",
          "data": {
            "text/plain": [
              "((1000, 500), (1000, 300), (1000, 100), (1000, 50))"
            ]
          },
          "metadata": {},
          "execution_count": 49
        }
      ]
    }
  ]
}