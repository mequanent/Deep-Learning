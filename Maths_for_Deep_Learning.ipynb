{
  "nbformat": 4,
  "nbformat_minor": 0,
  "metadata": {
    "colab": {
      "provenance": [],
      "toc_visible": true,
      "authorship_tag": "ABX9TyNh4WAw02Qv27doGZWyl98Z",
      "include_colab_link": true
    },
    "kernelspec": {
      "name": "python3",
      "display_name": "Python 3"
    },
    "language_info": {
      "name": "python"
    }
  },
  "cells": [
    {
      "cell_type": "markdown",
      "metadata": {
        "id": "view-in-github",
        "colab_type": "text"
      },
      "source": [
        "<a href=\"https://colab.research.google.com/github/mequanent/Deep-Learning/blob/main/Maths_for_Deep_Learning.ipynb\" target=\"_parent\"><img src=\"https://colab.research.google.com/assets/colab-badge.svg\" alt=\"Open In Colab\"/></a>"
      ]
    },
    {
      "cell_type": "code",
      "execution_count": 1,
      "metadata": {
        "id": "RyezgA66XxDe",
        "outputId": "6b769cc0-e0e5-40b6-fe9b-b6e7be6d63a6",
        "colab": {
          "base_uri": "https://localhost:8080/"
        }
      },
      "outputs": [
        {
          "output_type": "stream",
          "name": "stdout",
          "text": [
            "\u001b[K\u001b[?25hnpx: installed 1 in 1.934s\n",
            "\u001b[36m> destination directory is not empty. Using --force, continuing\u001b[39m\n",
            "\u001b[36m> cloned \u001b[1mmequanent/Deep-Learning\u001b[22m#\u001b[1mHEAD\u001b[22m\u001b[39m\n"
          ]
        }
      ],
      "source": [
        "# Clone the repository first using the following command\n",
        "!npx degit https://github.com/mequanent/Deep-Learning -f"
      ]
    },
    {
      "cell_type": "markdown",
      "source": [
        "# Libraries"
      ],
      "metadata": {
        "id": "T3YtAs4Eexv2"
      }
    },
    {
      "cell_type": "code",
      "source": [
        "from scipy.io import loadmat\n",
        "import matplotlib.pyplot as plt\n",
        "import numpy as np\n",
        "import pandas as pd\n",
        "import random\n",
        "\n",
        "%matplotlib inline"
      ],
      "metadata": {
        "id": "8MPYBxWVZmLt"
      },
      "execution_count": 1,
      "outputs": []
    },
    {
      "cell_type": "markdown",
      "source": [
        "Load ‘data.mat’ into your Python code, where you will find $x,y∈R^{1001}$. "
      ],
      "metadata": {
        "id": "XUC2Uq2Tl2pe"
      }
    },
    {
      "cell_type": "markdown",
      "source": [
        "# Dataset"
      ],
      "metadata": {
        "id": "xq7smfVze0bM"
      }
    },
    {
      "cell_type": "code",
      "source": [
        "data = loadmat(r\"Ex1/data.mat\")\n",
        "x = data['x']#.flatten()\n",
        "y = data['y']#.flatten()"
      ],
      "metadata": {
        "id": "922F2jnZhMp-"
      },
      "execution_count": 3,
      "outputs": []
    },
    {
      "cell_type": "markdown",
      "source": [
        "# 1"
      ],
      "metadata": {
        "id": "25132D6jmpvF"
      }
    },
    {
      "cell_type": "markdown",
      "source": [
        "## a. \n",
        "Plot the data using plot function. "
      ],
      "metadata": {
        "id": "7KR5FvHefCSv"
      }
    },
    {
      "cell_type": "markdown",
      "source": [
        "**Plot**"
      ],
      "metadata": {
        "id": "EZRYCHhZjOjR"
      }
    },
    {
      "cell_type": "code",
      "source": [
        "plt.figure(num=0, dpi=120)\n",
        "plt.plot(x, y)\n",
        "plt.title(\"x-y plot\")\n",
        "plt.xlabel(\"x\")\n",
        "plt.ylabel(\"y\")\n"
      ],
      "metadata": {
        "id": "w6YTtd3VjkQ4",
        "outputId": "6224d75c-ace6-4263-a9e8-2b601b2e2e7f",
        "colab": {
          "base_uri": "https://localhost:8080/",
          "height": 499
        }
      },
      "execution_count": null,
      "outputs": [
        {
          "output_type": "execute_result",
          "data": {
            "text/plain": [
              "Text(0, 0.5, 'y')"
            ]
          },
          "metadata": {},
          "execution_count": 23
        },
        {
          "output_type": "display_data",
          "data": {
            "text/plain": [
              "<Figure size 720x480 with 1 Axes>"
            ],
            "image/png": "[encoded data removed]"
          },
          "metadata": {
            "needs_background": "light"
          }
        }
      ]
    },
    {
      "cell_type": "markdown",
      "source": [
        "## b. \n",
        "Compute the least square line $y=θ_0+xθ_1$ using the given data and overlay the line over the given data."
      ],
      "metadata": {
        "id": "Lfcf7oZtmvSG"
      }
    },
    {
      "cell_type": "code",
      "source": [
        "ones = np.repeat(1, len(x)) # coefficients for θ0 to have one column in x\n",
        "X1 = np.array([ones, x.flatten()]) # insert the ones at the left of x as coefficient of θ0\n",
        "θ = np.matmul(np.linalg.pinv(X1.T), (y))\n",
        "θ = θ.flatten()\n",
        "θ10, θ11 = θ[0], θ[1]\n",
        "Y1 = θ10 + θ11 * x"
      ],
      "metadata": {
        "id": "uJEB7qs2SheK"
      },
      "execution_count": 32,
      "outputs": []
    },
    {
      "cell_type": "code",
      "source": [
        "# plot y = θ10 + xθ11\n",
        "\n",
        "plt.figure(num=0, dpi=120)\n",
        "plt.plot(x, y, label = r\"expected\")\n",
        "plt.plot(x, Y1, \"r\", label=\"$y=θ_0+xθ_1$\")\n",
        "plt.title(\"x-y plot\")\n",
        "plt.xlabel(\"x\")\n",
        "plt.ylabel(\"y\")\n",
        "plt.legend()"
      ],
      "metadata": {
        "colab": {
          "base_uri": "https://localhost:8080/",
          "height": 499
        },
        "id": "M_PNc4Vfid2q",
        "outputId": "8b2a9b30-5382-4daf-a42b-2f407e438c26"
      },
      "execution_count": 33,
      "outputs": [
        {
          "output_type": "execute_result",
          "data": {
            "text/plain": [
              "<matplotlib.legend.Legend at 0x7f88fa313b90>"
            ]
          },
          "metadata": {},
          "execution_count": 33
        },
        {
          "output_type": "display_data",
          "data": {
            "text/plain": [
              "<Figure size 720x480 with 1 Axes>"
            ],
            "image/png": "[encoded data removed]"
          },
          "metadata": {
            "needs_background": "light"
          }
        }
      ]
    },
    {
      "cell_type": "markdown",
      "source": [
        "# 2. \n",
        "Using the same data from Question 2, compute the least square parabola (i.e. second order polynomial $y=θ_0+xθ_1+x^2 θ_2)$ to fit the data. (5%) Explain which formulation (line or parabola) is more suitable for this dataset and why (please calculate the mean square error for these two fitting equations)?"
      ],
      "metadata": {
        "id": "i21HQF0U-uEw"
      }
    },
    {
      "cell_type": "markdown",
      "source": [
        "First, find $θ_0, θ_1, θ_2$."
      ],
      "metadata": {
        "id": "lVDpV76ikptf"
      }
    },
    {
      "cell_type": "code",
      "source": [
        "ones = np.repeat(1, len(x)) # coefficients for θ0 to have one column in x\n",
        "squares = (x**2).flatten() # x^2 to be multiplied by θ2 as third columns\n",
        "X2 = np.array([ones, x.flatten(), squares]) # insert the ones at the left \n",
        "                                            #and squares on the right of x \n",
        "X2 = X2.T\n",
        "X2.shape"
      ],
      "metadata": {
        "id": "SKF3IuucvcAI",
        "colab": {
          "base_uri": "https://localhost:8080/"
        },
        "outputId": "e23de1ba-54bf-4821-f6eb-f5df9fd4fb6f"
      },
      "execution_count": 34,
      "outputs": [
        {
          "output_type": "execute_result",
          "data": {
            "text/plain": [
              "(1001, 3)"
            ]
          },
          "metadata": {},
          "execution_count": 34
        }
      ]
    },
    {
      "cell_type": "code",
      "source": [
        "θ2 = np.matmul(np.linalg.pinv(X2), (y))\n",
        "θ2 = θ2.flatten()\n",
        "θ20, θ21, θ22 = θ2[0], θ2[1], θ2[2]\n",
        "θ20, θ21, θ22"
      ],
      "metadata": {
        "colab": {
          "base_uri": "https://localhost:8080/"
        },
        "id": "Jo8RVh5GIybr",
        "outputId": "6853bc03-1b75-4496-c773-0a1e2c23f8c8"
      },
      "execution_count": 36,
      "outputs": [
        {
          "output_type": "execute_result",
          "data": {
            "text/plain": [
              "(1.178945987733097, 0.14356709045621222, 5.837350079181328)"
            ]
          },
          "metadata": {},
          "execution_count": 36
        }
      ]
    },
    {
      "cell_type": "code",
      "source": [
        "# Predict the expected values of y\n",
        "Y2 = θ20 + θ21 * x + θ22 * (x ** 2)"
      ],
      "metadata": {
        "id": "fg2y_TaafeSn"
      },
      "execution_count": 37,
      "outputs": []
    },
    {
      "cell_type": "code",
      "source": [
        "plt.figure(num=0, dpi=120) \n",
        "plt.plot(x, y, label = r\"expected\") \n",
        "plt.plot(x, Y2, \"r\", label=\"$y=θ_0+xθ_1+x^2θ_2$\") \n",
        "plt.title(\"x-y plot\") \n",
        "plt.xlabel(\"x\")\n",
        "plt.ylabel(\"y\")\n",
        "plt.legend()"
      ],
      "metadata": {
        "colab": {
          "base_uri": "https://localhost:8080/",
          "height": 499
        },
        "id": "BaO4yqkDjuVd",
        "outputId": "fd469d75-2311-436d-f644-55d90fb8989f"
      },
      "execution_count": 38,
      "outputs": [
        {
          "output_type": "execute_result",
          "data": {
            "text/plain": [
              "<matplotlib.legend.Legend at 0x7f88ec238d10>"
            ]
          },
          "metadata": {},
          "execution_count": 38
        },
        {
          "output_type": "display_data",
          "data": {
            "text/plain": [
              "<Figure size 720x480 with 1 Axes>"
            ],
            "image/png": "[encoded data removed]"
          },
          "metadata": {
            "needs_background": "light"
          }
        }
      ]
    },
    {
      "cell_type": "code",
      "source": [
        "# Mean squared error\n",
        "from sklearn.metrics import mean_squared_error\n",
        "\n",
        "rmse1 = np.sqrt(mean_squared_error(y,Y1)) # for linear least square\n",
        "rmse2 = np.sqrt(mean_squared_error(y,Y2)) # for quadratic least square\n",
        "print(f\"rmse for line is: {rmse1} while rmse for parabola is: {rmse2}.\")"
      ],
      "metadata": {
        "colab": {
          "base_uri": "https://localhost:8080/"
        },
        "id": "GzzVAyXIjvbI",
        "outputId": "4b36b311-4fdc-4a09-acbb-be9d2af2682f"
      },
      "execution_count": 39,
      "outputs": [
        {
          "output_type": "stream",
          "name": "stdout",
          "text": [
            "rmse for line is: 0.453658425277404 while rmse for parabola is: 0.12547876286929024.\n"
          ]
        }
      ]
    },
    {
      "cell_type": "markdown",
      "source": [
        " Explain which formulation (line or parabola) is more suitable for this dataset and why. \\\\\n",
        " **Ans:** \\\\\n",
        "**The parabola is more suitable for this dataset because the prediction for y  with the parabola is more closer than with the line as the root mean squared error and the visual plots indicate it clearly.** \\\\\n",
        "**The prediction error is less when using quadratic linear regression.**"
      ],
      "metadata": {
        "id": "N2wHdB7HrFK6"
      }
    },
    {
      "cell_type": "markdown",
      "source": [
        "# 3. \n",
        "(15%)\n",
        "Following the previous two questions, please randomly select $100$ data samples for $50$ times and plot these $50$ lines $(y=θ_0+xθ_1)$ and parabolas $(y=θ_0+xθ_1+x^2 θ_2)$ in two separate figures, one for lines and the other for parabolas. (5%) Explain these visualizations based on the bias and variance."
      ],
      "metadata": {
        "id": "GhoRzubSsJR2"
      }
    },
    {
      "cell_type": "code",
      "source": [
        "lines = [] # to hold list of 50 linear regression predictions\n",
        "parabolas = [] # to hold list of 50 quadratic linear regression predictions\n",
        "samples = []\n",
        "for i in range(50):\n",
        "  xs = np.random.choice(x.flatten(), 100) # 100 samples in each iteration\n",
        "  xs = np.sort(xs) # change samples from list back to array and sort\n",
        "  Ys1 = θ10 + θ11 * xs # compute the linear regression for the current samples\n",
        "  Ys2 = θ20 + (θ21 * xs) + (θ22 * (xs ** 2)) # quadratic linear regression for the same sample\n",
        "  lines.append([xs, Ys1]) \n",
        "  parabolas.append([xs, Ys2])\n",
        "  samples.append(xs)"
      ],
      "metadata": {
        "id": "mODJJXLKdAUn"
      },
      "execution_count": 130,
      "outputs": []
    },
    {
      "cell_type": "code",
      "source": [
        "def plot(func, title):\n",
        "  plt.figure(num=0, dpi=120)\n",
        "  for i in range(len(func)):\n",
        "    plt.plot(func[i][0], func[i][1], label = f\"line {i}\")\n",
        "\n",
        "  plt.xlabel(\"x\")\n",
        "  plt.ylabel(\"y\")\n",
        "  plt.title(title)\n",
        "  plt.show"
      ],
      "metadata": {
        "id": "89-tefYZ1w0Q"
      },
      "execution_count": 131,
      "outputs": []
    },
    {
      "cell_type": "code",
      "source": [
        "plot(lines, title = \"Lines plot\")"
      ],
      "metadata": {
        "colab": {
          "base_uri": "https://localhost:8080/",
          "height": 482
        },
        "id": "CO6ZyRdd2QYx",
        "outputId": "d28df40d-62c4-4ae5-fd8d-a53a0df76849"
      },
      "execution_count": 132,
      "outputs": [
        {
          "output_type": "display_data",
          "data": {
            "text/plain": [
              "<Figure size 720x480 with 1 Axes>"
            ],
            "image/png": "[encoded data removed]"
          },
          "metadata": {
            "needs_background": "light"
          }
        }
      ]
    },
    {
      "cell_type": "markdown",
      "source": [
        "Parabolas plot"
      ],
      "metadata": {
        "id": "fARC7oaQnFvA"
      }
    },
    {
      "cell_type": "code",
      "source": [
        "plot(parabolas, \"parabolas plot\")"
      ],
      "metadata": {
        "colab": {
          "base_uri": "https://localhost:8080/",
          "height": 482
        },
        "id": "ZmlOU6-O2nuX",
        "outputId": "cb90d4d7-ad39-4437-fd54-051425aaeb52"
      },
      "execution_count": 133,
      "outputs": [
        {
          "output_type": "display_data",
          "data": {
            "text/plain": [
              "<Figure size 720x480 with 1 Axes>"
            ],
            "image/png": "[encoded data removed]"
          },
          "metadata": {
            "needs_background": "light"
          }
        }
      ]
    },
    {
      "cell_type": "markdown",
      "source": [
        "Retry with lower samples in each iteration for better resolution"
      ],
      "metadata": {
        "id": "ywSj2hw92vCK"
      }
    },
    {
      "cell_type": "code",
      "source": [
        "lines = [] # to hold list of 50 linear regression predictions\n",
        "parabolas = [] # to hold list of 50 quadratic linear regression predictions\n",
        "samples = []\n",
        "for i in range(5):\n",
        "  xs = np.random.choice(x.flatten(), 10) # 100 samples in each iteration\n",
        "  xs = np.sort(xs) # change samples from list back to array and sort\n",
        "  Ys1 = θ10 + θ11 * xs # compute the linear regression for the current samples\n",
        "  Ys2 = θ20 + (θ21 * xs) + (θ22 * (xs ** 2)) # quadratic linear regression for the same sample\n",
        "  lines.append([xs, Ys1]) \n",
        "  parabolas.append([xs, Ys2])\n",
        "  samples.append(xs)\n"
      ],
      "metadata": {
        "id": "X4HU0bP5zFUi"
      },
      "execution_count": 134,
      "outputs": []
    },
    {
      "cell_type": "code",
      "source": [
        "plot(lines, \"Lower sampled lines plot\")"
      ],
      "metadata": {
        "colab": {
          "base_uri": "https://localhost:8080/",
          "height": 482
        },
        "id": "DTm1PbQ01i1f",
        "outputId": "504e3c45-46e9-4d6b-a57b-bb5c47fddf00"
      },
      "execution_count": 135,
      "outputs": [
        {
          "output_type": "display_data",
          "data": {
            "text/plain": [
              "<Figure size 720x480 with 1 Axes>"
            ],
            "image/png": "[encoded data removed]"
          },
          "metadata": {
            "needs_background": "light"
          }
        }
      ]
    },
    {
      "cell_type": "code",
      "source": [
        "plot(parabolas, \"Lower sampled parabolas plot\")"
      ],
      "metadata": {
        "colab": {
          "base_uri": "https://localhost:8080/",
          "height": 482
        },
        "id": "ljqlbhD84HJG",
        "outputId": "bdcbd43d-2688-4130-b4f5-eea9942a6325"
      },
      "execution_count": 136,
      "outputs": [
        {
          "output_type": "display_data",
          "data": {
            "text/plain": [
              "<Figure size 720x480 with 1 Axes>"
            ],
            "image/png": "[encoded data removed]"
          },
          "metadata": {
            "needs_background": "light"
          }
        }
      ]
    },
    {
      "cell_type": "markdown",
      "source": [
        "# 4. \n",
        "(10%) \n",
        "In ‘train.mat,’ you can find 2-D points $X=[x1, x2]$ and their corresponding labels $Y=y$. Please use logistic regression $h(θ)=1/(1+e^(-θ^T x))$  to find the decision boundary (optimal $θ^*$) based on ‘train.mat.” Please use a gradient descent method to solve it and report the test error on the test dataset ‘test.mat.’ (percentage of misclassified test samples) "
      ],
      "metadata": {
        "id": "zA_FNAG6sStH"
      }
    },
    {
      "cell_type": "code",
      "source": [
        "train_mat = loadmat(r\"Ex1/train.mat\")\n",
        "test_mat = loadmat(r\"Ex1/test.mat\")\n",
        "\n",
        "train, test = pd.DataFrame(), pd.DataFrame()\n",
        "\n",
        "train[\"x1\"], train[\"x2\"] = train_mat['x1'].flatten(),  train_mat['x2']\n",
        "test[\"x1\"],test[\"x2\"]  = test_mat['x1'].flatten(),  test_mat['x2']\n",
        "\n",
        "train[\"y\"], test[\"y\"]  = train_mat['y'], test_mat['y']\n",
        "\n",
        "train.head(3)"
      ],
      "metadata": {
        "id": "aPaveOvfpu0A",
        "outputId": "fc1b00ac-2633-4f2a-8788-623a07ef2f68",
        "colab": {
          "base_uri": "https://localhost:8080/",
          "height": 143
        }
      },
      "execution_count": null,
      "outputs": [
        {
          "output_type": "execute_result",
          "data": {
            "text/plain": [
              "    x1   x2  y\n",
              "0  5.1  3.5  1\n",
              "1  4.9  3.0  1\n",
              "2  4.7  3.2  1"
            ],
            "text/html": [
              "\n",
              "  <div id=\"df-31dfe54f-0320-44fe-8b39-08ec25ecda9e\">\n",
              "    <div class=\"colab-df-container\">\n",
              "      <div>\n",
              "<style scoped>\n",
              "    .dataframe tbody tr th:only-of-type {\n",
              "        vertical-align: middle;\n",
              "    }\n",
              "\n",
              "    .dataframe tbody tr th {\n",
              "        vertical-align: top;\n",
              "    }\n",
              "\n",
              "    .dataframe thead th {\n",
              "        text-align: right;\n",
              "    }\n",
              "</style>\n",
              "<table border=\"1\" class=\"dataframe\">\n",
              "  <thead>\n",
              "    <tr style=\"text-align: right;\">\n",
              "      <th></th>\n",
              "      <th>x1</th>\n",
              "      <th>x2</th>\n",
              "      <th>y</th>\n",
              "    </tr>\n",
              "  </thead>\n",
              "  <tbody>\n",
              "    <tr>\n",
              "      <th>0</th>\n",
              "      <td>5.1</td>\n",
              "      <td>3.5</td>\n",
              "      <td>1</td>\n",
              "    </tr>\n",
              "    <tr>\n",
              "      <th>1</th>\n",
              "      <td>4.9</td>\n",
              "      <td>3.0</td>\n",
              "      <td>1</td>\n",
              "    </tr>\n",
              "    <tr>\n",
              "      <th>2</th>\n",
              "      <td>4.7</td>\n",
              "      <td>3.2</td>\n",
              "      <td>1</td>\n",
              "    </tr>\n",
              "  </tbody>\n",
              "</table>\n",
              "</div>\n",
              "      <button class=\"colab-df-convert\" onclick=\"convertToInteractive('df-31dfe54f-0320-44fe-8b39-08ec25ecda9e')\"\n",
              "              title=\"Convert this dataframe to an interactive table.\"\n",
              "              style=\"display:none;\">\n",
              "        \n",
              "  <svg xmlns=\"http://www.w3.org/2000/svg\" height=\"24px\"viewBox=\"0 0 24 24\"\n",
              "       width=\"24px\">\n",
              "    <path d=\"M0 0h24v24H0V0z\" fill=\"none\"/>\n",
              "    <path d=\"M18.56 5.44l.94 2.06.94-2.06 2.06-.94-2.06-.94-.94-2.06-.94 2.06-2.06.94zm-11 1L8.5 8.5l.94-2.06 2.06-.94-2.06-.94L8.5 2.5l-.94 2.06-2.06.94zm10 10l.94 2.06.94-2.06 2.06-.94-2.06-.94-.94-2.06-.94 2.06-2.06.94z\"/><path d=\"M17.41 7.96l-1.37-1.37c-.4-.4-.92-.59-1.43-.59-.52 0-1.04.2-1.43.59L10.3 9.45l-7.72 7.72c-.78.78-.78 2.05 0 2.83L4 21.41c.39.39.9.59 1.41.59.51 0 1.02-.2 1.41-.59l7.78-7.78 2.81-2.81c.8-.78.8-2.07 0-2.86zM5.41 20L4 18.59l7.72-7.72 1.47 1.35L5.41 20z\"/>\n",
              "  </svg>\n",
              "      </button>\n",
              "      \n",
              "  <style>\n",
              "    .colab-df-container {\n",
              "      display:flex;\n",
              "      flex-wrap:wrap;\n",
              "      gap: 12px;\n",
              "    }\n",
              "\n",
              "    .colab-df-convert {\n",
              "      background-color: #E8F0FE;\n",
              "      border: none;\n",
              "      border-radius: 50%;\n",
              "      cursor: pointer;\n",
              "      display: none;\n",
              "      fill: #1967D2;\n",
              "      height: 32px;\n",
              "      padding: 0 0 0 0;\n",
              "      width: 32px;\n",
              "    }\n",
              "\n",
              "    .colab-df-convert:hover {\n",
              "      background-color: #E2EBFA;\n",
              "      box-shadow: 0px 1px 2px rgba(60, 64, 67, 0.3), 0px 1px 3px 1px rgba(60, 64, 67, 0.15);\n",
              "      fill: #174EA6;\n",
              "    }\n",
              "\n",
              "    [theme=dark] .colab-df-convert {\n",
              "      background-color: #3B4455;\n",
              "      fill: #D2E3FC;\n",
              "    }\n",
              "\n",
              "    [theme=dark] .colab-df-convert:hover {\n",
              "      background-color: #434B5C;\n",
              "      box-shadow: 0px 1px 3px 1px rgba(0, 0, 0, 0.15);\n",
              "      filter: drop-shadow(0px 1px 2px rgba(0, 0, 0, 0.3));\n",
              "      fill: #FFFFFF;\n",
              "    }\n",
              "  </style>\n",
              "\n",
              "      <script>\n",
              "        const buttonEl =\n",
              "          document.querySelector('#df-31dfe54f-0320-44fe-8b39-08ec25ecda9e button.colab-df-convert');\n",
              "        buttonEl.style.display =\n",
              "          google.colab.kernel.accessAllowed ? 'block' : 'none';\n",
              "\n",
              "        async function convertToInteractive(key) {\n",
              "          const element = document.querySelector('#df-31dfe54f-0320-44fe-8b39-08ec25ecda9e');\n",
              "          const dataTable =\n",
              "            await google.colab.kernel.invokeFunction('convertToInteractive',\n",
              "                                                     [key], {});\n",
              "          if (!dataTable) return;\n",
              "\n",
              "          const docLinkHtml = 'Like what you see? Visit the ' +\n",
              "            '<a target=\"_blank\" href=https://colab.research.google.com/notebooks/data_table.ipynb>data table notebook</a>'\n",
              "            + ' to learn more about interactive tables.';\n",
              "          element.innerHTML = '';\n",
              "          dataTable['output_type'] = 'display_data';\n",
              "          await google.colab.output.renderOutput(dataTable, element);\n",
              "          const docLink = document.createElement('div');\n",
              "          docLink.innerHTML = docLinkHtml;\n",
              "          element.appendChild(docLink);\n",
              "        }\n",
              "      </script>\n",
              "    </div>\n",
              "  </div>\n",
              "  "
            ]
          },
          "metadata": {},
          "execution_count": 5
        }
      ]
    },
    {
      "cell_type": "code",
      "source": [
        "x_train = train.values[:,:2]\n",
        "x_test = test.values[:,:2]\n",
        "\n",
        "y_train = train.values[:,2]\n",
        "y_test = test.values[:,2]"
      ],
      "metadata": {
        "id": "WkabYIdkwJ3f"
      },
      "execution_count": null,
      "outputs": []
    },
    {
      "cell_type": "code",
      "source": [
        "x_train[:,None]"
      ],
      "metadata": {
        "id": "nUHEgBDkOGXn",
        "outputId": "22deb787-5679-493b-a269-ed6cf79ca1fc",
        "colab": {
          "base_uri": "https://localhost:8080/"
        }
      },
      "execution_count": null,
      "outputs": [
        {
          "output_type": "execute_result",
          "data": {
            "text/plain": [
              "array([[[5.1, 3.5]],\n",
              "\n",
              "       [[4.9, 3. ]],\n",
              "\n",
              "       [[4.7, 3.2]],\n",
              "\n",
              "       [[4.6, 3.1]],\n",
              "\n",
              "       [[5. , 3.6]],\n",
              "\n",
              "       [[5.4, 3.9]],\n",
              "\n",
              "       [[4.6, 3.4]],\n",
              "\n",
              "       [[5. , 3.4]],\n",
              "\n",
              "       [[4.4, 2.9]],\n",
              "\n",
              "       [[4.9, 3.1]],\n",
              "\n",
              "       [[5.4, 3.7]],\n",
              "\n",
              "       [[4.8, 3.4]],\n",
              "\n",
              "       [[4.8, 3. ]],\n",
              "\n",
              "       [[4.3, 3. ]],\n",
              "\n",
              "       [[5.8, 4. ]],\n",
              "\n",
              "       [[5.7, 4.4]],\n",
              "\n",
              "       [[5.4, 3.9]],\n",
              "\n",
              "       [[5.1, 3.5]],\n",
              "\n",
              "       [[5.7, 3.8]],\n",
              "\n",
              "       [[5.1, 3.8]],\n",
              "\n",
              "       [[5.4, 3.4]],\n",
              "\n",
              "       [[5.1, 3.7]],\n",
              "\n",
              "       [[4.6, 3.6]],\n",
              "\n",
              "       [[5.1, 3.3]],\n",
              "\n",
              "       [[4.8, 3.4]],\n",
              "\n",
              "       [[5. , 3. ]],\n",
              "\n",
              "       [[5. , 3.4]],\n",
              "\n",
              "       [[5.2, 3.5]],\n",
              "\n",
              "       [[5.2, 3.4]],\n",
              "\n",
              "       [[4.7, 3.2]],\n",
              "\n",
              "       [[4.8, 3.1]],\n",
              "\n",
              "       [[5.4, 3.4]],\n",
              "\n",
              "       [[5.2, 4.1]],\n",
              "\n",
              "       [[5.5, 4.2]],\n",
              "\n",
              "       [[4.9, 3.1]],\n",
              "\n",
              "       [[7. , 3.2]],\n",
              "\n",
              "       [[6.4, 3.2]],\n",
              "\n",
              "       [[6.9, 3.1]],\n",
              "\n",
              "       [[5.5, 2.3]],\n",
              "\n",
              "       [[6.5, 2.8]],\n",
              "\n",
              "       [[5.7, 2.8]],\n",
              "\n",
              "       [[6.3, 3.3]],\n",
              "\n",
              "       [[4.9, 2.4]],\n",
              "\n",
              "       [[6.6, 2.9]],\n",
              "\n",
              "       [[5.2, 2.7]],\n",
              "\n",
              "       [[5. , 2. ]],\n",
              "\n",
              "       [[5.9, 3. ]],\n",
              "\n",
              "       [[6. , 2.2]],\n",
              "\n",
              "       [[6.1, 2.9]],\n",
              "\n",
              "       [[5.6, 2.9]],\n",
              "\n",
              "       [[6.7, 3.1]],\n",
              "\n",
              "       [[5.6, 3. ]],\n",
              "\n",
              "       [[5.8, 2.7]],\n",
              "\n",
              "       [[6.2, 2.2]],\n",
              "\n",
              "       [[5.6, 2.5]],\n",
              "\n",
              "       [[5.9, 3.2]],\n",
              "\n",
              "       [[6.1, 2.8]],\n",
              "\n",
              "       [[6.3, 2.5]],\n",
              "\n",
              "       [[6.1, 2.8]],\n",
              "\n",
              "       [[6.4, 2.9]],\n",
              "\n",
              "       [[6.6, 3. ]],\n",
              "\n",
              "       [[6.8, 2.8]],\n",
              "\n",
              "       [[6.7, 3. ]],\n",
              "\n",
              "       [[6. , 2.9]],\n",
              "\n",
              "       [[5.7, 2.6]],\n",
              "\n",
              "       [[5.5, 2.4]],\n",
              "\n",
              "       [[5.5, 2.4]],\n",
              "\n",
              "       [[5.8, 2.7]],\n",
              "\n",
              "       [[6. , 2.7]],\n",
              "\n",
              "       [[5.4, 3. ]]])"
            ]
          },
          "metadata": {},
          "execution_count": 8
        }
      ]
    },
    {
      "cell_type": "code",
      "source": [
        "MARKERS = ['o', '*']\n",
        "COLORS = ['red', 'blue']\n",
        "\n",
        "def plot_points(xy, labels):\n",
        "    \n",
        "    for i, label in enumerate(set(labels)):\n",
        "        points = np.array([xy[j,:] for j in range(len(xy)) if labels[j] == label])\n",
        "        marker = MARKERS[i % len(MARKERS)]\n",
        "        color = COLORS[i % len(COLORS)]\n",
        "        plt.scatter(points[:,0], points[:,1], marker=marker, color=color)\n",
        "\n",
        "plot_points(x_train, y_train)"
      ],
      "metadata": {
        "id": "isvLsmLVmhYd",
        "outputId": "9621d9f0-fe19-4d42-84c6-dd3a002e54e2",
        "colab": {
          "base_uri": "https://localhost:8080/",
          "height": 268
        }
      },
      "execution_count": null,
      "outputs": [
        {
          "output_type": "display_data",
          "data": {
            "text/plain": [
              "<Figure size 432x288 with 1 Axes>"
            ],
            "image/png": "[encoded data removed]"
          },
          "metadata": {
            "needs_background": "light"
          }
        }
      ]
    },
    {
      "cell_type": "code",
      "source": [
        "x_train = x_train.T\n",
        "x_test = x_test.T\n",
        "\n",
        "y_train = y_train.reshape(1,-1)\n",
        "y_test = y_test.reshape(1,-1)\n",
        "x_train.shape, y_train.shape, x_test.shape, y_test.shape"
      ],
      "metadata": {
        "id": "x8OjDbauraD4",
        "outputId": "11b745be-6b78-4cb6-d647-bb70050519b1",
        "colab": {
          "base_uri": "https://localhost:8080/"
        }
      },
      "execution_count": null,
      "outputs": [
        {
          "output_type": "execute_result",
          "data": {
            "text/plain": [
              "((2, 70), (1, 70), (2, 30), (1, 30))"
            ]
          },
          "metadata": {},
          "execution_count": 88
        }
      ]
    },
    {
      "cell_type": "code",
      "source": [
        "def sigmoid(a):\n",
        "  return 1 / (1 + np.exp(-a))"
      ],
      "metadata": {
        "id": "fp9QfE0zS_pO"
      },
      "execution_count": null,
      "outputs": []
    },
    {
      "cell_type": "code",
      "source": [
        "def logistic_regression(X, Y, learning_rate, iterations):\n",
        "  m = X.shape[1]\n",
        "  n = X.shape[0]\n",
        "\n",
        "  B = 0\n",
        "  W = np.zeros((n, 1))\n",
        "\n",
        "  errors = []\n",
        "\n",
        "  for i in range(iterations):\n",
        "    Z = np.dot(W.T, X) + B\n",
        "    Y_pred = sigmoid(Z)\n",
        "\n",
        "    # loss function\n",
        "    loss = -(1/m) * np.sum(Y * np.log(Y_pred) + (1-Y) * np.log(1 - Y_pred))\n",
        "\n",
        "    # Gradient Descent \n",
        "    dW = (1/m) * np.dot(Y_pred - Y, X.T)\n",
        "    dB = (1/m) * np.sum(Y_pred - Y)\n",
        "\n",
        "    W = W - learning_rate * dW.T\n",
        "    B = B - learning_rate * dB\n",
        "\n",
        "    # keeping track of our cost function value\n",
        "    errors.append(loss)\n",
        "\n",
        "    if (i % (iterations/100) == 0):\n",
        "      print(f\"cost after {i} iterations is : {loss}\")\n",
        "\n",
        "  return W, B, errors"
      ],
      "metadata": {
        "id": "cjcAKst0Tsvu"
      },
      "execution_count": null,
      "outputs": []
    },
    {
      "cell_type": "code",
      "source": [
        "iterations = 10000\n",
        "learning_rate = 0.05\n",
        "W, B, errors = logistic_regression(x_train, y_train, learning_rate, iterations)"
      ],
      "metadata": {
        "id": "v0QZi2BuZYN_",
        "outputId": "035bce56-ef85-45fc-a07a-a2d4743fba7a",
        "colab": {
          "base_uri": "https://localhost:8080/"
        }
      },
      "execution_count": null,
      "outputs": [
        {
          "output_type": "stream",
          "name": "stdout",
          "text": [
            "cost after 0 iterations is : 0.6931471805599454\n",
            "cost after 100 iterations is : 0.4444298254603646\n",
            "cost after 200 iterations is : 0.3274923017924057\n",
            "cost after 300 iterations is : 0.2622430018754115\n",
            "cost after 400 iterations is : 0.22093470387363684\n",
            "cost after 500 iterations is : 0.19241562680393912\n",
            "cost after 600 iterations is : 0.171486086953852\n",
            "cost after 700 iterations is : 0.1554229927407999\n",
            "cost after 800 iterations is : 0.14266837945859254\n",
            "cost after 900 iterations is : 0.1322677757810306\n",
            "cost after 1000 iterations is : 0.12360392444097608\n",
            "cost after 1100 iterations is : 0.11625980970825711\n",
            "cost after 1200 iterations is : 0.10994337810005023\n",
            "cost after 1300 iterations is : 0.10444384464311281\n",
            "cost after 1400 iterations is : 0.09960514691394699\n",
            "cost after 1500 iterations is : 0.09530918011987563\n",
            "cost after 1600 iterations is : 0.09146485140210357\n",
            "cost after 1700 iterations is : 0.08800072442425608\n",
            "cost after 1800 iterations is : 0.08485995029121407\n",
            "cost after 1900 iterations is : 0.08199669547521991\n",
            "cost after 2000 iterations is : 0.0793735743528172\n",
            "cost after 2100 iterations is : 0.07695977086857232\n",
            "cost after 2200 iterations is : 0.07472964230718981\n",
            "cost after 2300 iterations is : 0.07266166638280033\n",
            "cost after 2400 iterations is : 0.07073763677304595\n",
            "cost after 2500 iterations is : 0.06894204109422655\n",
            "cost after 2600 iterations is : 0.06726157465413686\n",
            "cost after 2700 iterations is : 0.06568475650338998\n",
            "cost after 2800 iterations is : 0.06420162343802431\n",
            "cost after 2900 iterations is : 0.06280348402499067\n",
            "cost after 3000 iterations is : 0.061482719295412935\n",
            "cost after 3100 iterations is : 0.060232620050097704\n",
            "cost after 3200 iterations is : 0.05904725313031119\n",
            "cost after 3300 iterations is : 0.057921350784183076\n",
            "cost after 3400 iterations is : 0.056850218584017835\n",
            "cost after 3500 iterations is : 0.055829658346888855\n",
            "cost after 3600 iterations is : 0.05485590326797777\n",
            "cost after 3700 iterations is : 0.0539255630558042\n",
            "cost after 3800 iterations is : 0.053035577305850214\n",
            "cost after 3900 iterations is : 0.05218317569689451\n",
            "cost after 4000 iterations is : 0.05136584386669601\n",
            "cost after 4100 iterations is : 0.05058129403830162\n",
            "cost after 4200 iterations is : 0.04982743963849059\n",
            "cost after 4300 iterations is : 0.049102373285700586\n",
            "cost after 4400 iterations is : 0.048404347633773596\n",
            "cost after 4500 iterations is : 0.047731758645797644\n",
            "cost after 4600 iterations is : 0.04708313094362363\n",
            "cost after 4700 iterations is : 0.04645710493675141\n",
            "cost after 4800 iterations is : 0.04585242548185156\n",
            "cost after 4900 iterations is : 0.04526793186331876\n",
            "cost after 5000 iterations is : 0.04470254891756729\n",
            "cost after 5100 iterations is : 0.044155279150578826\n",
            "cost after 5200 iterations is : 0.043625195720526797\n",
            "cost after 5300 iterations is : 0.043111436175946795\n",
            "cost after 5400 iterations is : 0.04261319685556544\n",
            "cost after 5500 iterations is : 0.042129727869060704\n",
            "cost after 5600 iterations is : 0.041660328589144945\n",
            "cost after 5700 iterations is : 0.0412043435947787\n",
            "cost after 5800 iterations is : 0.040761159013327594\n",
            "cost after 5900 iterations is : 0.040330199216294105\n",
            "cost after 6000 iterations is : 0.03991092382908929\n",
            "cost after 6100 iterations is : 0.039502825020306734\n",
            "cost after 6200 iterations is : 0.039105425040256284\n",
            "cost after 6300 iterations is : 0.03871827398221948\n",
            "cost after 6400 iterations is : 0.03834094774308253\n",
            "cost after 6500 iterations is : 0.03797304616277621\n",
            "cost after 6600 iterations is : 0.03761419132435195\n",
            "cost after 6700 iterations is : 0.03726402599861695\n",
            "cost after 6800 iterations is : 0.036922212219073394\n",
            "cost after 6900 iterations is : 0.03658842997449929\n",
            "cost after 7000 iterations is : 0.03626237600790375\n",
            "cost after 7100 iterations is : 0.03594376271181361\n",
            "cost after 7200 iterations is : 0.03563231711092103\n",
            "cost after 7300 iterations is : 0.03532777992407336\n",
            "cost after 7400 iterations is : 0.03502990469841722\n",
            "cost after 7500 iterations is : 0.03473845700925072\n",
            "cost after 7600 iterations is : 0.03445321371978997\n",
            "cost after 7700 iterations is : 0.03417396229563697\n",
            "cost after 7800 iterations is : 0.03390050016924963\n",
            "cost after 7900 iterations is : 0.03363263415017486\n",
            "cost after 8000 iterations is : 0.03337017987721201\n",
            "cost after 8100 iterations is : 0.033112961309040415\n",
            "cost after 8200 iterations is : 0.03286081025016888\n",
            "cost after 8300 iterations is : 0.0326135659093588\n",
            "cost after 8400 iterations is : 0.03237107448792983\n",
            "cost after 8500 iterations is : 0.03213318879559734\n",
            "cost after 8600 iterations is : 0.031899767891696504\n",
            "cost after 8700 iterations is : 0.031670676749840525\n",
            "cost after 8800 iterations is : 0.03144578594423042\n",
            "cost after 8900 iterations is : 0.031224971355988576\n",
            "cost after 9000 iterations is : 0.031008113898026997\n",
            "cost after 9100 iterations is : 0.03079509925708747\n",
            "cost after 9200 iterations is : 0.030585817651704796\n",
            "cost after 9300 iterations is : 0.030380163604947663\n",
            "cost after 9400 iterations is : 0.030178035730885976\n",
            "cost after 9500 iterations is : 0.029979336533817465\n",
            "cost after 9600 iterations is : 0.02978397221936573\n",
            "cost after 9700 iterations is : 0.029591852516629928\n",
            "cost after 9800 iterations is : 0.02940289051063379\n",
            "cost after 9900 iterations is : 0.029217002484376427\n"
          ]
        }
      ]
    },
    {
      "cell_type": "code",
      "source": [
        "plt.plot(np.arange(iterations), errors)\n",
        "plt.show()"
      ],
      "metadata": {
        "id": "ZEKGIejffCx5",
        "outputId": "038dbde4-34b2-491a-cd4b-4bd425f83a63",
        "colab": {
          "base_uri": "https://localhost:8080/",
          "height": 265
        }
      },
      "execution_count": null,
      "outputs": [
        {
          "output_type": "display_data",
          "data": {
            "text/plain": [
              "<Figure size 432x288 with 1 Axes>"
            ],
            "image/png": "[encoded data removed]"
          },
          "metadata": {
            "needs_background": "light"
          }
        }
      ]
    },
    {
      "cell_type": "code",
      "source": [
        "def accuracy(X, Y, W, B):\n",
        "    \n",
        "    Z = np.dot(W.T, X) + B\n",
        "    A = sigmoid(Z)\n",
        "    \n",
        "    A = A > 0.5\n",
        "    \n",
        "    A = np.array(A, dtype = 'int64')\n",
        "    \n",
        "    acc = (1 - np.sum(np.absolute(A - Y))/Y.shape[1])*100\n",
        "    \n",
        "    print(\"Accuracy of the model is : \", round(acc, 2), \"%\")\n",
        "\n",
        "accuracy(x_test, y_test, W, B)"
      ],
      "metadata": {
        "id": "rFhL6fQ7h1f2",
        "outputId": "af939def-601c-4883-db65-80bdbce37ffc",
        "colab": {
          "base_uri": "https://localhost:8080/"
        }
      },
      "execution_count": null,
      "outputs": [
        {
          "output_type": "stream",
          "name": "stdout",
          "text": [
            "Accuracy of the model is :  96.67 %\n"
          ]
        }
      ]
    },
    {
      "cell_type": "markdown",
      "source": [
        "# 5.\t\n",
        "Download the MNIST dataset using the following example code:"
      ],
      "metadata": {
        "id": "Q3exjma7bkZC"
      }
    },
    {
      "cell_type": "code",
      "source": [
        "##############################################\n",
        "from __future__ import print_function\n",
        "import keras\n",
        "from keras.datasets import mnist\n",
        "\n",
        "# input image dimensions 28x28\n",
        "img_rows, img_cols = 28, 28\n",
        "\n",
        "# the data, split between train and test sets\n",
        "(x_train, y_train), (x_test, y_test) = mnist.load_data()\n",
        "\n",
        "x_train = x_train.astype('float32')\n",
        "x_test = x_test.astype('float32')\n",
        "x_train /= 255\n",
        "x_test /= 255\n",
        "##############################################"
      ],
      "metadata": {
        "id": "JSCg_eRvboKl",
        "colab": {
          "base_uri": "https://localhost:8080/"
        },
        "outputId": "56e7bd39-80dd-4d54-acf0-18a0b3252aa6"
      },
      "execution_count": 2,
      "outputs": [
        {
          "output_type": "stream",
          "name": "stdout",
          "text": [
            "Downloading data from https://storage.googleapis.com/tensorflow/tf-keras-datasets/mnist.npz\n",
            "11490434/11490434 [==============================] - 0s 0us/step\n"
          ]
        }
      ]
    },
    {
      "cell_type": "code",
      "source": [
        "x_train.shape, y_train.shape, x_test.shape, y_test.shape"
      ],
      "metadata": {
        "colab": {
          "base_uri": "https://localhost:8080/"
        },
        "id": "gvIPd82PGjXF",
        "outputId": "5437435e-120e-4ea9-aa39-d6114c22f83c"
      },
      "execution_count": null,
      "outputs": [
        {
          "output_type": "execute_result",
          "data": {
            "text/plain": [
              "((60000, 28, 28), (60000,), (10000, 28, 28), (10000,))"
            ]
          },
          "metadata": {},
          "execution_count": 80
        }
      ]
    },
    {
      "cell_type": "markdown",
      "source": [
        "Please randomly choose 1,000 different handwritten images from either the training or the testing dataset to construct your own dataset, where each digit has 100 data samples.\n",
        "\n"
      ],
      "metadata": {
        "id": "D_W0eoTtbzqW"
      }
    },
    {
      "cell_type": "code",
      "source": [
        "!pip install numpy_indexed -q"
      ],
      "metadata": {
        "id": "AYKLEb6x4my-"
      },
      "execution_count": 3,
      "outputs": []
    },
    {
      "cell_type": "code",
      "source": [
        "import numpy_indexed as npi # used to get the unique values in numpy array \n",
        "#and their corresponding list of indices"
      ],
      "metadata": {
        "id": "QobcOGksd7MN"
      },
      "execution_count": 4,
      "outputs": []
    },
    {
      "cell_type": "code",
      "source": [
        "# a function to sample n samples from each category\n",
        "def take_n_samples(x, y, n):\n",
        "  # get the list of indices for each digit\n",
        "  _, idx_groups = npi.group_by(y, np.arange(len(y)))\n",
        "\n",
        "  indices = []\n",
        "\n",
        "  for i in range(len(idx_groups)):\n",
        "    indexes = np.random.choice(idx_groups[i], n)\n",
        "    indices.append(list(indexes))\n",
        "  \n",
        "  indices = np.array(indices).flatten()\n",
        "  np.random.shuffle(indices) # shuffle the indices before getting the data parts\n",
        "  \n",
        "  x_sample = x_train[indices]\n",
        "  x_sample = np.reshape(x_sample, (x_sample.shape[0], -1))\n",
        "  y_sample = y_train[indices]\n",
        "  \n",
        "  return x_sample, y_sample\n",
        "\n",
        "x_test, y_test = take_n_samples(x_train, y_train, 100)\n",
        "x_test.shape, y_test.shape"
      ],
      "metadata": {
        "colab": {
          "base_uri": "https://localhost:8080/"
        },
        "id": "JGldshJ4eQDF",
        "outputId": "de01ba75-5690-462c-805d-8d2350367761"
      },
      "execution_count": 5,
      "outputs": [
        {
          "output_type": "execute_result",
          "data": {
            "text/plain": [
              "((1000, 784), (1000,))"
            ]
          },
          "metadata": {},
          "execution_count": 5
        }
      ]
    },
    {
      "cell_type": "markdown",
      "source": [
        "## 5.1.\t\n",
        "(5%) Use the following code to show 50 images in your own dataset. "
      ],
      "metadata": {
        "id": "Ie9RqEHtaY4q"
      }
    },
    {
      "cell_type": "code",
      "source": [
        "##############################################\n",
        "amount= 50\n",
        "lines = 5\n",
        "columns = 10\n",
        "number = np.zeros(amount)\n",
        "\n",
        "for i in range(amount):\n",
        "    number[i] = y_test[i]\n",
        "    # print(number[0])\n",
        "\n",
        "fig = plt.figure()\n",
        "\n",
        "for i in range(amount):\n",
        "    ax = fig.add_subplot(lines, columns, 1 + i)\n",
        "    plt.imshow(x_test[i,:,:], cmap='binary')\n",
        "    plt.sca(ax)\n",
        "    ax.set_xticks([], [])\n",
        "    ax.set_yticks([], [])\n",
        "\n",
        "plt.show()\n",
        "##############################################"
      ],
      "metadata": {
        "colab": {
          "base_uri": "https://localhost:8080/",
          "height": 298
        },
        "id": "JMy3qWSp8zVm",
        "outputId": "4cd5ba6d-37b1-48e7-af59-5b2f8913ec5e"
      },
      "execution_count": null,
      "outputs": [
        {
          "output_type": "stream",
          "name": "stderr",
          "text": [
            "/usr/local/lib/python3.7/dist-packages/ipykernel_launcher.py:17: MatplotlibDeprecationWarning: Passing the minor parameter of set_xticks() positionally is deprecated since Matplotlib 3.2; the parameter will become keyword-only two minor releases later.\n",
            "/usr/local/lib/python3.7/dist-packages/ipykernel_launcher.py:18: MatplotlibDeprecationWarning: Passing the minor parameter of set_yticks() positionally is deprecated since Matplotlib 3.2; the parameter will become keyword-only two minor releases later.\n"
          ]
        },
        {
          "output_type": "display_data",
          "data": {
            "text/plain": [
              "<Figure size 432x288 with 50 Axes>"
            ],
            "image/png": "[encoded data removed]"
          },
          "metadata": {}
        }
      ]
    },
    {
      "cell_type": "markdown",
      "source": [
        "## 5.2.\t\n",
        "(15%) Normalize the data (subtracting the mean from it and then dividing it by the standard deviation) and compute the eigenpairs for the covariance of the data (sorted in a descending order based on eigenvalues)."
      ],
      "metadata": {
        "id": "zYaAQ-c9b4jG"
      }
    },
    {
      "cell_type": "code",
      "source": [
        "def normalize(X): \n",
        "    \"\"\" Normalize the given dataset X to have zero mean.\n",
        "    Args:\n",
        "        X: ndarray, dataset of shape (N,D)    \n",
        "    Returns:\n",
        "        (Xbar, mean): tuple of ndarray, Xbar is the normalized dataset\n",
        "        with mean 0; mean is the sample mean of the dataset.\n",
        "    \"\"\"\n",
        "    #N, D = X.shape\n",
        "    #mu = np.zeros((D,)) # the mean of X\n",
        "    Xmean = np.mean(X, axis=0)\n",
        "    std = np.std(X, axis=0)\n",
        "    Xnorm = (X-Xmean)#/std           # to compute the normalized data Xbar\n",
        "    return Xnorm, Xmean, std"
      ],
      "metadata": {
        "id": "DTqu-uSQbYuf"
      },
      "execution_count": 14,
      "outputs": []
    },
    {
      "cell_type": "code",
      "source": [
        "x_norm, x_mean, std = normalize(x_test)"
      ],
      "metadata": {
        "id": "f2ZfHrZezm7w"
      },
      "execution_count": 15,
      "outputs": []
    },
    {
      "cell_type": "code",
      "source": [
        "x_norm.shape, x_mean.shape, std.shape"
      ],
      "metadata": {
        "id": "m_irvGciWCXS",
        "outputId": "f9995d74-a7ac-48ba-ed4f-59b23860b7a6",
        "colab": {
          "base_uri": "https://localhost:8080/"
        }
      },
      "execution_count": 8,
      "outputs": [
        {
          "output_type": "execute_result",
          "data": {
            "text/plain": [
              "((1000, 784), (784,), (784,))"
            ]
          },
          "metadata": {},
          "execution_count": 8
        }
      ]
    },
    {
      "cell_type": "code",
      "source": [
        "# np.isfinite(x_norm) \n",
        "np.isnan(x_test).any(), np.isnan(x_norm).any(), np.isnan(x_mean).any(), np.isnan(std).any()"
      ],
      "metadata": {
        "id": "xxSTf46yTDHq",
        "outputId": "fa065576-856b-49c2-bb49-4757f8c17abc",
        "colab": {
          "base_uri": "https://localhost:8080/"
        }
      },
      "execution_count": 16,
      "outputs": [
        {
          "output_type": "execute_result",
          "data": {
            "text/plain": [
              "(False, False, False, False)"
            ]
          },
          "metadata": {},
          "execution_count": 16
        }
      ]
    },
    {
      "cell_type": "code",
      "source": [
        "n = np.array([[2, 3, 0, 1, 2],\n",
        "                    [4, 1, 6, 5, 6]])\n",
        "mean = np.mean(n, axis=0)\n",
        "st = np.std(n, axis=0)\n",
        "mean"
      ],
      "metadata": {
        "colab": {
          "base_uri": "https://localhost:8080/"
        },
        "id": "6CJtNvwckYAT",
        "outputId": "232363a1-adac-41a7-ac5d-3a667c091486"
      },
      "execution_count": null,
      "outputs": [
        {
          "output_type": "execute_result",
          "data": {
            "text/plain": [
              "array([3., 2., 3., 3., 4.])"
            ]
          },
          "metadata": {},
          "execution_count": 24
        }
      ]
    },
    {
      "cell_type": "code",
      "source": [
        "cov = np.cov(x_norm.T)\n",
        "cov = cov.astype(float)\n",
        "cov.shape "
      ],
      "metadata": {
        "id": "HlVudgIIND-p",
        "outputId": "c77f1a47-ad47-4935-d511-76162c28c32c",
        "colab": {
          "base_uri": "https://localhost:8080/"
        }
      },
      "execution_count": 17,
      "outputs": [
        {
          "output_type": "execute_result",
          "data": {
            "text/plain": [
              "(784, 784)"
            ]
          },
          "metadata": {},
          "execution_count": 17
        }
      ]
    },
    {
      "cell_type": "code",
      "source": [
        "std"
      ],
      "metadata": {
        "colab": {
          "base_uri": "https://localhost:8080/"
        },
        "id": "ajA3dSRMDHS4",
        "outputId": "c3e18160-6f9d-4352-9edd-a68d1c63af59"
      },
      "execution_count": 11,
      "outputs": [
        {
          "output_type": "execute_result",
          "data": {
            "text/plain": [
              "array([0.00000000e+00, 0.00000000e+00, 0.00000000e+00, 0.00000000e+00,\n",
              "       0.00000000e+00, 0.00000000e+00, 0.00000000e+00, 0.00000000e+00,\n",
              "       0.00000000e+00, 0.00000000e+00, 0.00000000e+00, 0.00000000e+00,\n",
              "       0.00000000e+00, 0.00000000e+00, 0.00000000e+00, 0.00000000e+00,\n",
              "       0.00000000e+00, 0.00000000e+00, 0.00000000e+00, 0.00000000e+00,\n",
              "       0.00000000e+00, 0.00000000e+00, 0.00000000e+00, 0.00000000e+00,\n",
              "       0.00000000e+00, 0.00000000e+00, 0.00000000e+00, 0.00000000e+00,\n",
              "       0.00000000e+00, 0.00000000e+00, 0.00000000e+00, 0.00000000e+00,\n",
              "       0.00000000e+00, 0.00000000e+00, 0.00000000e+00, 0.00000000e+00,\n",
              "       0.00000000e+00, 0.00000000e+00, 0.00000000e+00, 4.04569104e+00,\n",
              "       8.54435340e+00, 7.20950144e+00, 6.03346799e+00, 1.13925370e+01,\n",
              "       6.52278591e+00, 2.59177082e+00, 7.99656120e+00, 1.95963160e+00,\n",
              "       0.00000000e+00, 0.00000000e+00, 0.00000000e+00, 0.00000000e+00,\n",
              "       0.00000000e+00, 0.00000000e+00, 0.00000000e+00, 0.00000000e+00,\n",
              "       0.00000000e+00, 0.00000000e+00, 0.00000000e+00, 0.00000000e+00,\n",
              "       0.00000000e+00, 0.00000000e+00, 0.00000000e+00, 0.00000000e+00,\n",
              "       0.00000000e+00, 0.00000000e+00, 9.50515123e-01, 1.31964747e+01,\n",
              "       1.72075884e+01, 2.09827547e+01, 2.73303341e+01, 3.32576485e+01,\n",
              "       2.97051228e+01, 2.44020638e+01, 2.05756955e+01, 1.80280536e+01,\n",
              "       1.11862179e+01, 8.71750188e+00, 8.78933302e+00, 1.86481071e+00,\n",
              "       0.00000000e+00, 0.00000000e+00, 0.00000000e+00, 0.00000000e+00,\n",
              "       0.00000000e+00, 0.00000000e+00, 0.00000000e+00, 0.00000000e+00,\n",
              "       0.00000000e+00, 0.00000000e+00, 9.79815799e-01, 1.02656380e+01,\n",
              "       1.26234112e+01, 1.28475104e+01, 1.85769999e+01, 2.98233224e+01,\n",
              "       3.28696170e+01, 3.88681669e+01, 4.61581854e+01, 4.89969158e+01,\n",
              "       4.67251286e+01, 4.44738354e+01, 4.19538663e+01, 3.52989484e+01,\n",
              "       2.60320187e+01, 2.17011390e+01, 1.15604344e+01, 8.24969327e+00,\n",
              "       3.69801447e+00, 0.00000000e+00, 0.00000000e+00, 0.00000000e+00,\n",
              "       0.00000000e+00, 0.00000000e+00, 1.01142276e+00, 0.00000000e+00,\n",
              "       5.68925303e-01, 8.06277272e+00, 9.68234352e+00, 1.58288409e+01,\n",
              "       2.36065616e+01, 3.40137927e+01, 4.52840137e+01, 5.61763204e+01,\n",
              "       6.58695742e+01, 7.64284583e+01, 8.43695921e+01, 8.62012771e+01,\n",
              "       8.33649269e+01, 7.87586724e+01, 7.26651575e+01, 6.55693415e+01,\n",
              "       5.26900617e+01, 4.07587075e+01, 2.67823431e+01, 2.08432118e+01,\n",
              "       1.07101368e+01, 4.96311354e+00, 0.00000000e+00, 0.00000000e+00,\n",
              "       0.00000000e+00, 0.00000000e+00, 0.00000000e+00, 1.92802464e+00,\n",
              "       9.20952067e+00, 1.55037388e+01, 2.86253257e+01, 3.77498204e+01,\n",
              "       4.46503875e+01, 5.80039353e+01, 7.16865131e+01, 8.51324384e+01,\n",
              "       9.37802027e+01, 1.03009150e+02, 1.06567711e+02, 1.08464528e+02,\n",
              "       1.07302758e+02, 1.04607714e+02, 9.95083140e+01, 8.98576589e+01,\n",
              "       7.52794710e+01, 6.17184373e+01, 4.91576871e+01, 3.77335528e+01,\n",
              "       2.46174012e+01, 9.68356360e+00, 4.10890496e-01, 0.00000000e+00,\n",
              "       0.00000000e+00, 0.00000000e+00, 1.04302972e+00, 9.76971724e+00,\n",
              "       1.66757424e+01, 2.15242930e+01, 3.54253267e+01, 4.88574966e+01,\n",
              "       6.37892022e+01, 7.99970207e+01, 9.33940173e+01, 1.01274815e+02,\n",
              "       1.08521741e+02, 1.10623873e+02, 1.11665023e+02, 1.12061696e+02,\n",
              "       1.12083704e+02, 1.13525509e+02, 1.10210452e+02, 1.03540819e+02,\n",
              "       9.09860820e+01, 7.48765015e+01, 6.05270786e+01, 5.05568056e+01,\n",
              "       3.72802766e+01, 1.71629368e+01, 5.69558066e+00, 4.01408408e+00,\n",
              "       0.00000000e+00, 4.04569104e+00, 4.72342418e+00, 9.80921154e+00,\n",
              "       1.94139269e+01, 3.21159958e+01, 4.56671886e+01, 6.38715868e+01,\n",
              "       7.88241514e+01, 9.47548825e+01, 1.03347108e+02, 1.07416177e+02,\n",
              "       1.10822218e+02, 1.10633553e+02, 1.10407784e+02, 1.11110910e+02,\n",
              "       1.11286533e+02, 1.11335763e+02, 1.11082608e+02, 1.08090708e+02,\n",
              "       9.93109714e+01, 8.57123269e+01, 7.22891244e+01, 5.50816126e+01,\n",
              "       3.89368551e+01, 2.01614989e+01, 8.08311518e+00, 0.00000000e+00,\n",
              "       0.00000000e+00, 5.78407391e+00, 1.52613289e+01, 2.01453990e+01,\n",
              "       2.68841422e+01, 3.98601357e+01, 5.54449653e+01, 7.39346713e+01,\n",
              "       8.83460184e+01, 9.96605128e+01, 1.05137408e+02, 1.11221077e+02,\n",
              "       1.09950444e+02, 1.10891494e+02, 1.11100127e+02, 1.10974579e+02,\n",
              "       1.10293340e+02, 1.10461724e+02, 1.13297749e+02, 1.09034550e+02,\n",
              "       1.02021884e+02, 9.09957992e+01, 7.46132095e+01, 5.51866679e+01,\n",
              "       4.15437869e+01, 2.63097380e+01, 1.30704705e+01, 0.00000000e+00,\n",
              "       0.00000000e+00, 7.57087254e+00, 1.45266734e+01, 2.43937557e+01,\n",
              "       3.00717747e+01, 4.01888208e+01, 6.08548513e+01, 7.74275759e+01,\n",
              "       9.17344983e+01, 1.03835794e+02, 1.10172389e+02, 1.11692227e+02,\n",
              "       1.10910477e+02, 1.10551739e+02, 1.08354557e+02, 1.08455912e+02,\n",
              "       1.08405571e+02, 1.10919845e+02, 1.11089951e+02, 1.08727932e+02,\n",
              "       1.01523360e+02, 9.10742269e+01, 7.35804578e+01, 5.61131377e+01,\n",
              "       3.79362007e+01, 2.38604231e+01, 7.93025037e+00, 0.00000000e+00,\n",
              "       0.00000000e+00, 1.04727012e+01, 1.26712153e+01, 2.04727618e+01,\n",
              "       2.57465190e+01, 3.94957451e+01, 6.11030918e+01, 7.75630503e+01,\n",
              "       9.30718384e+01, 1.04946128e+02, 1.10864551e+02, 1.10628818e+02,\n",
              "       1.07312037e+02, 1.04725546e+02, 1.03512721e+02, 1.04109801e+02,\n",
              "       1.09229373e+02, 1.09148468e+02, 1.10187314e+02, 1.06158905e+02,\n",
              "       9.84362158e+01, 8.66821354e+01, 7.16051746e+01, 5.00670645e+01,\n",
              "       2.86880772e+01, 1.58183266e+01, 3.09287892e+00, 0.00000000e+00,\n",
              "       0.00000000e+00, 8.72060525e+00, 1.23137697e+01, 1.63052825e+01,\n",
              "       2.12683756e+01, 3.93022488e+01, 6.17238657e+01, 8.04390243e+01,\n",
              "       9.74719456e+01, 1.07620432e+02, 1.09219169e+02, 1.08550246e+02,\n",
              "       1.01662066e+02, 1.00623390e+02, 1.01625421e+02, 1.06150097e+02,\n",
              "       1.10003750e+02, 1.09099309e+02, 1.09415881e+02, 1.04677004e+02,\n",
              "       9.31871939e+01, 8.01439053e+01, 6.57919532e+01, 4.80303729e+01,\n",
              "       2.73581225e+01, 1.18088629e+01, 0.00000000e+00, 0.00000000e+00,\n",
              "       0.00000000e+00, 2.59177082e+00, 1.13368355e+01, 1.47915488e+01,\n",
              "       2.18103960e+01, 4.08441289e+01, 6.21762842e+01, 8.51701939e+01,\n",
              "       1.00108943e+02, 1.09440703e+02, 1.11719898e+02, 1.08264896e+02,\n",
              "       1.01711511e+02, 1.03668813e+02, 1.06207461e+02, 1.10361030e+02,\n",
              "       1.10489416e+02, 1.10860060e+02, 1.11232852e+02, 1.03859180e+02,\n",
              "       9.05354872e+01, 7.52952777e+01, 6.39195228e+01, 4.80647924e+01,\n",
              "       3.33604079e+01, 1.19853567e+01, 9.48208838e-02, 1.83320375e+00,\n",
              "       0.00000000e+00, 0.00000000e+00, 3.59263636e+00, 8.14235617e+00,\n",
              "       1.97781479e+01, 4.11438100e+01, 6.56350295e+01, 8.80520814e+01,\n",
              "       1.00798728e+02, 1.08874572e+02, 1.11633034e+02, 1.09901462e+02,\n",
              "       1.05965581e+02, 1.08765410e+02, 1.13323253e+02, 1.10613202e+02,\n",
              "       1.10960423e+02, 1.10953761e+02, 1.10724424e+02, 1.02325198e+02,\n",
              "       8.91157716e+01, 7.42997706e+01, 6.24906265e+01, 4.99741611e+01,\n",
              "       3.64398868e+01, 1.63024415e+01, 6.41621314e+00, 7.68049159e+00,\n",
              "       0.00000000e+00, 0.00000000e+00, 0.00000000e+00, 2.72516862e+00,\n",
              "       2.03074204e+01, 4.32984798e+01, 7.00012026e+01, 8.81686099e+01,\n",
              "       1.00821870e+02, 1.08706863e+02, 1.11205508e+02, 1.09288265e+02,\n",
              "       1.09846786e+02, 1.11840313e+02, 1.12781031e+02, 1.09653677e+02,\n",
              "       1.09469571e+02, 1.11365800e+02, 1.10613055e+02, 1.01759017e+02,\n",
              "       9.15662862e+01, 7.94801625e+01, 6.57710359e+01, 5.21604412e+01,\n",
              "       3.44789517e+01, 1.77209463e+01, 1.70677591e+00, 8.53387954e-01,\n",
              "       0.00000000e+00, 0.00000000e+00, 0.00000000e+00, 4.80917623e+00,\n",
              "       2.07291419e+01, 4.84987399e+01, 7.30936887e+01, 8.93671340e+01,\n",
              "       1.00242949e+02, 1.08530431e+02, 1.10677473e+02, 1.08320941e+02,\n",
              "       1.08669758e+02, 1.11813453e+02, 1.11708873e+02, 1.10077345e+02,\n",
              "       1.11636200e+02, 1.10532798e+02, 1.10586861e+02, 1.03594960e+02,\n",
              "       9.31408958e+01, 8.26801657e+01, 6.83654791e+01, 4.98762500e+01,\n",
              "       3.30721343e+01, 1.68748659e+01, 3.60319358e+00, 0.00000000e+00,\n",
              "       0.00000000e+00, 0.00000000e+00, 0.00000000e+00, 1.00617038e+01,\n",
              "       2.07763488e+01, 5.11311647e+01, 7.37705892e+01, 8.85641598e+01,\n",
              "       9.94733001e+01, 1.06929788e+02, 1.07284819e+02, 1.09033574e+02,\n",
              "       1.10243050e+02, 1.12019209e+02, 1.12466403e+02, 1.12157375e+02,\n",
              "       1.11459394e+02, 1.09242772e+02, 1.08169009e+02, 1.04106464e+02,\n",
              "       9.40435252e+01, 8.41063465e+01, 6.82638702e+01, 4.91804180e+01,\n",
              "       3.25839628e+01, 2.11678146e+01, 8.57601487e+00, 0.00000000e+00,\n",
              "       0.00000000e+00, 0.00000000e+00, 0.00000000e+00, 1.18447288e+01,\n",
              "       2.32294495e+01, 5.50316255e+01, 7.45412932e+01, 8.68328611e+01,\n",
              "       9.72023806e+01, 1.02849218e+02, 1.03536044e+02, 1.05336510e+02,\n",
              "       1.07134537e+02, 1.11117911e+02, 1.12436530e+02, 1.11451366e+02,\n",
              "       1.09099615e+02, 1.09248916e+02, 1.08117093e+02, 1.03191807e+02,\n",
              "       9.74027816e+01, 8.52167864e+01, 7.06612882e+01, 4.84726128e+01,\n",
              "       3.19229158e+01, 2.14907656e+01, 7.60003414e+00, 0.00000000e+00,\n",
              "       0.00000000e+00, 0.00000000e+00, 0.00000000e+00, 1.09302622e+01,\n",
              "       3.08743676e+01, 5.62584085e+01, 7.71671813e+01, 8.75462509e+01,\n",
              "       9.80107423e+01, 1.01591694e+02, 1.02271680e+02, 1.04139188e+02,\n",
              "       1.04102638e+02, 1.10631065e+02, 1.11904741e+02, 1.10196896e+02,\n",
              "       1.09527215e+02, 1.10445092e+02, 1.07727193e+02, 1.01583555e+02,\n",
              "       9.41827074e+01, 8.07193682e+01, 6.57868564e+01, 4.43426309e+01,\n",
              "       2.90448585e+01, 1.88414479e+01, 9.11756349e+00, 0.00000000e+00,\n",
              "       0.00000000e+00, 0.00000000e+00, 0.00000000e+00, 1.17808360e+01,\n",
              "       3.24488120e+01, 5.68157126e+01, 7.80759205e+01, 8.94451836e+01,\n",
              "       9.87396567e+01, 1.04195394e+02, 1.04749158e+02, 1.06361547e+02,\n",
              "       1.09753000e+02, 1.10104791e+02, 1.09583452e+02, 1.10760651e+02,\n",
              "       1.09775976e+02, 1.10459167e+02, 1.06942266e+02, 1.01616931e+02,\n",
              "       9.17873006e+01, 7.80316692e+01, 5.71965249e+01, 3.78412492e+01,\n",
              "       2.57174636e+01, 1.82321867e+01, 8.11523900e+00, 0.00000000e+00,\n",
              "       0.00000000e+00, 0.00000000e+00, 0.00000000e+00, 1.05456626e+01,\n",
              "       3.00325360e+01, 5.48187776e+01, 7.71815901e+01, 9.09745511e+01,\n",
              "       1.00255372e+02, 1.07566029e+02, 1.10076302e+02, 1.11007348e+02,\n",
              "       1.11243930e+02, 1.10176036e+02, 1.08870184e+02, 1.11142567e+02,\n",
              "       1.10758505e+02, 1.10178523e+02, 1.05000632e+02, 9.82867372e+01,\n",
              "       8.79052331e+01, 7.12755323e+01, 4.94817379e+01, 3.46593187e+01,\n",
              "       2.21135709e+01, 1.14227299e+01, 5.24675557e+00, 0.00000000e+00,\n",
              "       0.00000000e+00, 0.00000000e+00, 4.58300938e+00, 1.16322135e+01,\n",
              "       3.10137974e+01, 5.24327369e+01, 7.38766323e+01, 9.05422725e+01,\n",
              "       1.01025318e+02, 1.07797792e+02, 1.10443239e+02, 1.11834269e+02,\n",
              "       1.10790812e+02, 1.08819593e+02, 1.11862373e+02, 1.11670802e+02,\n",
              "       1.09841031e+02, 1.07763629e+02, 9.93029702e+01, 8.99942819e+01,\n",
              "       7.81594818e+01, 5.94407686e+01, 4.25865358e+01, 2.81761807e+01,\n",
              "       1.55613791e+01, 5.12032772e+00, 2.84462651e-01, 0.00000000e+00,\n",
              "       0.00000000e+00, 0.00000000e+00, 6.35050478e+00, 1.29976152e+01,\n",
              "       2.68100056e+01, 4.42571715e+01, 6.57520170e+01, 8.33072231e+01,\n",
              "       9.62982932e+01, 1.07038903e+02, 1.12943204e+02, 1.14287092e+02,\n",
              "       1.12609348e+02, 1.12733640e+02, 1.12417881e+02, 1.11784651e+02,\n",
              "       1.07940423e+02, 1.00985959e+02, 8.53297949e+01, 7.28875479e+01,\n",
              "       5.97963929e+01, 4.30306983e+01, 2.79526259e+01, 1.75172896e+01,\n",
              "       9.73865283e+00, 2.84462651e-01, 0.00000000e+00, 0.00000000e+00,\n",
              "       0.00000000e+00, 0.00000000e+00, 6.35299921e+00, 1.01642585e+01,\n",
              "       1.90351458e+01, 3.28989966e+01, 4.81493676e+01, 6.54671874e+01,\n",
              "       8.20300405e+01, 9.46381365e+01, 1.06077420e+02, 1.09025397e+02,\n",
              "       1.09749752e+02, 1.11887792e+02, 1.09182234e+02, 1.04283105e+02,\n",
              "       9.44570929e+01, 8.20263958e+01, 6.48810807e+01, 5.17672486e+01,\n",
              "       3.96790375e+01, 2.66568823e+01, 1.87746940e+01, 1.08967112e+01,\n",
              "       2.06504019e+00, 0.00000000e+00, 0.00000000e+00, 0.00000000e+00,\n",
              "       0.00000000e+00, 0.00000000e+00, 0.00000000e+00, 5.37318341e+00,\n",
              "       1.24628979e+01, 1.76361097e+01, 2.62672118e+01, 3.86796783e+01,\n",
              "       5.23026232e+01, 6.87891787e+01, 7.93554850e+01, 8.64076860e+01,\n",
              "       8.97149094e+01, 9.12298385e+01, 8.67357568e+01, 8.16883290e+01,\n",
              "       7.04948900e+01, 5.81036450e+01, 4.44166230e+01, 3.57496271e+01,\n",
              "       2.83690670e+01, 2.18107092e+01, 1.49269253e+01, 9.80410118e+00,\n",
              "       6.32139225e-02, 0.00000000e+00, 0.00000000e+00, 0.00000000e+00,\n",
              "       0.00000000e+00, 0.00000000e+00, 0.00000000e+00, 0.00000000e+00,\n",
              "       3.95087016e+00, 8.60724602e+00, 1.28153174e+01, 1.69040764e+01,\n",
              "       2.65831252e+01, 4.21593309e+01, 4.61394318e+01, 5.44340746e+01,\n",
              "       5.87510589e+01, 5.78635820e+01, 5.15483341e+01, 4.85255322e+01,\n",
              "       4.20567994e+01, 3.62486111e+01, 2.68501727e+01, 2.46545794e+01,\n",
              "       1.95370381e+01, 1.41320797e+01, 8.91960487e+00, 3.35426654e+00,\n",
              "       0.00000000e+00, 0.00000000e+00, 0.00000000e+00, 0.00000000e+00,\n",
              "       0.00000000e+00, 0.00000000e+00, 0.00000000e+00, 0.00000000e+00,\n",
              "       0.00000000e+00, 4.44582939e+00, 1.01884145e+01, 1.10024315e+01,\n",
              "       1.55480941e+01, 2.41574643e+01, 2.58677000e+01, 2.93514868e+01,\n",
              "       3.14873841e+01, 3.73789211e+01, 3.22523177e+01, 2.64825092e+01,\n",
              "       2.83928120e+01, 2.48103014e+01, 1.58696515e+01, 1.08486121e+01,\n",
              "       1.04317703e+01, 6.43526526e+00, 7.58567070e-01, 0.00000000e+00,\n",
              "       0.00000000e+00, 0.00000000e+00, 0.00000000e+00, 0.00000000e+00,\n",
              "       0.00000000e+00, 0.00000000e+00, 0.00000000e+00, 0.00000000e+00,\n",
              "       0.00000000e+00, 0.00000000e+00, 0.00000000e+00, 4.23533281e+00,\n",
              "       8.24648477e+00, 7.58178337e+00, 8.70581507e+00, 6.09186310e+00,\n",
              "       7.07170637e+00, 1.11491903e+01, 8.17545497e+00, 3.12551420e+00,\n",
              "       8.76512356e+00, 8.87816896e+00, 3.06724632e+00, 0.00000000e+00,\n",
              "       0.00000000e+00, 0.00000000e+00, 0.00000000e+00, 0.00000000e+00,\n",
              "       0.00000000e+00, 0.00000000e+00, 0.00000000e+00, 0.00000000e+00])"
            ]
          },
          "metadata": {},
          "execution_count": 11
        }
      ]
    },
    {
      "cell_type": "code",
      "source": [
        "eigvals, eigvecs = np.linalg.eig(cov) # get eigen values and eigen vectors\n",
        "sort_indices = np.argsort(eigvals) # sort in ascending order\n",
        "sort_indices = np.flip(sort_indices) # reverse in decreasing order\n",
        "sort_indices"
      ],
      "metadata": {
        "id": "vc0JM3OZOHCu",
        "colab": {
          "base_uri": "https://localhost:8080/"
        },
        "outputId": "6771c553-80a2-4383-d55e-899732beb38b"
      },
      "execution_count": 18,
      "outputs": [
        {
          "output_type": "execute_result",
          "data": {
            "text/plain": [
              "array([  0,   1,   2,   3,   4,   5,   6,   7,   8,   9,  10,  11,  12,\n",
              "        13,  14,  15,  16,  17,  18,  19,  20,  21,  22,  23,  24,  25,\n",
              "        26,  27,  28,  29,  30,  31,  32,  33,  34,  35,  36,  37,  38,\n",
              "        39,  40,  41,  42,  43,  44,  45,  46,  47,  48,  49,  50,  51,\n",
              "        52,  53,  54,  55,  56,  57,  58,  59,  60,  61,  62,  63,  64,\n",
              "        65,  66,  67,  68,  69,  70,  71,  72,  73,  74,  75,  77,  78,\n",
              "        76,  79,  80,  81,  82,  83,  84,  85,  86,  87,  88,  89,  90,\n",
              "        91,  93,  92,  94,  95,  96,  97,  98,  99, 100, 101, 102, 103,\n",
              "       104, 105, 106, 107, 108, 109, 110, 111, 112, 113, 114, 118, 117,\n",
              "       116, 115, 119, 120, 121, 123, 124, 126, 125, 127, 122, 129, 128,\n",
              "       130, 131, 132, 134, 133, 135, 136, 137, 138, 140, 139, 141, 142,\n",
              "       143, 144, 146, 145, 147, 148, 149, 150, 151, 152, 153, 154, 155,\n",
              "       156, 158, 157, 159, 160, 161, 162, 163, 164, 165, 166, 167, 168,\n",
              "       169, 170, 171, 174, 173, 172, 175, 176, 177, 178, 179, 180, 181,\n",
              "       182, 185, 184, 183, 186, 187, 188, 190, 191, 192, 193, 194, 201,\n",
              "       200, 198, 202, 196, 203, 197, 195, 199, 189, 204, 206, 205, 207,\n",
              "       208, 209, 210, 211, 212, 215, 214, 213, 216, 217, 218, 219, 220,\n",
              "       222, 223, 221, 224, 225, 226, 227, 228, 230, 231, 229, 232, 233,\n",
              "       234, 235, 236, 237, 238, 239, 240, 241, 243, 256, 247, 245, 246,\n",
              "       261, 249, 258, 254, 260, 259, 250, 251, 257, 252, 253, 255, 248,\n",
              "       244, 242, 262, 263, 266, 265, 264, 267, 268, 269, 270, 271, 273,\n",
              "       274, 272, 276, 275, 277, 278, 279, 280, 281, 282, 285, 283, 284,\n",
              "       286, 287, 290, 289, 288, 292, 291, 293, 294, 295, 297, 298, 296,\n",
              "       299, 300, 306, 302, 305, 304, 303, 307, 301, 308, 309, 312, 311,\n",
              "       310, 313, 315, 314, 319, 316, 317, 318, 321, 320, 322, 323, 324,\n",
              "       325, 326, 327, 331, 329, 330, 328, 333, 332, 334, 335, 336, 337,\n",
              "       339, 340, 338, 342, 345, 344, 354, 352, 346, 351, 356, 358, 359,\n",
              "       363, 373, 365, 366, 367, 371, 370, 379, 383, 382, 380, 381, 377,\n",
              "       374, 376, 375, 369, 368, 378, 372, 364, 362, 361, 360, 357, 355,\n",
              "       353, 350, 349, 348, 347, 343, 341, 393, 394, 389, 392, 391, 388,\n",
              "       390, 387, 386, 384, 385, 403, 401, 400, 406, 407, 404, 402, 409,\n",
              "       397, 398, 410, 408, 399, 405, 396, 395, 412, 411, 413, 414, 415,\n",
              "       416, 417, 418, 419, 420, 421, 422, 423, 424, 425, 431, 429, 427,\n",
              "       426, 437, 428, 439, 430, 432, 440, 441, 438, 435, 434, 436, 433,\n",
              "       442, 443, 444, 445, 451, 449, 450, 448, 447, 452, 446, 453, 460,\n",
              "       454, 456, 458, 457, 459, 461, 455, 463, 462, 466, 465, 464, 469,\n",
              "       468, 467, 470, 471, 472, 474, 473, 475, 477, 481, 482, 488, 490,\n",
              "       494, 491, 489, 492, 487, 493, 495, 503, 496, 505, 508, 506, 507,\n",
              "       504, 501, 497, 498, 502, 500, 499, 486, 485, 484, 483, 480, 479,\n",
              "       478, 476, 516, 517, 515, 514, 513, 512, 510, 518, 511, 523, 509,\n",
              "       522, 520, 521, 519, 527, 526, 525, 524, 528, 530, 532, 531, 529,\n",
              "       533, 534, 535, 537, 538, 541, 548, 543, 544, 539, 536, 540, 546,\n",
              "       542, 547, 545, 549, 550, 553, 551, 554, 552, 557, 555, 556, 558,\n",
              "       559, 560, 562, 565, 564, 566, 563, 561, 567, 568, 569, 570, 571,\n",
              "       572, 573, 574, 575, 576, 577, 578, 579, 580, 581, 582, 583, 585,\n",
              "       584, 586, 587, 588, 596, 597, 598, 603, 600, 601, 604, 605, 608,\n",
              "       609, 720, 722, 719, 718, 723, 717, 716, 715, 721, 726, 724, 725,\n",
              "       713, 727, 728, 729, 730, 731, 732, 733, 734, 714, 706, 712, 711,\n",
              "       692, 693, 694, 695, 696, 697, 698, 699, 700, 701, 702, 703, 704,\n",
              "       705, 736, 707, 708, 709, 710, 735, 743, 737, 771, 762, 763, 764,\n",
              "       765, 766, 767, 768, 769, 770, 772, 738, 773, 774, 775, 776, 777,\n",
              "       778, 779, 780, 781, 761, 760, 759, 758, 739, 740, 741, 742, 690,\n",
              "       744, 745, 746, 747, 748, 749, 750, 751, 752, 753, 754, 755, 756,\n",
              "       757, 691, 683, 689, 648, 630, 631, 632, 633, 634, 635, 636, 637,\n",
              "       638, 639, 640, 641, 642, 688, 644, 645, 646, 629, 628, 627, 617,\n",
              "       610, 611, 612, 613, 614, 615, 616, 618, 626, 619, 620, 621, 622,\n",
              "       623, 624, 625, 647, 643, 649, 669, 671, 672, 673, 650, 675, 676,\n",
              "       677, 678, 679, 680, 681, 682, 782, 684, 685, 686, 687, 670, 674,\n",
              "       668, 658, 651, 652, 667, 654, 655, 656, 657, 653, 659, 664, 660,\n",
              "       666, 665, 783, 663, 662, 661, 606, 607, 602, 594, 595, 599, 589,\n",
              "       590, 593, 592, 591])"
            ]
          },
          "metadata": {},
          "execution_count": 18
        }
      ]
    },
    {
      "cell_type": "code",
      "source": [
        "eigvals[sort_indices].shape"
      ],
      "metadata": {
        "id": "ALRUbYhoLnqC",
        "outputId": "18205b3d-b5af-4cd1-c198-8d746c5fec60",
        "colab": {
          "base_uri": "https://localhost:8080/"
        }
      },
      "execution_count": null,
      "outputs": [
        {
          "output_type": "execute_result",
          "data": {
            "text/plain": [
              "(784,)"
            ]
          },
          "metadata": {},
          "execution_count": 34
        }
      ]
    },
    {
      "cell_type": "code",
      "source": [
        "eigvecs[:, sort_indices].shape"
      ],
      "metadata": {
        "id": "hReWAmEFPdTB",
        "outputId": "4a35a48f-5b2a-4754-a4a9-d002b0bf6282",
        "colab": {
          "base_uri": "https://localhost:8080/"
        }
      },
      "execution_count": null,
      "outputs": [
        {
          "output_type": "execute_result",
          "data": {
            "text/plain": [
              "(784, 784)"
            ]
          },
          "metadata": {},
          "execution_count": 40
        }
      ]
    },
    {
      "cell_type": "code",
      "source": [
        "cov.min()"
      ],
      "metadata": {
        "id": "pEhYYmcKNWri",
        "colab": {
          "base_uri": "https://localhost:8080/"
        },
        "outputId": "203a51e4-0d2c-4774-bf77-5b547b0928e0"
      },
      "execution_count": 21,
      "outputs": [
        {
          "output_type": "execute_result",
          "data": {
            "text/plain": [
              "-5557.573767767762"
            ]
          },
          "metadata": {},
          "execution_count": 21
        }
      ]
    },
    {
      "cell_type": "code",
      "source": [],
      "metadata": {
        "id": "c2x9ZsPYNWfM"
      },
      "execution_count": null,
      "outputs": []
    },
    {
      "cell_type": "code",
      "source": [],
      "metadata": {
        "id": "0bpSCaaMQzpr"
      },
      "execution_count": null,
      "outputs": []
    },
    {
      "cell_type": "code",
      "source": [],
      "metadata": {
        "id": "TI5e8jJcNWLC"
      },
      "execution_count": null,
      "outputs": []
    },
    {
      "cell_type": "markdown",
      "source": [
        "## 5.3.\t \n",
        "(15%) Please use PCA to reduce the 784-dimensional data to that with 500, 300, 100, and 50 dimensions, and then show the decoding results, respectively. How do you interpret the results?"
      ],
      "metadata": {
        "id": "_ldpb0KN0l65"
      }
    }
  ]
}