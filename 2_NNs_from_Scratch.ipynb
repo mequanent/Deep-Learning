{
  "nbformat": 4,
  "nbformat_minor": 0,
  "metadata": {
    "colab": {
      "provenance": [],
      "authorship_tag": "ABX9TyOzNdpzkVRaKV777Fr0TdW7",
      "include_colab_link": true
    },
    "kernelspec": {
      "name": "python3",
      "display_name": "Python 3"
    },
    "language_info": {
      "name": "python"
    },
    "gpuClass": "standard",
    "accelerator": "GPU"
  },
  "cells": [
    {
      "cell_type": "markdown",
      "metadata": {
        "id": "view-in-github",
        "colab_type": "text"
      },
      "source": [
        "<a href=\"https://colab.research.google.com/github/mequanent/Deep-Learning/blob/main/2_NNs_from_Scratch.ipynb\" target=\"_parent\"><img src=\"https://colab.research.google.com/assets/colab-badge.svg\" alt=\"Open In Colab\"/></a>"
      ]
    },
    {
      "cell_type": "code",
      "source": [
        "# Clone the repository first using the following command \n",
        "!npx degit https://github.com/mequanent/Deep-Learning -f"
      ],
      "metadata": {
        "id": "18oP4hlR_P3y",
        "outputId": "483735c6-486f-4480-aee0-8a4e4612e1bb",
        "colab": {
          "base_uri": "https://localhost:8080/"
        }
      },
      "execution_count": 7,
      "outputs": [
        {
          "output_type": "stream",
          "name": "stdout",
          "text": [
            "\u001b[K\u001b[?25hnpx: installed 1 in 2.747s\n",
            "\u001b[36m> destination directory is not empty. Using --force, continuing\u001b[39m\n",
            "\u001b[36m> cloned \u001b[1mmequanent/Deep-Learning\u001b[22m#\u001b[1mHEAD\u001b[22m\u001b[39m\n"
          ]
        }
      ]
    },
    {
      "cell_type": "markdown",
      "source": [
        "# Libraries"
      ],
      "metadata": {
        "id": "Rst84TMU-hsl"
      }
    },
    {
      "cell_type": "code",
      "execution_count": 5,
      "metadata": {
        "id": "9GD56ge_9l1p"
      },
      "outputs": [],
      "source": [
        "import numpy as np\n",
        "import pandas as pd\n",
        "import random\n",
        "from scipy.io import loadmat\n",
        "import matplotlib.pyplot as plt\n",
        "%matplotlib inline\n",
        "\n",
        "import keras\n",
        "from keras.datasets import mnist\n",
        "#from keras import layers\n",
        "from keras.models import Sequential\n",
        "#from keras.models import Model\n",
        "from keras.layers import Dense, Flatten, Dropout\n",
        "from keras.layers import Conv2D, MaxPooling2D, UpSampling2D#, Conv2DTranspose\n",
        "#from keras.optimizers import Adam\n",
        "from keras.utils import to_categorical\n",
        "\n",
        "import warnings\n",
        "warnings.filterwarnings(\"ignore\")"
      ]
    },
    {
      "cell_type": "markdown",
      "source": [
        "# 1.\t\n",
        "(20%) Please construct a neural net (with its architecture shown below) and train it on ‘train.mat.” The activation function must be used in the two hidden layers and the output layer. You can construct and optimize your network model by using any off-the-shelf functions. Report the test error on the test set ‘test.mat’ (percentage of misclassified test samples). "
      ],
      "metadata": {
        "id": "QpDdxPrgUY_5"
      }
    },
    {
      "cell_type": "markdown",
      "source": [
        "# Read Dataset "
      ],
      "metadata": {
        "id": "6UQDCvnC-srr"
      }
    },
    {
      "cell_type": "code",
      "source": [
        "train = loadmat(r\"NNs from Scratch/train.mat\") \n",
        "test = loadmat(r\"NNs from Scratch/test.mat\") \n",
        "df = pd.DataFrame()\n",
        "df['x1'] = train['x1'].flatten()\n",
        "df['x2'] = train['x2'].flatten()\n",
        "df['y'] = train['y']\n",
        "\n",
        "test_df = pd.DataFrame()\n",
        "test_df['x1'] = test['x1'].flatten()\n",
        "test_df['x2'] = test['x2'].flatten()\n",
        "test_df['y'] = test['y']"
      ],
      "metadata": {
        "id": "sHAjIOhl-r7h"
      },
      "execution_count": 8,
      "outputs": []
    },
    {
      "cell_type": "code",
      "source": [
        "model = keras.Sequential()\n",
        "model.add(Dense(3, input_shape=(2,), activation='relu', use_bias=True, bias_initializer='ones'))\n",
        "model.add(Dense(2, activation='relu', use_bias=True, bias_initializer='ones'))\n",
        "model.add(Dense(1, activation='sigmoid', use_bias=True, bias_initializer='zeros'))\n",
        "\n",
        "model.compile(optimizer='adam', \n",
        "              loss=keras.losses.BinaryCrossentropy(from_logits=True),\n",
        "              metrics=['accuracy'],\n",
        "              )\n",
        "\n",
        "x = np.column_stack((df.x1.values, df.x2.values))\n",
        "x_test = np.column_stack((test_df.x1.values, test_df.x2.values))\n",
        "\n",
        "model.fit(x, df.y.values, batch_size=10, epochs=400)"
      ],
      "metadata": {
        "id": "CxgQE-xmGJTF",
        "colab": {
          "base_uri": "https://localhost:8080/"
        },
        "outputId": "2316a820-a3a0-471e-b761-5eda177e52bd"
      },
      "execution_count": 9,
      "outputs": [
        {
          "output_type": "stream",
          "name": "stdout",
          "text": [
            "Epoch 1/500\n",
            "7/7 [==============================] - 1s 5ms/step - loss: 0.7160 - accuracy: 0.5000\n",
            "Epoch 2/500\n",
            "7/7 [==============================] - 0s 5ms/step - loss: 0.7107 - accuracy: 0.5000\n",
            "Epoch 3/500\n",
            "7/7 [==============================] - 0s 5ms/step - loss: 0.7071 - accuracy: 0.5000\n",
            "Epoch 4/500\n",
            "7/7 [==============================] - 0s 5ms/step - loss: 0.7037 - accuracy: 0.5000\n",
            "Epoch 5/500\n",
            "7/7 [==============================] - 0s 3ms/step - loss: 0.7001 - accuracy: 0.5000\n",
            "Epoch 6/500\n",
            "7/7 [==============================] - 0s 4ms/step - loss: 0.6968 - accuracy: 0.5000\n",
            "Epoch 7/500\n",
            "7/7 [==============================] - 0s 3ms/step - loss: 0.6942 - accuracy: 0.5000\n",
            "Epoch 8/500\n",
            "7/7 [==============================] - 0s 2ms/step - loss: 0.6923 - accuracy: 0.5000\n",
            "Epoch 9/500\n",
            "7/7 [==============================] - 0s 2ms/step - loss: 0.6900 - accuracy: 0.5000\n",
            "Epoch 10/500\n",
            "7/7 [==============================] - 0s 2ms/step - loss: 0.6884 - accuracy: 0.5000\n",
            "Epoch 11/500\n",
            "7/7 [==============================] - 0s 2ms/step - loss: 0.6869 - accuracy: 0.5000\n",
            "Epoch 12/500\n",
            "7/7 [==============================] - 0s 3ms/step - loss: 0.6858 - accuracy: 0.5000\n",
            "Epoch 13/500\n",
            "7/7 [==============================] - 0s 3ms/step - loss: 0.6846 - accuracy: 0.5000\n",
            "Epoch 14/500\n",
            "7/7 [==============================] - 0s 2ms/step - loss: 0.6839 - accuracy: 0.5000\n",
            "Epoch 15/500\n",
            "7/7 [==============================] - 0s 2ms/step - loss: 0.6830 - accuracy: 0.5000\n",
            "Epoch 16/500\n",
            "7/7 [==============================] - 0s 2ms/step - loss: 0.6820 - accuracy: 0.5429\n",
            "Epoch 17/500\n",
            "7/7 [==============================] - 0s 3ms/step - loss: 0.6814 - accuracy: 0.5714\n",
            "Epoch 18/500\n",
            "7/7 [==============================] - 0s 2ms/step - loss: 0.6807 - accuracy: 0.5857\n",
            "Epoch 19/500\n",
            "7/7 [==============================] - 0s 3ms/step - loss: 0.6803 - accuracy: 0.6429\n",
            "Epoch 20/500\n",
            "7/7 [==============================] - 0s 3ms/step - loss: 0.6798 - accuracy: 0.6286\n",
            "Epoch 21/500\n",
            "7/7 [==============================] - 0s 3ms/step - loss: 0.6795 - accuracy: 0.6286\n",
            "Epoch 22/500\n",
            "7/7 [==============================] - 0s 2ms/step - loss: 0.6792 - accuracy: 0.6286\n",
            "Epoch 23/500\n",
            "7/7 [==============================] - 0s 3ms/step - loss: 0.6787 - accuracy: 0.6286\n",
            "Epoch 24/500\n",
            "7/7 [==============================] - 0s 3ms/step - loss: 0.6784 - accuracy: 0.6286\n",
            "Epoch 25/500\n",
            "7/7 [==============================] - 0s 3ms/step - loss: 0.6780 - accuracy: 0.6429\n",
            "Epoch 26/500\n",
            "7/7 [==============================] - 0s 3ms/step - loss: 0.6777 - accuracy: 0.6429\n",
            "Epoch 27/500\n",
            "7/7 [==============================] - 0s 2ms/step - loss: 0.6773 - accuracy: 0.6571\n",
            "Epoch 28/500\n",
            "7/7 [==============================] - 0s 2ms/step - loss: 0.6768 - accuracy: 0.6571\n",
            "Epoch 29/500\n",
            "7/7 [==============================] - 0s 3ms/step - loss: 0.6767 - accuracy: 0.6571\n",
            "Epoch 30/500\n",
            "7/7 [==============================] - 0s 3ms/step - loss: 0.6761 - accuracy: 0.6571\n",
            "Epoch 31/500\n",
            "7/7 [==============================] - 0s 3ms/step - loss: 0.6759 - accuracy: 0.6714\n",
            "Epoch 32/500\n",
            "7/7 [==============================] - 0s 3ms/step - loss: 0.6752 - accuracy: 0.6714\n",
            "Epoch 33/500\n",
            "7/7 [==============================] - 0s 2ms/step - loss: 0.6748 - accuracy: 0.6714\n",
            "Epoch 34/500\n",
            "7/7 [==============================] - 0s 3ms/step - loss: 0.6745 - accuracy: 0.6571\n",
            "Epoch 35/500\n",
            "7/7 [==============================] - 0s 3ms/step - loss: 0.6745 - accuracy: 0.7143\n",
            "Epoch 36/500\n",
            "7/7 [==============================] - 0s 3ms/step - loss: 0.6738 - accuracy: 0.7143\n",
            "Epoch 37/500\n",
            "7/7 [==============================] - 0s 2ms/step - loss: 0.6734 - accuracy: 0.6857\n",
            "Epoch 38/500\n",
            "7/7 [==============================] - 0s 4ms/step - loss: 0.6728 - accuracy: 0.6714\n",
            "Epoch 39/500\n",
            "7/7 [==============================] - 0s 2ms/step - loss: 0.6724 - accuracy: 0.6714\n",
            "Epoch 40/500\n",
            "7/7 [==============================] - 0s 3ms/step - loss: 0.6720 - accuracy: 0.6714\n",
            "Epoch 41/500\n",
            "7/7 [==============================] - 0s 2ms/step - loss: 0.6715 - accuracy: 0.7000\n",
            "Epoch 42/500\n",
            "7/7 [==============================] - 0s 3ms/step - loss: 0.6711 - accuracy: 0.7286\n",
            "Epoch 43/500\n",
            "7/7 [==============================] - 0s 2ms/step - loss: 0.6707 - accuracy: 0.6857\n",
            "Epoch 44/500\n",
            "7/7 [==============================] - 0s 3ms/step - loss: 0.6702 - accuracy: 0.6857\n",
            "Epoch 45/500\n",
            "7/7 [==============================] - 0s 2ms/step - loss: 0.6698 - accuracy: 0.6857\n",
            "Epoch 46/500\n",
            "7/7 [==============================] - 0s 2ms/step - loss: 0.6693 - accuracy: 0.7000\n",
            "Epoch 47/500\n",
            "7/7 [==============================] - 0s 3ms/step - loss: 0.6689 - accuracy: 0.7143\n",
            "Epoch 48/500\n",
            "7/7 [==============================] - 0s 2ms/step - loss: 0.6685 - accuracy: 0.7000\n",
            "Epoch 49/500\n",
            "7/7 [==============================] - 0s 2ms/step - loss: 0.6679 - accuracy: 0.7286\n",
            "Epoch 50/500\n",
            "7/7 [==============================] - 0s 2ms/step - loss: 0.6677 - accuracy: 0.7000\n",
            "Epoch 51/500\n",
            "7/7 [==============================] - 0s 4ms/step - loss: 0.6669 - accuracy: 0.6857\n",
            "Epoch 52/500\n",
            "7/7 [==============================] - 0s 2ms/step - loss: 0.6666 - accuracy: 0.6857\n",
            "Epoch 53/500\n",
            "7/7 [==============================] - 0s 2ms/step - loss: 0.6659 - accuracy: 0.7286\n",
            "Epoch 54/500\n",
            "7/7 [==============================] - 0s 2ms/step - loss: 0.6655 - accuracy: 0.7286\n",
            "Epoch 55/500\n",
            "7/7 [==============================] - 0s 3ms/step - loss: 0.6653 - accuracy: 0.7143\n",
            "Epoch 56/500\n",
            "7/7 [==============================] - 0s 2ms/step - loss: 0.6646 - accuracy: 0.7000\n",
            "Epoch 57/500\n",
            "7/7 [==============================] - 0s 2ms/step - loss: 0.6640 - accuracy: 0.7429\n",
            "Epoch 58/500\n",
            "7/7 [==============================] - 0s 2ms/step - loss: 0.6633 - accuracy: 0.7429\n",
            "Epoch 59/500\n",
            "7/7 [==============================] - 0s 3ms/step - loss: 0.6628 - accuracy: 0.7429\n",
            "Epoch 60/500\n",
            "7/7 [==============================] - 0s 3ms/step - loss: 0.6622 - accuracy: 0.7429\n",
            "Epoch 61/500\n",
            "7/7 [==============================] - 0s 2ms/step - loss: 0.6617 - accuracy: 0.7429\n",
            "Epoch 62/500\n",
            "7/7 [==============================] - 0s 2ms/step - loss: 0.6610 - accuracy: 0.7429\n",
            "Epoch 63/500\n",
            "7/7 [==============================] - 0s 3ms/step - loss: 0.6605 - accuracy: 0.7429\n",
            "Epoch 64/500\n",
            "7/7 [==============================] - 0s 3ms/step - loss: 0.6599 - accuracy: 0.7429\n",
            "Epoch 65/500\n",
            "7/7 [==============================] - 0s 2ms/step - loss: 0.6594 - accuracy: 0.7571\n",
            "Epoch 66/500\n",
            "7/7 [==============================] - 0s 3ms/step - loss: 0.6589 - accuracy: 0.7714\n",
            "Epoch 67/500\n",
            "7/7 [==============================] - 0s 3ms/step - loss: 0.6581 - accuracy: 0.7571\n",
            "Epoch 68/500\n",
            "7/7 [==============================] - 0s 3ms/step - loss: 0.6575 - accuracy: 0.7429\n",
            "Epoch 69/500\n",
            "7/7 [==============================] - 0s 3ms/step - loss: 0.6569 - accuracy: 0.7429\n",
            "Epoch 70/500\n",
            "7/7 [==============================] - 0s 4ms/step - loss: 0.6561 - accuracy: 0.7429\n",
            "Epoch 71/500\n",
            "7/7 [==============================] - 0s 3ms/step - loss: 0.6554 - accuracy: 0.7571\n",
            "Epoch 72/500\n",
            "7/7 [==============================] - 0s 2ms/step - loss: 0.6549 - accuracy: 0.7571\n",
            "Epoch 73/500\n",
            "7/7 [==============================] - 0s 3ms/step - loss: 0.6543 - accuracy: 0.7571\n",
            "Epoch 74/500\n",
            "7/7 [==============================] - 0s 3ms/step - loss: 0.6536 - accuracy: 0.7714\n",
            "Epoch 75/500\n",
            "7/7 [==============================] - 0s 3ms/step - loss: 0.6530 - accuracy: 0.7571\n",
            "Epoch 76/500\n",
            "7/7 [==============================] - 0s 3ms/step - loss: 0.6522 - accuracy: 0.7571\n",
            "Epoch 77/500\n",
            "7/7 [==============================] - 0s 3ms/step - loss: 0.6514 - accuracy: 0.7571\n",
            "Epoch 78/500\n",
            "7/7 [==============================] - 0s 3ms/step - loss: 0.6513 - accuracy: 0.7714\n",
            "Epoch 79/500\n",
            "7/7 [==============================] - 0s 3ms/step - loss: 0.6503 - accuracy: 0.7714\n",
            "Epoch 80/500\n",
            "7/7 [==============================] - 0s 3ms/step - loss: 0.6492 - accuracy: 0.7714\n",
            "Epoch 81/500\n",
            "7/7 [==============================] - 0s 3ms/step - loss: 0.6489 - accuracy: 0.7571\n",
            "Epoch 82/500\n",
            "7/7 [==============================] - 0s 3ms/step - loss: 0.6477 - accuracy: 0.7571\n",
            "Epoch 83/500\n",
            "7/7 [==============================] - 0s 4ms/step - loss: 0.6469 - accuracy: 0.7714\n",
            "Epoch 84/500\n",
            "7/7 [==============================] - 0s 3ms/step - loss: 0.6463 - accuracy: 0.7714\n",
            "Epoch 85/500\n",
            "7/7 [==============================] - 0s 3ms/step - loss: 0.6454 - accuracy: 0.7714\n",
            "Epoch 86/500\n",
            "7/7 [==============================] - 0s 3ms/step - loss: 0.6447 - accuracy: 0.7714\n",
            "Epoch 87/500\n",
            "7/7 [==============================] - 0s 3ms/step - loss: 0.6438 - accuracy: 0.7714\n",
            "Epoch 88/500\n",
            "7/7 [==============================] - 0s 3ms/step - loss: 0.6434 - accuracy: 0.7571\n",
            "Epoch 89/500\n",
            "7/7 [==============================] - 0s 2ms/step - loss: 0.6421 - accuracy: 0.7714\n",
            "Epoch 90/500\n",
            "7/7 [==============================] - 0s 3ms/step - loss: 0.6415 - accuracy: 0.7714\n",
            "Epoch 91/500\n",
            "7/7 [==============================] - 0s 2ms/step - loss: 0.6406 - accuracy: 0.7714\n",
            "Epoch 92/500\n",
            "7/7 [==============================] - 0s 2ms/step - loss: 0.6397 - accuracy: 0.7714\n",
            "Epoch 93/500\n",
            "7/7 [==============================] - 0s 3ms/step - loss: 0.6389 - accuracy: 0.7714\n",
            "Epoch 94/500\n",
            "7/7 [==============================] - 0s 3ms/step - loss: 0.6382 - accuracy: 0.7571\n",
            "Epoch 95/500\n",
            "7/7 [==============================] - 0s 3ms/step - loss: 0.6372 - accuracy: 0.7714\n",
            "Epoch 96/500\n",
            "7/7 [==============================] - 0s 3ms/step - loss: 0.6362 - accuracy: 0.7714\n",
            "Epoch 97/500\n",
            "7/7 [==============================] - 0s 3ms/step - loss: 0.6353 - accuracy: 0.7714\n",
            "Epoch 98/500\n",
            "7/7 [==============================] - 0s 3ms/step - loss: 0.6344 - accuracy: 0.7714\n",
            "Epoch 99/500\n",
            "7/7 [==============================] - 0s 3ms/step - loss: 0.6337 - accuracy: 0.7714\n",
            "Epoch 100/500\n",
            "7/7 [==============================] - 0s 3ms/step - loss: 0.6326 - accuracy: 0.7714\n",
            "Epoch 101/500\n",
            "7/7 [==============================] - 0s 2ms/step - loss: 0.6318 - accuracy: 0.7714\n",
            "Epoch 102/500\n",
            "7/7 [==============================] - 0s 2ms/step - loss: 0.6307 - accuracy: 0.7714\n",
            "Epoch 103/500\n",
            "7/7 [==============================] - 0s 3ms/step - loss: 0.6300 - accuracy: 0.7714\n",
            "Epoch 104/500\n",
            "7/7 [==============================] - 0s 3ms/step - loss: 0.6290 - accuracy: 0.7714\n",
            "Epoch 105/500\n",
            "7/7 [==============================] - 0s 3ms/step - loss: 0.6279 - accuracy: 0.7714\n",
            "Epoch 106/500\n",
            "7/7 [==============================] - 0s 3ms/step - loss: 0.6271 - accuracy: 0.7714\n",
            "Epoch 107/500\n",
            "7/7 [==============================] - 0s 3ms/step - loss: 0.6261 - accuracy: 0.7571\n",
            "Epoch 108/500\n",
            "7/7 [==============================] - 0s 3ms/step - loss: 0.6254 - accuracy: 0.7571\n",
            "Epoch 109/500\n",
            "7/7 [==============================] - 0s 3ms/step - loss: 0.6239 - accuracy: 0.7714\n",
            "Epoch 110/500\n",
            "7/7 [==============================] - 0s 2ms/step - loss: 0.6228 - accuracy: 0.7714\n",
            "Epoch 111/500\n",
            "7/7 [==============================] - 0s 3ms/step - loss: 0.6219 - accuracy: 0.7714\n",
            "Epoch 112/500\n",
            "7/7 [==============================] - 0s 5ms/step - loss: 0.6211 - accuracy: 0.7714\n",
            "Epoch 113/500\n",
            "7/7 [==============================] - 0s 3ms/step - loss: 0.6198 - accuracy: 0.7714\n",
            "Epoch 114/500\n",
            "7/7 [==============================] - 0s 3ms/step - loss: 0.6186 - accuracy: 0.7714\n",
            "Epoch 115/500\n",
            "7/7 [==============================] - 0s 3ms/step - loss: 0.6176 - accuracy: 0.7857\n",
            "Epoch 116/500\n",
            "7/7 [==============================] - 0s 3ms/step - loss: 0.6166 - accuracy: 0.8286\n",
            "Epoch 117/500\n",
            "7/7 [==============================] - 0s 3ms/step - loss: 0.6154 - accuracy: 0.8000\n",
            "Epoch 118/500\n",
            "7/7 [==============================] - 0s 4ms/step - loss: 0.6142 - accuracy: 0.7714\n",
            "Epoch 119/500\n",
            "7/7 [==============================] - 0s 3ms/step - loss: 0.6133 - accuracy: 0.7857\n",
            "Epoch 120/500\n",
            "7/7 [==============================] - 0s 3ms/step - loss: 0.6120 - accuracy: 0.8143\n",
            "Epoch 121/500\n",
            "7/7 [==============================] - 0s 3ms/step - loss: 0.6109 - accuracy: 0.7857\n",
            "Epoch 122/500\n",
            "7/7 [==============================] - 0s 2ms/step - loss: 0.6097 - accuracy: 0.7571\n",
            "Epoch 123/500\n",
            "7/7 [==============================] - 0s 2ms/step - loss: 0.6084 - accuracy: 0.7714\n",
            "Epoch 124/500\n",
            "7/7 [==============================] - 0s 4ms/step - loss: 0.6073 - accuracy: 0.8143\n",
            "Epoch 125/500\n",
            "7/7 [==============================] - 0s 3ms/step - loss: 0.6064 - accuracy: 0.8000\n",
            "Epoch 126/500\n",
            "7/7 [==============================] - 0s 3ms/step - loss: 0.6050 - accuracy: 0.7714\n",
            "Epoch 127/500\n",
            "7/7 [==============================] - 0s 3ms/step - loss: 0.6036 - accuracy: 0.8000\n",
            "Epoch 128/500\n",
            "7/7 [==============================] - 0s 3ms/step - loss: 0.6027 - accuracy: 0.8714\n",
            "Epoch 129/500\n",
            "7/7 [==============================] - 0s 3ms/step - loss: 0.6011 - accuracy: 0.8714\n",
            "Epoch 130/500\n",
            "7/7 [==============================] - 0s 3ms/step - loss: 0.5999 - accuracy: 0.8286\n",
            "Epoch 131/500\n",
            "7/7 [==============================] - 0s 3ms/step - loss: 0.5986 - accuracy: 0.8143\n",
            "Epoch 132/500\n",
            "7/7 [==============================] - 0s 3ms/step - loss: 0.5975 - accuracy: 0.8143\n",
            "Epoch 133/500\n",
            "7/7 [==============================] - 0s 2ms/step - loss: 0.5962 - accuracy: 0.8286\n",
            "Epoch 134/500\n",
            "7/7 [==============================] - 0s 2ms/step - loss: 0.5948 - accuracy: 0.8571\n",
            "Epoch 135/500\n",
            "7/7 [==============================] - 0s 3ms/step - loss: 0.5934 - accuracy: 0.8000\n",
            "Epoch 136/500\n",
            "7/7 [==============================] - 0s 3ms/step - loss: 0.5920 - accuracy: 0.8143\n",
            "Epoch 137/500\n",
            "7/7 [==============================] - 0s 3ms/step - loss: 0.5906 - accuracy: 0.8571\n",
            "Epoch 138/500\n",
            "7/7 [==============================] - 0s 3ms/step - loss: 0.5893 - accuracy: 0.8714\n",
            "Epoch 139/500\n",
            "7/7 [==============================] - 0s 3ms/step - loss: 0.5879 - accuracy: 0.8714\n",
            "Epoch 140/500\n",
            "7/7 [==============================] - 0s 3ms/step - loss: 0.5867 - accuracy: 0.8714\n",
            "Epoch 141/500\n",
            "7/7 [==============================] - 0s 2ms/step - loss: 0.5860 - accuracy: 0.8571\n",
            "Epoch 142/500\n",
            "7/7 [==============================] - 0s 3ms/step - loss: 0.5841 - accuracy: 0.8571\n",
            "Epoch 143/500\n",
            "7/7 [==============================] - 0s 4ms/step - loss: 0.5823 - accuracy: 0.8714\n",
            "Epoch 144/500\n",
            "7/7 [==============================] - 0s 3ms/step - loss: 0.5806 - accuracy: 0.8857\n",
            "Epoch 145/500\n",
            "7/7 [==============================] - 0s 3ms/step - loss: 0.5782 - accuracy: 0.8714\n",
            "Epoch 146/500\n",
            "7/7 [==============================] - 0s 3ms/step - loss: 0.5694 - accuracy: 0.8571\n",
            "Epoch 147/500\n",
            "7/7 [==============================] - 0s 4ms/step - loss: 0.5473 - accuracy: 0.8571\n",
            "Epoch 148/500\n",
            "7/7 [==============================] - 0s 4ms/step - loss: 0.5299 - accuracy: 0.7714\n",
            "Epoch 149/500\n",
            "7/7 [==============================] - 0s 3ms/step - loss: 0.5211 - accuracy: 0.7286\n",
            "Epoch 150/500\n",
            "7/7 [==============================] - 0s 2ms/step - loss: 0.5125 - accuracy: 0.8286\n",
            "Epoch 151/500\n",
            "7/7 [==============================] - 0s 3ms/step - loss: 0.5071 - accuracy: 0.8857\n",
            "Epoch 152/500\n",
            "7/7 [==============================] - 0s 3ms/step - loss: 0.5035 - accuracy: 0.8857\n",
            "Epoch 153/500\n",
            "7/7 [==============================] - 0s 3ms/step - loss: 0.4991 - accuracy: 0.8857\n",
            "Epoch 154/500\n",
            "7/7 [==============================] - 0s 2ms/step - loss: 0.4955 - accuracy: 0.9000\n",
            "Epoch 155/500\n",
            "7/7 [==============================] - 0s 2ms/step - loss: 0.4925 - accuracy: 0.9143\n",
            "Epoch 156/500\n",
            "7/7 [==============================] - 0s 3ms/step - loss: 0.4891 - accuracy: 0.9143\n",
            "Epoch 157/500\n",
            "7/7 [==============================] - 0s 3ms/step - loss: 0.4858 - accuracy: 0.9143\n",
            "Epoch 158/500\n",
            "7/7 [==============================] - 0s 3ms/step - loss: 0.4822 - accuracy: 0.9143\n",
            "Epoch 159/500\n",
            "7/7 [==============================] - 0s 3ms/step - loss: 0.4790 - accuracy: 0.9143\n",
            "Epoch 160/500\n",
            "7/7 [==============================] - 0s 3ms/step - loss: 0.4767 - accuracy: 0.9143\n",
            "Epoch 161/500\n",
            "7/7 [==============================] - 0s 3ms/step - loss: 0.4729 - accuracy: 0.9143\n",
            "Epoch 162/500\n",
            "7/7 [==============================] - 0s 3ms/step - loss: 0.4705 - accuracy: 0.8857\n",
            "Epoch 163/500\n",
            "7/7 [==============================] - 0s 3ms/step - loss: 0.4675 - accuracy: 0.9143\n",
            "Epoch 164/500\n",
            "7/7 [==============================] - 0s 3ms/step - loss: 0.4648 - accuracy: 0.9000\n",
            "Epoch 165/500\n",
            "7/7 [==============================] - 0s 3ms/step - loss: 0.4615 - accuracy: 0.9000\n",
            "Epoch 166/500\n",
            "7/7 [==============================] - 0s 3ms/step - loss: 0.4582 - accuracy: 0.9143\n",
            "Epoch 167/500\n",
            "7/7 [==============================] - 0s 3ms/step - loss: 0.4554 - accuracy: 0.9143\n",
            "Epoch 168/500\n",
            "7/7 [==============================] - 0s 3ms/step - loss: 0.4530 - accuracy: 0.9000\n",
            "Epoch 169/500\n",
            "7/7 [==============================] - 0s 3ms/step - loss: 0.4500 - accuracy: 0.9143\n",
            "Epoch 170/500\n",
            "7/7 [==============================] - 0s 3ms/step - loss: 0.4470 - accuracy: 0.9143\n",
            "Epoch 171/500\n",
            "7/7 [==============================] - 0s 3ms/step - loss: 0.4442 - accuracy: 0.9143\n",
            "Epoch 172/500\n",
            "7/7 [==============================] - 0s 3ms/step - loss: 0.4421 - accuracy: 0.9143\n",
            "Epoch 173/500\n",
            "7/7 [==============================] - 0s 3ms/step - loss: 0.4395 - accuracy: 0.9143\n",
            "Epoch 174/500\n",
            "7/7 [==============================] - 0s 3ms/step - loss: 0.4359 - accuracy: 0.9143\n",
            "Epoch 175/500\n",
            "7/7 [==============================] - 0s 3ms/step - loss: 0.4355 - accuracy: 0.9143\n",
            "Epoch 176/500\n",
            "7/7 [==============================] - 0s 5ms/step - loss: 0.4312 - accuracy: 0.9143\n",
            "Epoch 177/500\n",
            "7/7 [==============================] - 0s 6ms/step - loss: 0.4294 - accuracy: 0.9000\n",
            "Epoch 178/500\n",
            "7/7 [==============================] - 0s 5ms/step - loss: 0.4266 - accuracy: 0.9000\n",
            "Epoch 179/500\n",
            "7/7 [==============================] - 0s 7ms/step - loss: 0.4254 - accuracy: 0.9143\n",
            "Epoch 180/500\n",
            "7/7 [==============================] - 0s 12ms/step - loss: 0.4219 - accuracy: 0.9143\n",
            "Epoch 181/500\n",
            "7/7 [==============================] - 0s 8ms/step - loss: 0.4193 - accuracy: 0.9143\n",
            "Epoch 182/500\n",
            "7/7 [==============================] - 0s 10ms/step - loss: 0.4169 - accuracy: 0.9143\n",
            "Epoch 183/500\n",
            "7/7 [==============================] - 0s 13ms/step - loss: 0.4147 - accuracy: 0.9143\n",
            "Epoch 184/500\n",
            "7/7 [==============================] - 0s 7ms/step - loss: 0.4119 - accuracy: 0.9143\n",
            "Epoch 185/500\n",
            "7/7 [==============================] - 0s 7ms/step - loss: 0.4102 - accuracy: 0.9143\n",
            "Epoch 186/500\n",
            "7/7 [==============================] - 0s 3ms/step - loss: 0.4074 - accuracy: 0.9143\n",
            "Epoch 187/500\n",
            "7/7 [==============================] - 0s 6ms/step - loss: 0.4053 - accuracy: 0.9143\n",
            "Epoch 188/500\n",
            "7/7 [==============================] - 0s 4ms/step - loss: 0.4031 - accuracy: 0.9143\n",
            "Epoch 189/500\n",
            "7/7 [==============================] - 0s 4ms/step - loss: 0.4009 - accuracy: 0.9143\n",
            "Epoch 190/500\n",
            "7/7 [==============================] - 0s 6ms/step - loss: 0.3988 - accuracy: 0.9143\n",
            "Epoch 191/500\n",
            "7/7 [==============================] - 0s 5ms/step - loss: 0.3971 - accuracy: 0.9143\n",
            "Epoch 192/500\n",
            "7/7 [==============================] - 0s 4ms/step - loss: 0.3942 - accuracy: 0.9143\n",
            "Epoch 193/500\n",
            "7/7 [==============================] - 0s 4ms/step - loss: 0.3927 - accuracy: 0.9143\n",
            "Epoch 194/500\n",
            "7/7 [==============================] - 0s 8ms/step - loss: 0.3901 - accuracy: 0.9143\n",
            "Epoch 195/500\n",
            "7/7 [==============================] - 0s 5ms/step - loss: 0.3878 - accuracy: 0.9143\n",
            "Epoch 196/500\n",
            "7/7 [==============================] - 0s 5ms/step - loss: 0.3859 - accuracy: 0.9143\n",
            "Epoch 197/500\n",
            "7/7 [==============================] - 0s 6ms/step - loss: 0.3841 - accuracy: 0.9143\n",
            "Epoch 198/500\n",
            "7/7 [==============================] - 0s 7ms/step - loss: 0.3819 - accuracy: 0.9143\n",
            "Epoch 199/500\n",
            "7/7 [==============================] - 0s 5ms/step - loss: 0.3797 - accuracy: 0.9143\n",
            "Epoch 200/500\n",
            "7/7 [==============================] - 0s 4ms/step - loss: 0.3777 - accuracy: 0.9143\n",
            "Epoch 201/500\n",
            "7/7 [==============================] - 0s 3ms/step - loss: 0.3761 - accuracy: 0.9143\n",
            "Epoch 202/500\n",
            "7/7 [==============================] - 0s 6ms/step - loss: 0.3739 - accuracy: 0.9143\n",
            "Epoch 203/500\n",
            "7/7 [==============================] - 0s 4ms/step - loss: 0.3718 - accuracy: 0.9143\n",
            "Epoch 204/500\n",
            "7/7 [==============================] - 0s 4ms/step - loss: 0.3702 - accuracy: 0.9143\n",
            "Epoch 205/500\n",
            "7/7 [==============================] - 0s 5ms/step - loss: 0.3678 - accuracy: 0.9143\n",
            "Epoch 206/500\n",
            "7/7 [==============================] - 0s 4ms/step - loss: 0.3665 - accuracy: 0.9143\n",
            "Epoch 207/500\n",
            "7/7 [==============================] - 0s 4ms/step - loss: 0.3643 - accuracy: 0.9429\n",
            "Epoch 208/500\n",
            "7/7 [==============================] - 0s 4ms/step - loss: 0.3625 - accuracy: 0.9143\n",
            "Epoch 209/500\n",
            "7/7 [==============================] - 0s 4ms/step - loss: 0.3603 - accuracy: 0.9143\n",
            "Epoch 210/500\n",
            "7/7 [==============================] - 0s 4ms/step - loss: 0.3584 - accuracy: 0.9143\n",
            "Epoch 211/500\n",
            "7/7 [==============================] - 0s 4ms/step - loss: 0.3576 - accuracy: 0.9286\n",
            "Epoch 212/500\n",
            "7/7 [==============================] - 0s 5ms/step - loss: 0.3549 - accuracy: 0.9286\n",
            "Epoch 213/500\n",
            "7/7 [==============================] - 0s 4ms/step - loss: 0.3529 - accuracy: 0.9286\n",
            "Epoch 214/500\n",
            "7/7 [==============================] - 0s 7ms/step - loss: 0.3518 - accuracy: 0.9143\n",
            "Epoch 215/500\n",
            "7/7 [==============================] - 0s 7ms/step - loss: 0.3494 - accuracy: 0.9286\n",
            "Epoch 216/500\n",
            "7/7 [==============================] - 0s 7ms/step - loss: 0.3477 - accuracy: 0.9429\n",
            "Epoch 217/500\n",
            "7/7 [==============================] - 0s 7ms/step - loss: 0.3470 - accuracy: 0.9429\n",
            "Epoch 218/500\n",
            "7/7 [==============================] - 0s 7ms/step - loss: 0.3442 - accuracy: 0.9429\n",
            "Epoch 219/500\n",
            "7/7 [==============================] - 0s 3ms/step - loss: 0.3423 - accuracy: 0.9429\n",
            "Epoch 220/500\n",
            "7/7 [==============================] - 0s 4ms/step - loss: 0.3403 - accuracy: 0.9429\n",
            "Epoch 221/500\n",
            "7/7 [==============================] - 0s 3ms/step - loss: 0.3390 - accuracy: 0.9429\n",
            "Epoch 222/500\n",
            "7/7 [==============================] - 0s 3ms/step - loss: 0.3377 - accuracy: 0.9286\n",
            "Epoch 223/500\n",
            "7/7 [==============================] - 0s 3ms/step - loss: 0.3356 - accuracy: 0.9429\n",
            "Epoch 224/500\n",
            "7/7 [==============================] - 0s 3ms/step - loss: 0.3337 - accuracy: 0.9429\n",
            "Epoch 225/500\n",
            "7/7 [==============================] - 0s 3ms/step - loss: 0.3326 - accuracy: 0.9429\n",
            "Epoch 226/500\n",
            "7/7 [==============================] - 0s 3ms/step - loss: 0.3316 - accuracy: 0.9429\n",
            "Epoch 227/500\n",
            "7/7 [==============================] - 0s 3ms/step - loss: 0.3286 - accuracy: 0.9429\n",
            "Epoch 228/500\n",
            "7/7 [==============================] - 0s 2ms/step - loss: 0.3272 - accuracy: 0.9429\n",
            "Epoch 229/500\n",
            "7/7 [==============================] - 0s 3ms/step - loss: 0.3254 - accuracy: 0.9429\n",
            "Epoch 230/500\n",
            "7/7 [==============================] - 0s 3ms/step - loss: 0.3241 - accuracy: 0.9429\n",
            "Epoch 231/500\n",
            "7/7 [==============================] - 0s 3ms/step - loss: 0.3221 - accuracy: 0.9429\n",
            "Epoch 232/500\n",
            "7/7 [==============================] - 0s 5ms/step - loss: 0.3204 - accuracy: 0.9429\n",
            "Epoch 233/500\n",
            "7/7 [==============================] - 0s 3ms/step - loss: 0.3186 - accuracy: 0.9429\n",
            "Epoch 234/500\n",
            "7/7 [==============================] - 0s 3ms/step - loss: 0.3176 - accuracy: 0.9429\n",
            "Epoch 235/500\n",
            "7/7 [==============================] - 0s 3ms/step - loss: 0.3157 - accuracy: 0.9429\n",
            "Epoch 236/500\n",
            "7/7 [==============================] - 0s 3ms/step - loss: 0.3140 - accuracy: 0.9429\n",
            "Epoch 237/500\n",
            "7/7 [==============================] - 0s 3ms/step - loss: 0.3130 - accuracy: 0.9429\n",
            "Epoch 238/500\n",
            "7/7 [==============================] - 0s 3ms/step - loss: 0.3108 - accuracy: 0.9429\n",
            "Epoch 239/500\n",
            "7/7 [==============================] - 0s 3ms/step - loss: 0.3093 - accuracy: 0.9571\n",
            "Epoch 240/500\n",
            "7/7 [==============================] - 0s 3ms/step - loss: 0.3079 - accuracy: 0.9571\n",
            "Epoch 241/500\n",
            "7/7 [==============================] - 0s 3ms/step - loss: 0.3065 - accuracy: 0.9571\n",
            "Epoch 242/500\n",
            "7/7 [==============================] - 0s 3ms/step - loss: 0.3047 - accuracy: 0.9571\n",
            "Epoch 243/500\n",
            "7/7 [==============================] - 0s 4ms/step - loss: 0.3032 - accuracy: 0.9571\n",
            "Epoch 244/500\n",
            "7/7 [==============================] - 0s 3ms/step - loss: 0.3019 - accuracy: 0.9571\n",
            "Epoch 245/500\n",
            "7/7 [==============================] - 0s 4ms/step - loss: 0.3009 - accuracy: 0.9571\n",
            "Epoch 246/500\n",
            "7/7 [==============================] - 0s 3ms/step - loss: 0.2988 - accuracy: 0.9571\n",
            "Epoch 247/500\n",
            "7/7 [==============================] - 0s 3ms/step - loss: 0.2974 - accuracy: 0.9571\n",
            "Epoch 248/500\n",
            "7/7 [==============================] - 0s 3ms/step - loss: 0.2957 - accuracy: 0.9571\n",
            "Epoch 249/500\n",
            "7/7 [==============================] - 0s 3ms/step - loss: 0.2943 - accuracy: 0.9571\n",
            "Epoch 250/500\n",
            "7/7 [==============================] - 0s 3ms/step - loss: 0.2927 - accuracy: 0.9571\n",
            "Epoch 251/500\n",
            "7/7 [==============================] - 0s 2ms/step - loss: 0.2912 - accuracy: 0.9571\n",
            "Epoch 252/500\n",
            "7/7 [==============================] - 0s 4ms/step - loss: 0.2900 - accuracy: 0.9571\n",
            "Epoch 253/500\n",
            "7/7 [==============================] - 0s 3ms/step - loss: 0.2884 - accuracy: 0.9714\n",
            "Epoch 254/500\n",
            "7/7 [==============================] - 0s 3ms/step - loss: 0.2868 - accuracy: 0.9857\n",
            "Epoch 255/500\n",
            "7/7 [==============================] - 0s 3ms/step - loss: 0.2856 - accuracy: 0.9714\n",
            "Epoch 256/500\n",
            "7/7 [==============================] - 0s 3ms/step - loss: 0.2843 - accuracy: 0.9571\n",
            "Epoch 257/500\n",
            "7/7 [==============================] - 0s 3ms/step - loss: 0.2827 - accuracy: 0.9714\n",
            "Epoch 258/500\n",
            "7/7 [==============================] - 0s 3ms/step - loss: 0.2814 - accuracy: 0.9857\n",
            "Epoch 259/500\n",
            "7/7 [==============================] - 0s 3ms/step - loss: 0.2797 - accuracy: 0.9857\n",
            "Epoch 260/500\n",
            "7/7 [==============================] - 0s 3ms/step - loss: 0.2782 - accuracy: 0.9857\n",
            "Epoch 261/500\n",
            "7/7 [==============================] - 0s 3ms/step - loss: 0.2770 - accuracy: 0.9857\n",
            "Epoch 262/500\n",
            "7/7 [==============================] - 0s 3ms/step - loss: 0.2755 - accuracy: 0.9857\n",
            "Epoch 263/500\n",
            "7/7 [==============================] - 0s 3ms/step - loss: 0.2742 - accuracy: 0.9857\n",
            "Epoch 264/500\n",
            "7/7 [==============================] - 0s 3ms/step - loss: 0.2727 - accuracy: 0.9857\n",
            "Epoch 265/500\n",
            "7/7 [==============================] - 0s 3ms/step - loss: 0.2713 - accuracy: 0.9857\n",
            "Epoch 266/500\n",
            "7/7 [==============================] - 0s 3ms/step - loss: 0.2702 - accuracy: 0.9857\n",
            "Epoch 267/500\n",
            "7/7 [==============================] - 0s 3ms/step - loss: 0.2697 - accuracy: 0.9857\n",
            "Epoch 268/500\n",
            "7/7 [==============================] - 0s 3ms/step - loss: 0.2675 - accuracy: 0.9857\n",
            "Epoch 269/500\n",
            "7/7 [==============================] - 0s 3ms/step - loss: 0.2661 - accuracy: 0.9857\n",
            "Epoch 270/500\n",
            "7/7 [==============================] - 0s 3ms/step - loss: 0.2649 - accuracy: 0.9857\n",
            "Epoch 271/500\n",
            "7/7 [==============================] - 0s 2ms/step - loss: 0.2636 - accuracy: 0.9857\n",
            "Epoch 272/500\n",
            "7/7 [==============================] - 0s 3ms/step - loss: 0.2623 - accuracy: 0.9857\n",
            "Epoch 273/500\n",
            "7/7 [==============================] - 0s 3ms/step - loss: 0.2613 - accuracy: 0.9857\n",
            "Epoch 274/500\n",
            "7/7 [==============================] - 0s 3ms/step - loss: 0.2605 - accuracy: 0.9857\n",
            "Epoch 275/500\n",
            "7/7 [==============================] - 0s 3ms/step - loss: 0.2599 - accuracy: 0.9857\n",
            "Epoch 276/500\n",
            "7/7 [==============================] - 0s 3ms/step - loss: 0.2581 - accuracy: 0.9857\n",
            "Epoch 277/500\n",
            "7/7 [==============================] - 0s 4ms/step - loss: 0.2560 - accuracy: 0.9857\n",
            "Epoch 278/500\n",
            "7/7 [==============================] - 0s 3ms/step - loss: 0.2555 - accuracy: 0.9857\n",
            "Epoch 279/500\n",
            "7/7 [==============================] - 0s 3ms/step - loss: 0.2535 - accuracy: 0.9857\n",
            "Epoch 280/500\n",
            "7/7 [==============================] - 0s 3ms/step - loss: 0.2522 - accuracy: 0.9857\n",
            "Epoch 281/500\n",
            "7/7 [==============================] - 0s 3ms/step - loss: 0.2509 - accuracy: 0.9857\n",
            "Epoch 282/500\n",
            "7/7 [==============================] - 0s 3ms/step - loss: 0.2499 - accuracy: 0.9857\n",
            "Epoch 283/500\n",
            "7/7 [==============================] - 0s 3ms/step - loss: 0.2488 - accuracy: 0.9857\n",
            "Epoch 284/500\n",
            "7/7 [==============================] - 0s 3ms/step - loss: 0.2472 - accuracy: 0.9857\n",
            "Epoch 285/500\n",
            "7/7 [==============================] - 0s 3ms/step - loss: 0.2463 - accuracy: 0.9857\n",
            "Epoch 286/500\n",
            "7/7 [==============================] - 0s 3ms/step - loss: 0.2451 - accuracy: 0.9857\n",
            "Epoch 287/500\n",
            "7/7 [==============================] - 0s 3ms/step - loss: 0.2439 - accuracy: 0.9857\n",
            "Epoch 288/500\n",
            "7/7 [==============================] - 0s 4ms/step - loss: 0.2424 - accuracy: 0.9857\n",
            "Epoch 289/500\n",
            "7/7 [==============================] - 0s 3ms/step - loss: 0.2413 - accuracy: 0.9857\n",
            "Epoch 290/500\n",
            "7/7 [==============================] - 0s 3ms/step - loss: 0.2401 - accuracy: 0.9857\n",
            "Epoch 291/500\n",
            "7/7 [==============================] - 0s 3ms/step - loss: 0.2391 - accuracy: 0.9857\n",
            "Epoch 292/500\n",
            "7/7 [==============================] - 0s 3ms/step - loss: 0.2379 - accuracy: 0.9857\n",
            "Epoch 293/500\n",
            "7/7 [==============================] - 0s 3ms/step - loss: 0.2367 - accuracy: 0.9857\n",
            "Epoch 294/500\n",
            "7/7 [==============================] - 0s 4ms/step - loss: 0.2354 - accuracy: 0.9857\n",
            "Epoch 295/500\n",
            "7/7 [==============================] - 0s 3ms/step - loss: 0.2344 - accuracy: 0.9857\n",
            "Epoch 296/500\n",
            "7/7 [==============================] - 0s 3ms/step - loss: 0.2332 - accuracy: 0.9857\n",
            "Epoch 297/500\n",
            "7/7 [==============================] - 0s 3ms/step - loss: 0.2323 - accuracy: 0.9857\n",
            "Epoch 298/500\n",
            "7/7 [==============================] - 0s 4ms/step - loss: 0.2313 - accuracy: 0.9857\n",
            "Epoch 299/500\n",
            "7/7 [==============================] - 0s 3ms/step - loss: 0.2298 - accuracy: 0.9857\n",
            "Epoch 300/500\n",
            "7/7 [==============================] - 0s 3ms/step - loss: 0.2289 - accuracy: 0.9857\n",
            "Epoch 301/500\n",
            "7/7 [==============================] - 0s 3ms/step - loss: 0.2279 - accuracy: 0.9857\n",
            "Epoch 302/500\n",
            "7/7 [==============================] - 0s 3ms/step - loss: 0.2268 - accuracy: 0.9857\n",
            "Epoch 303/500\n",
            "7/7 [==============================] - 0s 3ms/step - loss: 0.2256 - accuracy: 0.9857\n",
            "Epoch 304/500\n",
            "7/7 [==============================] - 0s 4ms/step - loss: 0.2246 - accuracy: 0.9857\n",
            "Epoch 305/500\n",
            "7/7 [==============================] - 0s 4ms/step - loss: 0.2235 - accuracy: 0.9857\n",
            "Epoch 306/500\n",
            "7/7 [==============================] - 0s 3ms/step - loss: 0.2224 - accuracy: 0.9857\n",
            "Epoch 307/500\n",
            "7/7 [==============================] - 0s 3ms/step - loss: 0.2216 - accuracy: 0.9857\n",
            "Epoch 308/500\n",
            "7/7 [==============================] - 0s 3ms/step - loss: 0.2208 - accuracy: 0.9857\n",
            "Epoch 309/500\n",
            "7/7 [==============================] - 0s 3ms/step - loss: 0.2193 - accuracy: 0.9857\n",
            "Epoch 310/500\n",
            "7/7 [==============================] - 0s 3ms/step - loss: 0.2183 - accuracy: 0.9857\n",
            "Epoch 311/500\n",
            "7/7 [==============================] - 0s 3ms/step - loss: 0.2176 - accuracy: 0.9857\n",
            "Epoch 312/500\n",
            "7/7 [==============================] - 0s 3ms/step - loss: 0.2167 - accuracy: 0.9857\n",
            "Epoch 313/500\n",
            "7/7 [==============================] - 0s 3ms/step - loss: 0.2154 - accuracy: 0.9857\n",
            "Epoch 314/500\n",
            "7/7 [==============================] - 0s 3ms/step - loss: 0.2139 - accuracy: 0.9857\n",
            "Epoch 315/500\n",
            "7/7 [==============================] - 0s 3ms/step - loss: 0.2133 - accuracy: 0.9857\n",
            "Epoch 316/500\n",
            "7/7 [==============================] - 0s 3ms/step - loss: 0.2120 - accuracy: 0.9857\n",
            "Epoch 317/500\n",
            "7/7 [==============================] - 0s 3ms/step - loss: 0.2112 - accuracy: 0.9857\n",
            "Epoch 318/500\n",
            "7/7 [==============================] - 0s 3ms/step - loss: 0.2101 - accuracy: 0.9857\n",
            "Epoch 319/500\n",
            "7/7 [==============================] - 0s 3ms/step - loss: 0.2093 - accuracy: 0.9857\n",
            "Epoch 320/500\n",
            "7/7 [==============================] - 0s 3ms/step - loss: 0.2081 - accuracy: 0.9857\n",
            "Epoch 321/500\n",
            "7/7 [==============================] - 0s 3ms/step - loss: 0.2074 - accuracy: 0.9857\n",
            "Epoch 322/500\n",
            "7/7 [==============================] - 0s 3ms/step - loss: 0.2062 - accuracy: 0.9857\n",
            "Epoch 323/500\n",
            "7/7 [==============================] - 0s 3ms/step - loss: 0.2053 - accuracy: 0.9857\n",
            "Epoch 324/500\n",
            "7/7 [==============================] - 0s 5ms/step - loss: 0.2043 - accuracy: 0.9857\n",
            "Epoch 325/500\n",
            "7/7 [==============================] - 0s 4ms/step - loss: 0.2038 - accuracy: 0.9857\n",
            "Epoch 326/500\n",
            "7/7 [==============================] - 0s 3ms/step - loss: 0.2028 - accuracy: 0.9857\n",
            "Epoch 327/500\n",
            "7/7 [==============================] - 0s 3ms/step - loss: 0.2015 - accuracy: 0.9857\n",
            "Epoch 328/500\n",
            "7/7 [==============================] - 0s 3ms/step - loss: 0.2016 - accuracy: 0.9857\n",
            "Epoch 329/500\n",
            "7/7 [==============================] - 0s 3ms/step - loss: 0.1997 - accuracy: 0.9857\n",
            "Epoch 330/500\n",
            "7/7 [==============================] - 0s 3ms/step - loss: 0.1985 - accuracy: 0.9857\n",
            "Epoch 331/500\n",
            "7/7 [==============================] - 0s 3ms/step - loss: 0.1977 - accuracy: 0.9857\n",
            "Epoch 332/500\n",
            "7/7 [==============================] - 0s 4ms/step - loss: 0.1974 - accuracy: 0.9857\n",
            "Epoch 333/500\n",
            "7/7 [==============================] - 0s 3ms/step - loss: 0.1961 - accuracy: 0.9857\n",
            "Epoch 334/500\n",
            "7/7 [==============================] - 0s 3ms/step - loss: 0.1950 - accuracy: 0.9857\n",
            "Epoch 335/500\n",
            "7/7 [==============================] - 0s 3ms/step - loss: 0.1943 - accuracy: 0.9857\n",
            "Epoch 336/500\n",
            "7/7 [==============================] - 0s 3ms/step - loss: 0.1934 - accuracy: 0.9857\n",
            "Epoch 337/500\n",
            "7/7 [==============================] - 0s 3ms/step - loss: 0.1924 - accuracy: 0.9857\n",
            "Epoch 338/500\n",
            "7/7 [==============================] - 0s 3ms/step - loss: 0.1917 - accuracy: 0.9857\n",
            "Epoch 339/500\n",
            "7/7 [==============================] - 0s 4ms/step - loss: 0.1907 - accuracy: 0.9857\n",
            "Epoch 340/500\n",
            "7/7 [==============================] - 0s 4ms/step - loss: 0.1899 - accuracy: 0.9857\n",
            "Epoch 341/500\n",
            "7/7 [==============================] - 0s 3ms/step - loss: 0.1889 - accuracy: 0.9857\n",
            "Epoch 342/500\n",
            "7/7 [==============================] - 0s 3ms/step - loss: 0.1880 - accuracy: 0.9857\n",
            "Epoch 343/500\n",
            "7/7 [==============================] - 0s 3ms/step - loss: 0.1871 - accuracy: 0.9857\n",
            "Epoch 344/500\n",
            "7/7 [==============================] - 0s 3ms/step - loss: 0.1863 - accuracy: 0.9857\n",
            "Epoch 345/500\n",
            "7/7 [==============================] - 0s 3ms/step - loss: 0.1855 - accuracy: 0.9857\n",
            "Epoch 346/500\n",
            "7/7 [==============================] - 0s 3ms/step - loss: 0.1850 - accuracy: 0.9857\n",
            "Epoch 347/500\n",
            "7/7 [==============================] - 0s 4ms/step - loss: 0.1844 - accuracy: 0.9857\n",
            "Epoch 348/500\n",
            "7/7 [==============================] - 0s 5ms/step - loss: 0.1830 - accuracy: 0.9857\n",
            "Epoch 349/500\n",
            "7/7 [==============================] - 0s 4ms/step - loss: 0.1823 - accuracy: 0.9857\n",
            "Epoch 350/500\n",
            "7/7 [==============================] - 0s 3ms/step - loss: 0.1819 - accuracy: 0.9857\n",
            "Epoch 351/500\n",
            "7/7 [==============================] - 0s 3ms/step - loss: 0.1808 - accuracy: 0.9857\n",
            "Epoch 352/500\n",
            "7/7 [==============================] - 0s 4ms/step - loss: 0.1797 - accuracy: 0.9857\n",
            "Epoch 353/500\n",
            "7/7 [==============================] - 0s 4ms/step - loss: 0.1789 - accuracy: 0.9857\n",
            "Epoch 354/500\n",
            "7/7 [==============================] - 0s 4ms/step - loss: 0.1785 - accuracy: 0.9857\n",
            "Epoch 355/500\n",
            "7/7 [==============================] - 0s 3ms/step - loss: 0.1776 - accuracy: 0.9857\n",
            "Epoch 356/500\n",
            "7/7 [==============================] - 0s 3ms/step - loss: 0.1768 - accuracy: 0.9857\n",
            "Epoch 357/500\n",
            "7/7 [==============================] - 0s 4ms/step - loss: 0.1760 - accuracy: 0.9857\n",
            "Epoch 358/500\n",
            "7/7 [==============================] - 0s 4ms/step - loss: 0.1751 - accuracy: 0.9857\n",
            "Epoch 359/500\n",
            "7/7 [==============================] - 0s 4ms/step - loss: 0.1747 - accuracy: 0.9857\n",
            "Epoch 360/500\n",
            "7/7 [==============================] - 0s 4ms/step - loss: 0.1735 - accuracy: 0.9857\n",
            "Epoch 361/500\n",
            "7/7 [==============================] - 0s 4ms/step - loss: 0.1728 - accuracy: 0.9857\n",
            "Epoch 362/500\n",
            "7/7 [==============================] - 0s 4ms/step - loss: 0.1721 - accuracy: 0.9857\n",
            "Epoch 363/500\n",
            "7/7 [==============================] - 0s 3ms/step - loss: 0.1714 - accuracy: 0.9857\n",
            "Epoch 364/500\n",
            "7/7 [==============================] - 0s 4ms/step - loss: 0.1706 - accuracy: 0.9857\n",
            "Epoch 365/500\n",
            "7/7 [==============================] - 0s 4ms/step - loss: 0.1699 - accuracy: 0.9857\n",
            "Epoch 366/500\n",
            "7/7 [==============================] - 0s 4ms/step - loss: 0.1693 - accuracy: 0.9857\n",
            "Epoch 367/500\n",
            "7/7 [==============================] - 0s 4ms/step - loss: 0.1685 - accuracy: 0.9857\n",
            "Epoch 368/500\n",
            "7/7 [==============================] - 0s 4ms/step - loss: 0.1679 - accuracy: 0.9857\n",
            "Epoch 369/500\n",
            "7/7 [==============================] - 0s 4ms/step - loss: 0.1674 - accuracy: 0.9857\n",
            "Epoch 370/500\n",
            "7/7 [==============================] - 0s 3ms/step - loss: 0.1669 - accuracy: 0.9857\n",
            "Epoch 371/500\n",
            "7/7 [==============================] - 0s 4ms/step - loss: 0.1664 - accuracy: 0.9857\n",
            "Epoch 372/500\n",
            "7/7 [==============================] - 0s 4ms/step - loss: 0.1655 - accuracy: 0.9857\n",
            "Epoch 373/500\n",
            "7/7 [==============================] - 0s 3ms/step - loss: 0.1646 - accuracy: 1.0000\n",
            "Epoch 374/500\n",
            "7/7 [==============================] - 0s 3ms/step - loss: 0.1635 - accuracy: 0.9857\n",
            "Epoch 375/500\n",
            "7/7 [==============================] - 0s 3ms/step - loss: 0.1630 - accuracy: 1.0000\n",
            "Epoch 376/500\n",
            "7/7 [==============================] - 0s 3ms/step - loss: 0.1626 - accuracy: 1.0000\n",
            "Epoch 377/500\n",
            "7/7 [==============================] - 0s 3ms/step - loss: 0.1622 - accuracy: 1.0000\n",
            "Epoch 378/500\n",
            "7/7 [==============================] - 0s 3ms/step - loss: 0.1609 - accuracy: 0.9857\n",
            "Epoch 379/500\n",
            "7/7 [==============================] - 0s 3ms/step - loss: 0.1602 - accuracy: 1.0000\n",
            "Epoch 380/500\n",
            "7/7 [==============================] - 0s 3ms/step - loss: 0.1599 - accuracy: 1.0000\n",
            "Epoch 381/500\n",
            "7/7 [==============================] - 0s 3ms/step - loss: 0.1588 - accuracy: 1.0000\n",
            "Epoch 382/500\n",
            "7/7 [==============================] - 0s 3ms/step - loss: 0.1582 - accuracy: 1.0000\n",
            "Epoch 383/500\n",
            "7/7 [==============================] - 0s 3ms/step - loss: 0.1577 - accuracy: 1.0000\n",
            "Epoch 384/500\n",
            "7/7 [==============================] - 0s 3ms/step - loss: 0.1568 - accuracy: 1.0000\n",
            "Epoch 385/500\n",
            "7/7 [==============================] - 0s 3ms/step - loss: 0.1563 - accuracy: 1.0000\n",
            "Epoch 386/500\n",
            "7/7 [==============================] - 0s 4ms/step - loss: 0.1563 - accuracy: 0.9857\n",
            "Epoch 387/500\n",
            "7/7 [==============================] - 0s 3ms/step - loss: 0.1548 - accuracy: 1.0000\n",
            "Epoch 388/500\n",
            "7/7 [==============================] - 0s 3ms/step - loss: 0.1544 - accuracy: 1.0000\n",
            "Epoch 389/500\n",
            "7/7 [==============================] - 0s 3ms/step - loss: 0.1536 - accuracy: 1.0000\n",
            "Epoch 390/500\n",
            "7/7 [==============================] - 0s 3ms/step - loss: 0.1528 - accuracy: 1.0000\n",
            "Epoch 391/500\n",
            "7/7 [==============================] - 0s 3ms/step - loss: 0.1524 - accuracy: 1.0000\n",
            "Epoch 392/500\n",
            "7/7 [==============================] - 0s 4ms/step - loss: 0.1515 - accuracy: 1.0000\n",
            "Epoch 393/500\n",
            "7/7 [==============================] - 0s 3ms/step - loss: 0.1512 - accuracy: 1.0000\n",
            "Epoch 394/500\n",
            "7/7 [==============================] - 0s 3ms/step - loss: 0.1503 - accuracy: 1.0000\n",
            "Epoch 395/500\n",
            "7/7 [==============================] - 0s 3ms/step - loss: 0.1503 - accuracy: 1.0000\n",
            "Epoch 396/500\n",
            "7/7 [==============================] - 0s 3ms/step - loss: 0.1492 - accuracy: 1.0000\n",
            "Epoch 397/500\n",
            "7/7 [==============================] - 0s 3ms/step - loss: 0.1486 - accuracy: 1.0000\n",
            "Epoch 398/500\n",
            "7/7 [==============================] - 0s 3ms/step - loss: 0.1478 - accuracy: 1.0000\n",
            "Epoch 399/500\n",
            "7/7 [==============================] - 0s 3ms/step - loss: 0.1473 - accuracy: 1.0000\n",
            "Epoch 400/500\n",
            "7/7 [==============================] - 0s 3ms/step - loss: 0.1468 - accuracy: 1.0000\n",
            "Epoch 401/500\n",
            "7/7 [==============================] - 0s 3ms/step - loss: 0.1459 - accuracy: 1.0000\n",
            "Epoch 402/500\n",
            "7/7 [==============================] - 0s 3ms/step - loss: 0.1455 - accuracy: 1.0000\n",
            "Epoch 403/500\n",
            "7/7 [==============================] - 0s 3ms/step - loss: 0.1449 - accuracy: 1.0000\n",
            "Epoch 404/500\n",
            "7/7 [==============================] - 0s 3ms/step - loss: 0.1442 - accuracy: 1.0000\n",
            "Epoch 405/500\n",
            "7/7 [==============================] - 0s 3ms/step - loss: 0.1438 - accuracy: 1.0000\n",
            "Epoch 406/500\n",
            "7/7 [==============================] - 0s 3ms/step - loss: 0.1435 - accuracy: 1.0000\n",
            "Epoch 407/500\n",
            "7/7 [==============================] - 0s 3ms/step - loss: 0.1427 - accuracy: 1.0000\n",
            "Epoch 408/500\n",
            "7/7 [==============================] - 0s 5ms/step - loss: 0.1420 - accuracy: 1.0000\n",
            "Epoch 409/500\n",
            "7/7 [==============================] - 0s 3ms/step - loss: 0.1412 - accuracy: 1.0000\n",
            "Epoch 410/500\n",
            "7/7 [==============================] - 0s 4ms/step - loss: 0.1408 - accuracy: 1.0000\n",
            "Epoch 411/500\n",
            "7/7 [==============================] - 0s 4ms/step - loss: 0.1400 - accuracy: 1.0000\n",
            "Epoch 412/500\n",
            "7/7 [==============================] - 0s 4ms/step - loss: 0.1397 - accuracy: 1.0000\n",
            "Epoch 413/500\n",
            "7/7 [==============================] - 0s 4ms/step - loss: 0.1389 - accuracy: 1.0000\n",
            "Epoch 414/500\n",
            "7/7 [==============================] - 0s 4ms/step - loss: 0.1386 - accuracy: 1.0000\n",
            "Epoch 415/500\n",
            "7/7 [==============================] - 0s 4ms/step - loss: 0.1381 - accuracy: 1.0000\n",
            "Epoch 416/500\n",
            "7/7 [==============================] - 0s 4ms/step - loss: 0.1380 - accuracy: 1.0000\n",
            "Epoch 417/500\n",
            "7/7 [==============================] - 0s 4ms/step - loss: 0.1371 - accuracy: 1.0000\n",
            "Epoch 418/500\n",
            "7/7 [==============================] - 0s 4ms/step - loss: 0.1361 - accuracy: 1.0000\n",
            "Epoch 419/500\n",
            "7/7 [==============================] - 0s 4ms/step - loss: 0.1356 - accuracy: 1.0000\n",
            "Epoch 420/500\n",
            "7/7 [==============================] - 0s 4ms/step - loss: 0.1350 - accuracy: 1.0000\n",
            "Epoch 421/500\n",
            "7/7 [==============================] - 0s 4ms/step - loss: 0.1346 - accuracy: 1.0000\n",
            "Epoch 422/500\n",
            "7/7 [==============================] - 0s 4ms/step - loss: 0.1340 - accuracy: 1.0000\n",
            "Epoch 423/500\n",
            "7/7 [==============================] - 0s 3ms/step - loss: 0.1333 - accuracy: 1.0000\n",
            "Epoch 424/500\n",
            "7/7 [==============================] - 0s 4ms/step - loss: 0.1329 - accuracy: 1.0000\n",
            "Epoch 425/500\n",
            "7/7 [==============================] - 0s 4ms/step - loss: 0.1325 - accuracy: 1.0000\n",
            "Epoch 426/500\n",
            "7/7 [==============================] - 0s 4ms/step - loss: 0.1318 - accuracy: 1.0000\n",
            "Epoch 427/500\n",
            "7/7 [==============================] - 0s 4ms/step - loss: 0.1314 - accuracy: 1.0000\n",
            "Epoch 428/500\n",
            "7/7 [==============================] - 0s 4ms/step - loss: 0.1307 - accuracy: 1.0000\n",
            "Epoch 429/500\n",
            "7/7 [==============================] - 0s 4ms/step - loss: 0.1302 - accuracy: 1.0000\n",
            "Epoch 430/500\n",
            "7/7 [==============================] - 0s 3ms/step - loss: 0.1299 - accuracy: 1.0000\n",
            "Epoch 431/500\n",
            "7/7 [==============================] - 0s 5ms/step - loss: 0.1291 - accuracy: 1.0000\n",
            "Epoch 432/500\n",
            "7/7 [==============================] - 0s 3ms/step - loss: 0.1290 - accuracy: 1.0000\n",
            "Epoch 433/500\n",
            "7/7 [==============================] - 0s 3ms/step - loss: 0.1287 - accuracy: 1.0000\n",
            "Epoch 434/500\n",
            "7/7 [==============================] - 0s 3ms/step - loss: 0.1279 - accuracy: 1.0000\n",
            "Epoch 435/500\n",
            "7/7 [==============================] - 0s 3ms/step - loss: 0.1271 - accuracy: 1.0000\n",
            "Epoch 436/500\n",
            "7/7 [==============================] - 0s 3ms/step - loss: 0.1267 - accuracy: 1.0000\n",
            "Epoch 437/500\n",
            "7/7 [==============================] - 0s 3ms/step - loss: 0.1269 - accuracy: 1.0000\n",
            "Epoch 438/500\n",
            "7/7 [==============================] - 0s 3ms/step - loss: 0.1267 - accuracy: 1.0000\n",
            "Epoch 439/500\n",
            "7/7 [==============================] - 0s 3ms/step - loss: 0.1261 - accuracy: 1.0000\n",
            "Epoch 440/500\n",
            "7/7 [==============================] - 0s 3ms/step - loss: 0.1253 - accuracy: 1.0000\n",
            "Epoch 441/500\n",
            "7/7 [==============================] - 0s 3ms/step - loss: 0.1242 - accuracy: 1.0000\n",
            "Epoch 442/500\n",
            "7/7 [==============================] - 0s 4ms/step - loss: 0.1238 - accuracy: 1.0000\n",
            "Epoch 443/500\n",
            "7/7 [==============================] - 0s 3ms/step - loss: 0.1233 - accuracy: 1.0000\n",
            "Epoch 444/500\n",
            "7/7 [==============================] - 0s 3ms/step - loss: 0.1228 - accuracy: 1.0000\n",
            "Epoch 445/500\n",
            "7/7 [==============================] - 0s 3ms/step - loss: 0.1221 - accuracy: 1.0000\n",
            "Epoch 446/500\n",
            "7/7 [==============================] - 0s 3ms/step - loss: 0.1219 - accuracy: 1.0000\n",
            "Epoch 447/500\n",
            "7/7 [==============================] - 0s 3ms/step - loss: 0.1215 - accuracy: 1.0000\n",
            "Epoch 448/500\n",
            "7/7 [==============================] - 0s 3ms/step - loss: 0.1209 - accuracy: 1.0000\n",
            "Epoch 449/500\n",
            "7/7 [==============================] - 0s 3ms/step - loss: 0.1204 - accuracy: 1.0000\n",
            "Epoch 450/500\n",
            "7/7 [==============================] - 0s 3ms/step - loss: 0.1199 - accuracy: 1.0000\n",
            "Epoch 451/500\n",
            "7/7 [==============================] - 0s 3ms/step - loss: 0.1199 - accuracy: 1.0000\n",
            "Epoch 452/500\n",
            "7/7 [==============================] - 0s 3ms/step - loss: 0.1191 - accuracy: 1.0000\n",
            "Epoch 453/500\n",
            "7/7 [==============================] - 0s 3ms/step - loss: 0.1184 - accuracy: 1.0000\n",
            "Epoch 454/500\n",
            "7/7 [==============================] - 0s 3ms/step - loss: 0.1178 - accuracy: 1.0000\n",
            "Epoch 455/500\n",
            "7/7 [==============================] - 0s 3ms/step - loss: 0.1176 - accuracy: 1.0000\n",
            "Epoch 456/500\n",
            "7/7 [==============================] - 0s 3ms/step - loss: 0.1170 - accuracy: 1.0000\n",
            "Epoch 457/500\n",
            "7/7 [==============================] - 0s 3ms/step - loss: 0.1166 - accuracy: 1.0000\n",
            "Epoch 458/500\n",
            "7/7 [==============================] - 0s 3ms/step - loss: 0.1162 - accuracy: 1.0000\n",
            "Epoch 459/500\n",
            "7/7 [==============================] - 0s 3ms/step - loss: 0.1157 - accuracy: 1.0000\n",
            "Epoch 460/500\n",
            "7/7 [==============================] - 0s 4ms/step - loss: 0.1152 - accuracy: 1.0000\n",
            "Epoch 461/500\n",
            "7/7 [==============================] - 0s 4ms/step - loss: 0.1147 - accuracy: 1.0000\n",
            "Epoch 462/500\n",
            "7/7 [==============================] - 0s 4ms/step - loss: 0.1143 - accuracy: 1.0000\n",
            "Epoch 463/500\n",
            "7/7 [==============================] - 0s 3ms/step - loss: 0.1142 - accuracy: 1.0000\n",
            "Epoch 464/500\n",
            "7/7 [==============================] - 0s 4ms/step - loss: 0.1134 - accuracy: 1.0000\n",
            "Epoch 465/500\n",
            "7/7 [==============================] - 0s 5ms/step - loss: 0.1131 - accuracy: 1.0000\n",
            "Epoch 466/500\n",
            "7/7 [==============================] - 0s 4ms/step - loss: 0.1127 - accuracy: 1.0000\n",
            "Epoch 467/500\n",
            "7/7 [==============================] - 0s 3ms/step - loss: 0.1125 - accuracy: 1.0000\n",
            "Epoch 468/500\n",
            "7/7 [==============================] - 0s 4ms/step - loss: 0.1118 - accuracy: 1.0000\n",
            "Epoch 469/500\n",
            "7/7 [==============================] - 0s 3ms/step - loss: 0.1114 - accuracy: 1.0000\n",
            "Epoch 470/500\n",
            "7/7 [==============================] - 0s 4ms/step - loss: 0.1108 - accuracy: 1.0000\n",
            "Epoch 471/500\n",
            "7/7 [==============================] - 0s 5ms/step - loss: 0.1103 - accuracy: 1.0000\n",
            "Epoch 472/500\n",
            "7/7 [==============================] - 0s 3ms/step - loss: 0.1101 - accuracy: 1.0000\n",
            "Epoch 473/500\n",
            "7/7 [==============================] - 0s 2ms/step - loss: 0.1097 - accuracy: 1.0000\n",
            "Epoch 474/500\n",
            "7/7 [==============================] - 0s 3ms/step - loss: 0.1092 - accuracy: 1.0000\n",
            "Epoch 475/500\n",
            "7/7 [==============================] - 0s 3ms/step - loss: 0.1088 - accuracy: 1.0000\n",
            "Epoch 476/500\n",
            "7/7 [==============================] - 0s 3ms/step - loss: 0.1083 - accuracy: 1.0000\n",
            "Epoch 477/500\n",
            "7/7 [==============================] - 0s 2ms/step - loss: 0.1085 - accuracy: 1.0000\n",
            "Epoch 478/500\n",
            "7/7 [==============================] - 0s 3ms/step - loss: 0.1079 - accuracy: 1.0000\n",
            "Epoch 479/500\n",
            "7/7 [==============================] - 0s 2ms/step - loss: 0.1073 - accuracy: 1.0000\n",
            "Epoch 480/500\n",
            "7/7 [==============================] - 0s 2ms/step - loss: 0.1068 - accuracy: 1.0000\n",
            "Epoch 481/500\n",
            "7/7 [==============================] - 0s 3ms/step - loss: 0.1062 - accuracy: 1.0000\n",
            "Epoch 482/500\n",
            "7/7 [==============================] - 0s 3ms/step - loss: 0.1059 - accuracy: 1.0000\n",
            "Epoch 483/500\n",
            "7/7 [==============================] - 0s 3ms/step - loss: 0.1056 - accuracy: 1.0000\n",
            "Epoch 484/500\n",
            "7/7 [==============================] - 0s 3ms/step - loss: 0.1052 - accuracy: 1.0000\n",
            "Epoch 485/500\n",
            "7/7 [==============================] - 0s 3ms/step - loss: 0.1047 - accuracy: 1.0000\n",
            "Epoch 486/500\n",
            "7/7 [==============================] - 0s 3ms/step - loss: 0.1044 - accuracy: 1.0000\n",
            "Epoch 487/500\n",
            "7/7 [==============================] - 0s 4ms/step - loss: 0.1039 - accuracy: 1.0000\n",
            "Epoch 488/500\n",
            "7/7 [==============================] - 0s 3ms/step - loss: 0.1036 - accuracy: 1.0000\n",
            "Epoch 489/500\n",
            "7/7 [==============================] - 0s 3ms/step - loss: 0.1032 - accuracy: 1.0000\n",
            "Epoch 490/500\n",
            "7/7 [==============================] - 0s 3ms/step - loss: 0.1030 - accuracy: 1.0000\n",
            "Epoch 491/500\n",
            "7/7 [==============================] - 0s 3ms/step - loss: 0.1031 - accuracy: 1.0000\n",
            "Epoch 492/500\n",
            "7/7 [==============================] - 0s 4ms/step - loss: 0.1020 - accuracy: 1.0000\n",
            "Epoch 493/500\n",
            "7/7 [==============================] - 0s 4ms/step - loss: 0.1018 - accuracy: 1.0000\n",
            "Epoch 494/500\n",
            "7/7 [==============================] - 0s 4ms/step - loss: 0.1014 - accuracy: 1.0000\n",
            "Epoch 495/500\n",
            "7/7 [==============================] - 0s 4ms/step - loss: 0.1010 - accuracy: 1.0000\n",
            "Epoch 496/500\n",
            "7/7 [==============================] - 0s 4ms/step - loss: 0.1004 - accuracy: 1.0000\n",
            "Epoch 497/500\n",
            "7/7 [==============================] - 0s 4ms/step - loss: 0.1014 - accuracy: 1.0000\n",
            "Epoch 498/500\n",
            "7/7 [==============================] - 0s 3ms/step - loss: 0.0999 - accuracy: 1.0000\n",
            "Epoch 499/500\n",
            "7/7 [==============================] - 0s 3ms/step - loss: 0.0997 - accuracy: 1.0000\n",
            "Epoch 500/500\n",
            "7/7 [==============================] - 0s 3ms/step - loss: 0.0993 - accuracy: 1.0000\n"
          ]
        },
        {
          "output_type": "execute_result",
          "data": {
            "text/plain": [
              "<keras.callbacks.History at 0x7fd8941017d0>"
            ]
          },
          "metadata": {},
          "execution_count": 9
        }
      ]
    },
    {
      "cell_type": "code",
      "source": [
        "evaluation = model.evaluate(x_test, test_df.y.values)\n",
        "error_rate = 1 - evaluation[1]\n",
        "print(\"Prediction error rate on test data: \", error_rate)"
      ],
      "metadata": {
        "id": "aBT4KbTqUKcs",
        "outputId": "ff646239-28c4-4603-841c-20639c5bc65b",
        "colab": {
          "base_uri": "https://localhost:8080/"
        }
      },
      "execution_count": 10,
      "outputs": [
        {
          "output_type": "stream",
          "name": "stdout",
          "text": [
            "1/1 [==============================] - 0s 236ms/step - loss: 0.1693 - accuracy: 0.9333\n",
            "Prediction error rate on test data:  0.06666666269302368\n"
          ]
        }
      ]
    },
    {
      "cell_type": "markdown",
      "source": [
        "![image.png](data:image/png;base64,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)"
      ],
      "metadata": {
        "id": "uzDP-6eWReoa"
      }
    },
    {
      "cell_type": "markdown",
      "source": [
        "# 2"
      ],
      "metadata": {
        "id": "kgk_R7RvF_lV"
      }
    },
    {
      "cell_type": "markdown",
      "source": [
        "## 2.1\t\n",
        "(20%) You are asked to construct a classification model based on multi-layer convolutional neural networks (at least five layers) for digit recognition. Please report the prediction accuracy for the test set. (Hint: its loss function could be cross entropy)"
      ],
      "metadata": {
        "id": "X7kr_WGtEHQA"
      }
    },
    {
      "cell_type": "code",
      "source": [
        "def preprocess():\n",
        "  # load dataset\n",
        "  (trainX, trainy), (testX, testy) = mnist.load_data()\n",
        "  trainX = trainX.reshape((trainX.shape[0], 28, 28, 1))\n",
        "  testX = testX.reshape((testX.shape[0], 28, 28, 1))\n",
        "\n",
        "  trainX = trainX.astype('float') / 255\n",
        "  testX = testX.astype('float') / 255\n",
        "\n",
        "  trainy = to_categorical(trainy)\n",
        "  testy = to_categorical(testy)\n",
        "  return trainX, testX, trainy, testy\n",
        "\n",
        "xtrain, xtest, ytrain, ytest = preprocess()"
      ],
      "metadata": {
        "id": "o4bqPxkFELZ4",
        "colab": {
          "base_uri": "https://localhost:8080/"
        },
        "outputId": "10b2efe2-94dd-4742-aedc-57ec3de79031"
      },
      "execution_count": 11,
      "outputs": [
        {
          "output_type": "stream",
          "name": "stdout",
          "text": [
            "Downloading data from https://storage.googleapis.com/tensorflow/tf-keras-datasets/mnist.npz\n",
            "11490434/11490434 [==============================] - 1s 0us/step\n"
          ]
        }
      ]
    },
    {
      "cell_type": "code",
      "source": [
        "def build_model(input_shape): \n",
        "  model = keras.Sequential() \n",
        "  model.add(Conv2D(32, kernel_size=(3, 3), activation='relu', input_shape=input_shape)) \n",
        "  model.add(Conv2D(64, kernel_size=(3, 3), activation='relu')) \n",
        "  model.add(Conv2D(128, kernel_size=(3, 3), activation='relu')) \n",
        "  model.add(Conv2D(64, kernel_size=(3, 3), activation='relu')) \n",
        "  model.add(Conv2D(32, kernel_size=(3, 3), activation='relu')) \n",
        "  model.add(MaxPooling2D(pool_size=(2, 2))) \n",
        "  #model.add(Dropout(0.2))\n",
        "  model.add(Flatten()) \n",
        "  model.add(Dense(128, activation='relu')) \n",
        "  model.add(Dense(64, activation='relu')) \n",
        "  model.add(Dense(10, activation='softmax')) \n",
        "\n",
        "  return model\n",
        "  \n",
        "input_shape = xtrain.shape[1:]\n",
        "model_2_1 = build_model(input_shape)\n",
        "model_2_1.summary()"
      ],
      "metadata": {
        "id": "OWo33xBhEWam",
        "colab": {
          "base_uri": "https://localhost:8080/"
        },
        "outputId": "0e6ead88-3a9a-4a87-81f8-81e365107e99"
      },
      "execution_count": 14,
      "outputs": [
        {
          "output_type": "stream",
          "name": "stdout",
          "text": [
            "Model: \"sequential_2\"\n",
            "_________________________________________________________________\n",
            " Layer (type)                Output Shape              Param #   \n",
            "=================================================================\n",
            " conv2d_5 (Conv2D)           (None, 26, 26, 32)        320       \n",
            "                                                                 \n",
            " conv2d_6 (Conv2D)           (None, 24, 24, 64)        18496     \n",
            "                                                                 \n",
            " conv2d_7 (Conv2D)           (None, 22, 22, 128)       73856     \n",
            "                                                                 \n",
            " conv2d_8 (Conv2D)           (None, 20, 20, 64)        73792     \n",
            "                                                                 \n",
            " conv2d_9 (Conv2D)           (None, 18, 18, 32)        18464     \n",
            "                                                                 \n",
            " max_pooling2d_1 (MaxPooling  (None, 9, 9, 32)         0         \n",
            " 2D)                                                             \n",
            "                                                                 \n",
            " flatten_1 (Flatten)         (None, 2592)              0         \n",
            "                                                                 \n",
            " dense_6 (Dense)             (None, 128)               331904    \n",
            "                                                                 \n",
            " dense_7 (Dense)             (None, 64)                8256      \n",
            "                                                                 \n",
            " dense_8 (Dense)             (None, 10)                650       \n",
            "                                                                 \n",
            "=================================================================\n",
            "Total params: 525,738\n",
            "Trainable params: 525,738\n",
            "Non-trainable params: 0\n",
            "_________________________________________________________________\n"
          ]
        }
      ]
    },
    {
      "cell_type": "code",
      "source": [
        "model_2_1.compile(loss='categorical_crossentropy', optimizer='adam', metrics=['accuracy'])"
      ],
      "metadata": {
        "id": "FlFPMP3UaHNe"
      },
      "execution_count": 15,
      "outputs": []
    },
    {
      "cell_type": "code",
      "source": [
        "model_2_1.fit(xtrain, ytrain, batch_size=128, epochs=10, validation_split=0.1) "
      ],
      "metadata": {
        "id": "BGnL5_ltFaAo",
        "colab": {
          "base_uri": "https://localhost:8080/"
        },
        "outputId": "38c376ea-e71f-465a-b93c-8fb0e4d408a6"
      },
      "execution_count": 16,
      "outputs": [
        {
          "output_type": "stream",
          "name": "stdout",
          "text": [
            "Epoch 1/10\n",
            "422/422 [==============================] - 770s 2s/step - loss: 0.1750 - accuracy: 0.9465 - val_loss: 0.0529 - val_accuracy: 0.9845\n",
            "Epoch 2/10\n",
            "422/422 [==============================] - 720s 2s/step - loss: 0.0467 - accuracy: 0.9856 - val_loss: 0.0470 - val_accuracy: 0.9860\n",
            "Epoch 3/10\n",
            "422/422 [==============================] - 716s 2s/step - loss: 0.0338 - accuracy: 0.9896 - val_loss: 0.0319 - val_accuracy: 0.9913\n",
            "Epoch 4/10\n",
            "422/422 [==============================] - 725s 2s/step - loss: 0.0231 - accuracy: 0.9926 - val_loss: 0.0375 - val_accuracy: 0.9898\n",
            "Epoch 5/10\n",
            "422/422 [==============================] - 715s 2s/step - loss: 0.0192 - accuracy: 0.9936 - val_loss: 0.0366 - val_accuracy: 0.9908\n",
            "Epoch 6/10\n",
            "422/422 [==============================] - 722s 2s/step - loss: 0.0157 - accuracy: 0.9949 - val_loss: 0.0422 - val_accuracy: 0.9907\n",
            "Epoch 7/10\n",
            "422/422 [==============================] - 714s 2s/step - loss: 0.0123 - accuracy: 0.9959 - val_loss: 0.0335 - val_accuracy: 0.9908\n",
            "Epoch 8/10\n",
            "422/422 [==============================] - 712s 2s/step - loss: 0.0107 - accuracy: 0.9965 - val_loss: 0.0441 - val_accuracy: 0.9912\n",
            "Epoch 9/10\n",
            "422/422 [==============================] - 716s 2s/step - loss: 0.0133 - accuracy: 0.9952 - val_loss: 0.0344 - val_accuracy: 0.9925\n",
            "Epoch 10/10\n",
            "422/422 [==============================] - 716s 2s/step - loss: 0.0079 - accuracy: 0.9974 - val_loss: 0.0410 - val_accuracy: 0.9915\n"
          ]
        },
        {
          "output_type": "execute_result",
          "data": {
            "text/plain": [
              "<keras.callbacks.History at 0x7fd890e8de10>"
            ]
          },
          "metadata": {},
          "execution_count": 16
        }
      ]
    },
    {
      "cell_type": "code",
      "source": [
        "evaluation = model.evaluate(xtest, ytest, verbose=0)\n",
        "print(\"Test loss: \", evaluation[0])\n",
        "print(\"Test accuracy: \", evaluation[1])\n",
        "#print(\"Prediction error: \", 1 - evaluation[1])"
      ],
      "metadata": {
        "colab": {
          "base_uri": "https://localhost:8080/"
        },
        "id": "3ChEv-Poqjy0",
        "outputId": "30c2aa20-62ee-42d1-aff5-9837badc0063"
      },
      "execution_count": 100,
      "outputs": [
        {
          "output_type": "stream",
          "name": "stdout",
          "text": [
            "Test loss:  0.04449477791786194\n",
            "Test accuracy:  0.9896000027656555\n"
          ]
        }
      ]
    },
    {
      "cell_type": "markdown",
      "source": [
        "## 2.2\t\n",
        "(15%) Please randomly set 5%, 10%, and 15% of pixels to 255 for each image and evaluate the test set using the model you trained on clean images from 2.1. Report the prediction accuracies for the three different corruption rates. Compare your results with those in Question 2.1. What do you find?"
      ],
      "metadata": {
        "id": "3ZMr_k3gyWgc"
      }
    },
    {
      "cell_type": "code",
      "source": [
        "def corrupt(data, corrupt_lv):\n",
        "  #corrupt_lv = 0.05    #% using 5% and training data as an example \n",
        "  img_size = 28*28\n",
        "  corrupted = []\n",
        "  for i in range(len(data)):\n",
        "    ran_seq = random.sample([n for n in range(img_size)], int(img_size*corrupt_lv))\n",
        "    x = data[i].reshape(-1, img_size) \n",
        "    x[0, ran_seq] = 1 # 1 because already normalized by 255 \n",
        "    x = x.reshape((28, 28, 1)) \n",
        "    corrupted.append(x) \n",
        "  return np.array(corrupted) "
      ],
      "metadata": {
        "id": "JDTADm9u9bky"
      },
      "execution_count": 6,
      "outputs": []
    },
    {
      "cell_type": "code",
      "source": [
        "xtest_corrupted_5 = corrupt(xtest.copy(), 0.05) \n",
        "xtest_corrupted_10 = corrupt(xtest.copy(), 0.1) \n",
        "xtest_corrupted_15 = corrupt(xtest.copy(), 0.15) "
      ],
      "metadata": {
        "id": "MF1hpoIjySBn"
      },
      "execution_count": 7,
      "outputs": []
    },
    {
      "cell_type": "code",
      "source": [
        "np.sum(xtest_corrupted_5 != xtest), np.sum(xtest_corrupted_10 != xtest), np.sum(xtest_corrupted_15 != xtest)"
      ],
      "metadata": {
        "colab": {
          "base_uri": "https://localhost:8080/"
        },
        "id": "dtrYOOnL-KOb",
        "outputId": "f6a02d29-57e5-4cfc-89fc-c3a80a2490b8"
      },
      "execution_count": 78,
      "outputs": [
        {
          "output_type": "execute_result",
          "data": {
            "text/plain": [
              "(387183, 774224, 1161433)"
            ]
          },
          "metadata": {},
          "execution_count": 78
        }
      ]
    },
    {
      "cell_type": "code",
      "source": [
        "score_5 = model_2_1.evaluate(xtest_corrupted_5, ytest, verbose=0)\n",
        "score_10 = model_2_1.evaluate(xtest_corrupted_10, ytest, verbose=0)\n",
        "score_15 = model_2_1.evaluate(xtest_corrupted_15, ytest, verbose=0)"
      ],
      "metadata": {
        "id": "jDfxCBMjBpSe"
      },
      "execution_count": 9,
      "outputs": []
    },
    {
      "cell_type": "code",
      "source": [
        "print(\"Accuracy with NO noise: \", evaluation[1])\n",
        "print(\"Accuracy with 5% noise: \", score_5[1])\n",
        "print(\"Accuracy with 10% noise: \", score_10[1])\n",
        "print(\"Accuracy with 15% noise: \", score_15[1])"
      ],
      "metadata": {
        "id": "hiwsZBnTEQuC",
        "colab": {
          "base_uri": "https://localhost:8080/"
        },
        "outputId": "ff4fc8b7-50a0-44de-e366-a476e0cc3461"
      },
      "execution_count": 12,
      "outputs": [
        {
          "output_type": "stream",
          "name": "stdout",
          "text": [
            "Accuracy with NO noise:  0.9902999997138977\n",
            "Accuracy with 5% noise:  0.8992000222206116\n",
            "Accuracy with 10% noise:  0.7980999946594238\n",
            "Accuracy with 15% noise:  0.6891999840736389\n"
          ]
        }
      ]
    },
    {
      "cell_type": "markdown",
      "source": [
        "The accuracy before introducing any noise to the dataset is better than all others.\n",
        "The prediction accuracy of the model trained with noise free dataset lowers down as the percentage of the noise introduced to the testing dataset increases. "
      ],
      "metadata": {
        "id": "3ut22u-EGj9R"
      }
    },
    {
      "cell_type": "markdown",
      "source": [
        "## 2.3\t\n",
        "(15%) Following Question 2.2, please re-train your model with the corrupted data (5%, 10%, and 15% separately) and re-evaluate the test set.\n",
        "Report the prediction accuracies also for the three different corruption rates. Compare your results with those from 2.1 and 2.2. What do you find?\n"
      ],
      "metadata": {
        "id": "du9T5TRXERgY"
      }
    },
    {
      "cell_type": "code",
      "source": [
        "# get corrupted training data \n",
        "xtrain_corrupted_5 = corrupt(xtrain.copy(), 0.05) \n",
        "xtrain_corrupted_10 = corrupt(xtrain.copy(), 0.1) \n",
        "xtrain_corrupted_15 = corrupt(xtrain.copy(), 0.15) "
      ],
      "metadata": {
        "id": "biJZOA4bDfNW"
      },
      "execution_count": 13,
      "outputs": []
    },
    {
      "cell_type": "code",
      "source": [
        "# build and test model based on the corrupted training and testing \n",
        "def get_corrupted_model(x_train, y_train, x_test, y_test):  \n",
        "  batch_size = 128 \n",
        "  epochs = 10 \n",
        "  input_shape = x_train.shape[1:] \n",
        "  model = build_model(input_shape) \n",
        "  #model.summary() \n",
        "\n",
        "  model.compile(loss='categorical_crossentropy', optimizer='adam', metrics=['accuracy']) \n",
        "\n",
        "  model.fit(x_train, y_train, batch_size=batch_size, epochs=epochs, validation_split=0.1) \n",
        "\n",
        "  evaluation = model.evaluate(x_test, y_test, verbose=0)\n",
        "  #print(\"Test loss: \", evaluation[0])\n",
        "  #print(\"Test accuracy: \", evaluation[1])\n",
        "  return evaluation[1] # return accuracy of the model"
      ],
      "metadata": {
        "id": "IzhI0lcnKCbr"
      },
      "execution_count": 14,
      "outputs": []
    },
    {
      "cell_type": "code",
      "source": [
        "acc_5 = get_corrupted_model(xtrain_corrupted_5, ytrain, xtest_corrupted_5, ytest, verbose=0)\n",
        "acc_10 = get_corrupted_model(xtrain_corrupted_10, ytrain, xtest_corrupted_10, ytest, verbose=0)\n",
        "acc_15 = get_corrupted_model(xtrain_corrupted_15, ytrain, xtest_corrupted_15, ytest, verbose=0)"
      ],
      "metadata": {
        "id": "4gNcsIL5Yhu0",
        "colab": {
          "base_uri": "https://localhost:8080/"
        },
        "outputId": "7cb869aa-3834-4381-c74b-b4429bb858d8"
      },
      "execution_count": 15,
      "outputs": [
        {
          "output_type": "stream",
          "name": "stdout",
          "text": [
            "Epoch 1/10\n",
            "422/422 [==============================] - 11s 25ms/step - loss: 0.1952 - accuracy: 0.9385 - val_loss: 0.0566 - val_accuracy: 0.9845\n",
            "Epoch 2/10\n",
            "422/422 [==============================] - 10s 24ms/step - loss: 0.0556 - accuracy: 0.9826 - val_loss: 0.0544 - val_accuracy: 0.9827\n",
            "Epoch 3/10\n",
            "422/422 [==============================] - 10s 24ms/step - loss: 0.0369 - accuracy: 0.9883 - val_loss: 0.0450 - val_accuracy: 0.9867\n",
            "Epoch 4/10\n",
            "422/422 [==============================] - 10s 24ms/step - loss: 0.0288 - accuracy: 0.9904 - val_loss: 0.0465 - val_accuracy: 0.9877\n",
            "Epoch 5/10\n",
            "422/422 [==============================] - 10s 24ms/step - loss: 0.0212 - accuracy: 0.9931 - val_loss: 0.0371 - val_accuracy: 0.9897\n",
            "Epoch 6/10\n",
            "422/422 [==============================] - 9s 22ms/step - loss: 0.0182 - accuracy: 0.9938 - val_loss: 0.0376 - val_accuracy: 0.9912\n",
            "Epoch 7/10\n",
            "422/422 [==============================] - 10s 23ms/step - loss: 0.0137 - accuracy: 0.9956 - val_loss: 0.0467 - val_accuracy: 0.9895\n",
            "Epoch 8/10\n",
            "422/422 [==============================] - 10s 23ms/step - loss: 0.0120 - accuracy: 0.9964 - val_loss: 0.0578 - val_accuracy: 0.9888\n",
            "Epoch 9/10\n",
            "422/422 [==============================] - 10s 24ms/step - loss: 0.0103 - accuracy: 0.9967 - val_loss: 0.0498 - val_accuracy: 0.9905\n",
            "Epoch 10/10\n",
            "422/422 [==============================] - 10s 24ms/step - loss: 0.0105 - accuracy: 0.9966 - val_loss: 0.0440 - val_accuracy: 0.9915\n",
            "Epoch 1/10\n",
            "422/422 [==============================] - 11s 24ms/step - loss: 0.2091 - accuracy: 0.9349 - val_loss: 0.0620 - val_accuracy: 0.9842\n",
            "Epoch 2/10\n",
            "422/422 [==============================] - 10s 24ms/step - loss: 0.0534 - accuracy: 0.9834 - val_loss: 0.0529 - val_accuracy: 0.9855\n",
            "Epoch 3/10\n",
            "422/422 [==============================] - 10s 24ms/step - loss: 0.0367 - accuracy: 0.9884 - val_loss: 0.0448 - val_accuracy: 0.9885\n",
            "Epoch 4/10\n",
            "422/422 [==============================] - 13s 31ms/step - loss: 0.0299 - accuracy: 0.9903 - val_loss: 0.0534 - val_accuracy: 0.9868\n",
            "Epoch 5/10\n",
            "422/422 [==============================] - 12s 28ms/step - loss: 0.0193 - accuracy: 0.9941 - val_loss: 0.0466 - val_accuracy: 0.9883\n",
            "Epoch 6/10\n",
            "422/422 [==============================] - 10s 23ms/step - loss: 0.0176 - accuracy: 0.9939 - val_loss: 0.0496 - val_accuracy: 0.9872\n",
            "Epoch 7/10\n",
            "422/422 [==============================] - 10s 24ms/step - loss: 0.0138 - accuracy: 0.9954 - val_loss: 0.0439 - val_accuracy: 0.9882\n",
            "Epoch 8/10\n",
            "422/422 [==============================] - 10s 24ms/step - loss: 0.0121 - accuracy: 0.9962 - val_loss: 0.0544 - val_accuracy: 0.9882\n",
            "Epoch 9/10\n",
            "422/422 [==============================] - 10s 23ms/step - loss: 0.0122 - accuracy: 0.9957 - val_loss: 0.0490 - val_accuracy: 0.9887\n",
            "Epoch 10/10\n",
            "422/422 [==============================] - 10s 23ms/step - loss: 0.0088 - accuracy: 0.9970 - val_loss: 0.0597 - val_accuracy: 0.9873\n",
            "Epoch 1/10\n",
            "422/422 [==============================] - 11s 24ms/step - loss: 0.2230 - accuracy: 0.9291 - val_loss: 0.0574 - val_accuracy: 0.9828\n",
            "Epoch 2/10\n",
            "422/422 [==============================] - 10s 23ms/step - loss: 0.0586 - accuracy: 0.9817 - val_loss: 0.0503 - val_accuracy: 0.9865\n",
            "Epoch 3/10\n",
            "422/422 [==============================] - 10s 23ms/step - loss: 0.0371 - accuracy: 0.9884 - val_loss: 0.0524 - val_accuracy: 0.9867\n",
            "Epoch 4/10\n",
            "422/422 [==============================] - 11s 25ms/step - loss: 0.0264 - accuracy: 0.9919 - val_loss: 0.0415 - val_accuracy: 0.9880\n",
            "Epoch 5/10\n",
            "422/422 [==============================] - 10s 24ms/step - loss: 0.0214 - accuracy: 0.9930 - val_loss: 0.0390 - val_accuracy: 0.9917\n",
            "Epoch 6/10\n",
            "422/422 [==============================] - 10s 23ms/step - loss: 0.0196 - accuracy: 0.9931 - val_loss: 0.0420 - val_accuracy: 0.9887\n",
            "Epoch 7/10\n",
            "422/422 [==============================] - 10s 23ms/step - loss: 0.0155 - accuracy: 0.9949 - val_loss: 0.0394 - val_accuracy: 0.9882\n",
            "Epoch 8/10\n",
            "422/422 [==============================] - 10s 23ms/step - loss: 0.0140 - accuracy: 0.9953 - val_loss: 0.0465 - val_accuracy: 0.9873\n",
            "Epoch 9/10\n",
            "422/422 [==============================] - 10s 24ms/step - loss: 0.0095 - accuracy: 0.9970 - val_loss: 0.0523 - val_accuracy: 0.9890\n",
            "Epoch 10/10\n",
            "422/422 [==============================] - 10s 24ms/step - loss: 0.0101 - accuracy: 0.9965 - val_loss: 0.0428 - val_accuracy: 0.9900\n"
          ]
        }
      ]
    },
    {
      "cell_type": "code",
      "source": [
        "print(\"Accuracy of the model trained with 5% corrupted data: \", acc_5)\n",
        "print(\"Accuracy of the model trained with 5% corrupted data: \", acc_10)\n",
        "print(\"Accuracy of the model trained with 5% corrupted data: \", acc_15)"
      ],
      "metadata": {
        "id": "fySqnMdHZDGE",
        "colab": {
          "base_uri": "https://localhost:8080/"
        },
        "outputId": "8d58f8fd-8ffd-4d42-e790-65d7b42ae075"
      },
      "execution_count": 16,
      "outputs": [
        {
          "output_type": "stream",
          "name": "stdout",
          "text": [
            "Accuracy of the model trained with 5% corrupted data:  0.989799976348877\n",
            "Accuracy of the model trained with 5% corrupted data:  0.9873999953269958\n",
            "Accuracy of the model trained with 5% corrupted data:  0.9883000254631042\n"
          ]
        }
      ]
    },
    {
      "cell_type": "markdown",
      "source": [
        "## 2.4\t\n",
        "(15%) Following Question 2.2, please construct ONE restoration model (also convolutional neural networks) that inputs a corrupt image and outputs its restored image. (Hint: its loss function could be MAE or MSE)"
      ],
      "metadata": {
        "id": "6pb5kM3i5Z4f"
      }
    },
    {
      "cell_type": "code",
      "source": [],
      "metadata": {
        "id": "2fEHZ-wgRlci"
      },
      "execution_count": 73,
      "outputs": []
    },
    {
      "cell_type": "code",
      "source": [
        "def display_images(image1, image2):\n",
        "  plt.figure(figsize=(40, 4))\n",
        "  for i in range(10):\n",
        "      # display original\n",
        "      ax = plt.subplot(3, 20, i + 1)\n",
        "      plt.imshow(image1[i].reshape(28, 28), cmap=\"binary\")\n",
        "      \n",
        "      # display reconstructed (after noise removed) image\n",
        "      ax = plt.subplot(3, 20, 40 +i+ 1)\n",
        "      plt.imshow(image2[i].reshape(28, 28), cmap=\"binary\")\n",
        "\n",
        "  plt.show()"
      ],
      "metadata": {
        "id": "pC5fQzdP3kNj"
      },
      "execution_count": null,
      "outputs": []
    },
    {
      "cell_type": "code",
      "source": [
        "def restore_images(xtrain, xtrain_corrupted):\n",
        "  model = Sequential()\n",
        "  # DownSample (Encode)\n",
        "  model.add(Conv2D(32, (3, 3), activation='relu', padding='same', input_shape=(28, 28, 1)))\n",
        "  model.add(MaxPooling2D((2, 2), padding='same'))\n",
        "  model.add(Conv2D(8, (3, 3), activation='relu', padding='same'))\n",
        "  model.add(MaxPooling2D((2, 2), padding='same'))\n",
        "  model.add(Conv2D(8, (3, 3), activation='relu', padding='same'))\n",
        "  model.add(MaxPooling2D((2, 2), padding='same'))\n",
        "  model.add(Conv2D(8, (3, 3), activation='relu', padding='same'))\n",
        "\n",
        "  # UpSample (Decode)\n",
        "  model.add(UpSampling2D((2, 2)))\n",
        "  model.add(Conv2D(8, (3, 3), activation='relu', padding='same'))\n",
        "  model.add(UpSampling2D((2, 2))) \n",
        "  model.add(Conv2D(32, (3, 3), activation='relu', padding='same')) \n",
        "  model.add(UpSampling2D((2, 2))) \n",
        "  model.add(Conv2D(1, (3, 3), activation='relu', padding='same')) \n",
        "\n",
        "  model.compile(optimizer='adam', loss='mean_squared_error') \n",
        "\n",
        "  model.fit(xtrain_corrupted, xtrain, epochs=10, batch_size=256, \n",
        "            shuffle=True, validation_split=0.1) \n",
        "\n",
        "  #model.evaluate(xtest_corrupted, xtest) \n",
        "\n",
        "  #model.save('restoring_model.model')\n",
        "  return model"
      ],
      "metadata": {
        "id": "FhqnQKOa14gx"
      },
      "execution_count": null,
      "outputs": []
    },
    {
      "cell_type": "code",
      "source": [
        "restoring_model = restore_images(xtrain, xtrain_corrupted_5, xtest, xtest_corrupted_5)\n",
        "restored_5 = restoring_model.predict(xtest_corrupted_5)\n",
        "display_images(xtest_corrupted_5, restored_5)"
      ],
      "metadata": {
        "id": "eHT-c9TA3LID"
      },
      "execution_count": null,
      "outputs": []
    },
    {
      "cell_type": "code",
      "source": [
        "restored_10 = restoring_model.predict(xtest_corrupted_10)\n",
        "display_images(xtest_corrupted_10, restored_10)"
      ],
      "metadata": {
        "id": "7C2Vs1eh4Iu2"
      },
      "execution_count": null,
      "outputs": []
    },
    {
      "cell_type": "code",
      "source": [
        "restored_15 = restoring_model.predict(xtest_corrupted_15)\n",
        "display_images(xtest_corrupted_15, restored_15)"
      ],
      "metadata": {
        "id": "9opKZMFQ5VFK"
      },
      "execution_count": null,
      "outputs": []
    },
    {
      "cell_type": "code",
      "source": [],
      "metadata": {
        "id": "nXv_yW0E5dSy"
      },
      "execution_count": null,
      "outputs": []
    },
    {
      "cell_type": "code",
      "source": [
        "autoencoder = restore_images(xtrain, xtrain_corrupted_5, xtest, xtest_corrupted_5) \n",
        "predictions_5 = autoencoder.predict(xtest_corrupted_5) "
      ],
      "metadata": {
        "id": "yf1l5LP3Lsn9",
        "outputId": "e11d0cc0-00ed-4e85-dd97-7f84fae3459f",
        "colab": {
          "base_uri": "https://localhost:8080/"
        }
      },
      "execution_count": 88,
      "outputs": [
        {
          "output_type": "stream",
          "name": "stdout",
          "text": [
            "Epoch 1/10\n",
            "469/469 [==============================] - 6s 11ms/step - loss: 0.0133 - accuracy: 0.8138 - val_loss: 0.0050 - val_accuracy: 0.8141\n",
            "Epoch 2/10\n",
            "469/469 [==============================] - 4s 9ms/step - loss: 0.0045 - accuracy: 0.8151 - val_loss: 0.0039 - val_accuracy: 0.8142\n",
            "Epoch 3/10\n",
            "469/469 [==============================] - 5s 10ms/step - loss: 0.0038 - accuracy: 0.8152 - val_loss: 0.0034 - val_accuracy: 0.8143\n",
            "Epoch 4/10\n",
            "469/469 [==============================] - 5s 10ms/step - loss: 0.0034 - accuracy: 0.8153 - val_loss: 0.0031 - val_accuracy: 0.8143\n",
            "Epoch 5/10\n",
            "469/469 [==============================] - 5s 10ms/step - loss: 0.0031 - accuracy: 0.8153 - val_loss: 0.0029 - val_accuracy: 0.8143\n",
            "Epoch 6/10\n",
            "469/469 [==============================] - 5s 10ms/step - loss: 0.0029 - accuracy: 0.8153 - val_loss: 0.0028 - val_accuracy: 0.8143\n",
            "Epoch 7/10\n",
            "469/469 [==============================] - 5s 10ms/step - loss: 0.0027 - accuracy: 0.8153 - val_loss: 0.0026 - val_accuracy: 0.8143\n",
            "Epoch 8/10\n",
            "469/469 [==============================] - 5s 10ms/step - loss: 0.0026 - accuracy: 0.8153 - val_loss: 0.0027 - val_accuracy: 0.8143\n",
            "Epoch 9/10\n",
            "469/469 [==============================] - 4s 10ms/step - loss: 0.0025 - accuracy: 0.8153 - val_loss: 0.0024 - val_accuracy: 0.8143\n",
            "Epoch 10/10\n",
            "469/469 [==============================] - 4s 10ms/step - loss: 0.0024 - accuracy: 0.8153 - val_loss: 0.0024 - val_accuracy: 0.8144\n",
            "313/313 [==============================] - 1s 2ms/step\n"
          ]
        }
      ]
    },
    {
      "cell_type": "code",
      "source": [
        "display(xtest_corrupted_5, predictions_5) "
      ],
      "metadata": {
        "id": "oxPqOGjGM2O-",
        "outputId": "60f31065-5180-4803-d3d0-6119f0ce1771",
        "colab": {
          "base_uri": "https://localhost:8080/",
          "height": 194
        }
      },
      "execution_count": 89,
      "outputs": [
        {
          "output_type": "display_data",
          "data": {
            "text/plain": [
              "<Figure size 1440x288 with 20 Axes>"
            ],
            "image/png": "[encoded data removed]"
          },
          "metadata": {
            "needs_background": "light"
          }
        }
      ]
    },
    {
      "cell_type": "code",
      "source": [
        "predictions_10 = autoencoder.predict(xtest_corrupted_10)\n",
        "display(xtest_corrupted_10, predictions_10) "
      ],
      "metadata": {
        "id": "j-UXTO78M_Nf",
        "outputId": "45fb793f-2f92-461d-e132-9c6d0c067469",
        "colab": {
          "base_uri": "https://localhost:8080/",
          "height": 212
        }
      },
      "execution_count": 90,
      "outputs": [
        {
          "output_type": "stream",
          "name": "stdout",
          "text": [
            "313/313 [==============================] - 1s 2ms/step\n"
          ]
        },
        {
          "output_type": "display_data",
          "data": {
            "text/plain": [
              "<Figure size 1440x288 with 20 Axes>"
            ],
            "image/png": "[encoded data removed]"
          },
          "metadata": {
            "needs_background": "light"
          }
        }
      ]
    },
    {
      "cell_type": "code",
      "source": [
        "predictions_15 = autoencoder.predict(xtest_corrupted_15)\n",
        "display(xtest_corrupted_15, predictions_15) "
      ],
      "metadata": {
        "id": "1BBZfrGMKvGm",
        "outputId": "1748df27-33d4-40fe-f5c0-aa98a74f4f76",
        "colab": {
          "base_uri": "https://localhost:8080/",
          "height": 212
        }
      },
      "execution_count": 91,
      "outputs": [
        {
          "output_type": "stream",
          "name": "stdout",
          "text": [
            "313/313 [==============================] - 1s 2ms/step\n"
          ]
        },
        {
          "output_type": "display_data",
          "data": {
            "text/plain": [
              "<Figure size 1440x288 with 20 Axes>"
            ],
            "image/png": "[encoded data removed]"
          },
          "metadata": {
            "needs_background": "light"
          }
        }
      ]
    },
    {
      "cell_type": "code",
      "source": [
        "def restore_images(xtrain, xtrain_corrupted, xtest, xtest_corrupted):\n",
        "  input = layers.Input(shape=(28, 28, 1))\n",
        "\n",
        "  # Encoder\n",
        "  x = Conv2D(32, (3, 3), activation=\"relu\", padding=\"same\")(input)\n",
        "  x = MaxPooling2D((2, 2), padding=\"same\")(x)\n",
        "  x = Conv2D(32, (3, 3), activation=\"relu\", padding=\"same\")(x)\n",
        "  x = MaxPooling2D((2, 2), padding=\"same\")(x)\n",
        "\n",
        "  # Decoder\n",
        "  x = Conv2DTranspose(32, (3, 3), strides=2, activation=\"relu\", padding=\"same\")(x)\n",
        "  x = Conv2DTranspose(32, (3, 3), strides=2, activation=\"relu\", padding=\"same\")(x)\n",
        "  x = Conv2D(1, (3, 3), activation=\"relu\", padding=\"same\")(x)\n",
        "\n",
        "  # Autoencoder\n",
        "  autoencoder = Model(input, x)\n",
        "  autoencoder.compile(optimizer=\"adam\", loss=\"mean_squared_error\", metrics=['accuracy'])\n",
        "\n",
        "  autoencoder.fit(x=xtrain_corrupted, y=xtrain, epochs=10, batch_size=128, \n",
        "                  shuffle=True, validation_data=(xtest_corrupted, xtest))\n",
        "\n",
        "  return autoencoder"
      ],
      "metadata": {
        "id": "pJJ1EYzLKvYO"
      },
      "execution_count": 87,
      "outputs": []
    },
    {
      "cell_type": "code",
      "source": [
        "def display(array1, array2):\n",
        "    \"\"\"\n",
        "    Displays ten random images from each one of the supplied arrays.\n",
        "    \"\"\"\n",
        "\n",
        "    n = 10\n",
        "\n",
        "    indices = np.random.randint(len(array1), size=n)\n",
        "    images1 = array1[indices, :]\n",
        "    images2 = array2[indices, :]\n",
        "\n",
        "    plt.figure(figsize=(20, 4))\n",
        "    for i, (image1, image2) in enumerate(zip(images1, images2)):\n",
        "        ax = plt.subplot(2, n, i + 1)\n",
        "        plt.imshow(image1.reshape(28, 28))\n",
        "        plt.gray()\n",
        "        ax.get_xaxis().set_visible(False)\n",
        "        ax.get_yaxis().set_visible(False)\n",
        "\n",
        "        ax = plt.subplot(2, n, i + 1 + n)\n",
        "        plt.imshow(image2.reshape(28, 28))\n",
        "        plt.gray()\n",
        "        ax.get_xaxis().set_visible(False)\n",
        "        ax.get_yaxis().set_visible(False)\n",
        "\n",
        "    plt.show()"
      ],
      "metadata": {
        "id": "snst6Sc652xW"
      },
      "execution_count": 27,
      "outputs": []
    },
    {
      "cell_type": "markdown",
      "source": [
        "## 2.5\t\n",
        "(15%) Following Question 2.4, please evaluate the restored test set using the model you trained on clean images in Question 2.1. Report the prediction accuracies for restored images separately at the three different corruption rates. What do you find?"
      ],
      "metadata": {
        "id": "sdfzLUPM5weu"
      }
    },
    {
      "cell_type": "code",
      "source": [
        "evaluation = model.evaluate(predictions_15, ytest, verbose=0) \n",
        "print(\"Test loss: \", evaluation[0]) \n",
        "print(\"Test accuracy: \", evaluation[1]) "
      ],
      "metadata": {
        "id": "LBK8reThKDKE",
        "colab": {
          "base_uri": "https://localhost:8080/"
        },
        "outputId": "11d2c17f-0143-489b-a079-65fe5c101bd9"
      },
      "execution_count": 101,
      "outputs": [
        {
          "output_type": "stream",
          "name": "stdout",
          "text": [
            "Test loss:  0.08224095404148102\n",
            "Test accuracy:  0.9835000038146973\n"
          ]
        }
      ]
    },
    {
      "cell_type": "code",
      "source": [
        "evaluation = model.evaluate(xtest_corrupted_15, ytest, verbose=0) \n",
        "print(\"Test loss: \", evaluation[0]) \n",
        "print(\"Test accuracy: \", evaluation[1]) "
      ],
      "metadata": {
        "id": "ncluy-heyujU",
        "outputId": "0dec45fc-2c72-4e74-83a3-1aa41c7301e9",
        "colab": {
          "base_uri": "https://localhost:8080/"
        }
      },
      "execution_count": 102,
      "outputs": [
        {
          "output_type": "stream",
          "name": "stdout",
          "text": [
            "Test loss:  0.3818049430847168\n",
            "Test accuracy:  0.8956000208854675\n"
          ]
        }
      ]
    },
    {
      "cell_type": "code",
      "source": [],
      "metadata": {
        "id": "EPFmSKZvD09W"
      },
      "execution_count": null,
      "outputs": []
    },
    {
      "cell_type": "code",
      "source": [],
      "metadata": {
        "id": "9WCpZHQj0E69"
      },
      "execution_count": null,
      "outputs": []
    },
    {
      "cell_type": "code",
      "source": [
        "def build_model(input_shape): \n",
        "  model = keras.Sequential() \n",
        "  model.add(Conv2D(32, kernel_size=(3, 3), activation='relu', input_shape=input_shape)) \n",
        "  model.add(MaxPooling2D(pool_size=(2, 2))) \n",
        "  model.add(Dropout(0.2)) \n",
        "  model.add(Conv2D(64, kernel_size=(3, 3), activation='relu')) \n",
        "  model.add(MaxPooling2D(pool_size=(2, 2))) \n",
        "  model.add(Dropout(0.2)) \n",
        "  model.add(Conv2D(128, kernel_size=(3, 3), activation='relu')) \n",
        "  model.add(MaxPooling2D(pool_size=(2, 2))) \n",
        "  model.add(Dropout(0.2)) \n",
        "  model.add(Conv2D(64, kernel_size=(3, 3), activation='relu')) \n",
        "  model.add(MaxPooling2D(pool_size=(2, 2))) \n",
        "  model.add(Dropout(0.2)) \n",
        "  model.add(Conv2D(32, kernel_size=(3, 3), activation='relu')) \n",
        "  model.add(MaxPooling2D(pool_size=(2, 2))) \n",
        "  model.add(Dropout(0.2)) \n",
        "  model.add(Flatten()) \n",
        "  model.add(Dense(128, activation='relu')) \n",
        "  model.add(Dense(64, activation='relu')) \n",
        "  model.add(Dense(10, activation='softmax')) \n",
        "\n",
        "  return model\n",
        "  \n",
        "input_shape = xtrain.shape[1:]\n",
        "model = build_model(input_shape)\n",
        "model.summary()"
      ],
      "metadata": {
        "id": "UUT_eqwYFWTn",
        "colab": {
          "base_uri": "https://localhost:8080/",
          "height": 429
        },
        "outputId": "2fc920a0-ae21-4612-f565-587375c83432"
      },
      "execution_count": null,
      "outputs": [
        {
          "output_type": "error",
          "ename": "ValueError",
          "evalue": "ignored",
          "traceback": [
            "\u001b[0;31m---------------------------------------------------------------------------\u001b[0m",
            "\u001b[0;31mValueError\u001b[0m                                Traceback (most recent call last)",
            "\u001b[0;32m<ipython-input-9-32f47e127a41>\u001b[0m in \u001b[0;36m<module>\u001b[0;34m\u001b[0m\n\u001b[1;32m     24\u001b[0m \u001b[0;34m\u001b[0m\u001b[0m\n\u001b[1;32m     25\u001b[0m \u001b[0minput_shape\u001b[0m \u001b[0;34m=\u001b[0m \u001b[0mxtrain\u001b[0m\u001b[0;34m.\u001b[0m\u001b[0mshape\u001b[0m\u001b[0;34m[\u001b[0m\u001b[0;36m1\u001b[0m\u001b[0;34m:\u001b[0m\u001b[0;34m]\u001b[0m\u001b[0;34m\u001b[0m\u001b[0;34m\u001b[0m\u001b[0m\n\u001b[0;32m---> 26\u001b[0;31m \u001b[0mmodel\u001b[0m \u001b[0;34m=\u001b[0m \u001b[0mbuild_model\u001b[0m\u001b[0;34m(\u001b[0m\u001b[0minput_shape\u001b[0m\u001b[0;34m)\u001b[0m\u001b[0;34m\u001b[0m\u001b[0;34m\u001b[0m\u001b[0m\n\u001b[0m\u001b[1;32m     27\u001b[0m \u001b[0mmodel\u001b[0m\u001b[0;34m.\u001b[0m\u001b[0msummary\u001b[0m\u001b[0;34m(\u001b[0m\u001b[0;34m)\u001b[0m\u001b[0;34m\u001b[0m\u001b[0;34m\u001b[0m\u001b[0m\n",
            "\u001b[0;32m<ipython-input-9-32f47e127a41>\u001b[0m in \u001b[0;36mbuild_model\u001b[0;34m(input_shape)\u001b[0m\n\u001b[1;32m     10\u001b[0m   \u001b[0mmodel\u001b[0m\u001b[0;34m.\u001b[0m\u001b[0madd\u001b[0m\u001b[0;34m(\u001b[0m\u001b[0mMaxPooling2D\u001b[0m\u001b[0;34m(\u001b[0m\u001b[0mpool_size\u001b[0m\u001b[0;34m=\u001b[0m\u001b[0;34m(\u001b[0m\u001b[0;36m2\u001b[0m\u001b[0;34m,\u001b[0m \u001b[0;36m2\u001b[0m\u001b[0;34m)\u001b[0m\u001b[0;34m)\u001b[0m\u001b[0;34m)\u001b[0m\u001b[0;34m\u001b[0m\u001b[0;34m\u001b[0m\u001b[0m\n\u001b[1;32m     11\u001b[0m   \u001b[0mmodel\u001b[0m\u001b[0;34m.\u001b[0m\u001b[0madd\u001b[0m\u001b[0;34m(\u001b[0m\u001b[0mDropout\u001b[0m\u001b[0;34m(\u001b[0m\u001b[0;36m0.2\u001b[0m\u001b[0;34m)\u001b[0m\u001b[0;34m)\u001b[0m\u001b[0;34m\u001b[0m\u001b[0;34m\u001b[0m\u001b[0m\n\u001b[0;32m---> 12\u001b[0;31m   \u001b[0mmodel\u001b[0m\u001b[0;34m.\u001b[0m\u001b[0madd\u001b[0m\u001b[0;34m(\u001b[0m\u001b[0mConv2D\u001b[0m\u001b[0;34m(\u001b[0m\u001b[0;36m64\u001b[0m\u001b[0;34m,\u001b[0m \u001b[0mkernel_size\u001b[0m\u001b[0;34m=\u001b[0m\u001b[0;34m(\u001b[0m\u001b[0;36m3\u001b[0m\u001b[0;34m,\u001b[0m \u001b[0;36m3\u001b[0m\u001b[0;34m)\u001b[0m\u001b[0;34m,\u001b[0m \u001b[0mactivation\u001b[0m\u001b[0;34m=\u001b[0m\u001b[0;34m'relu'\u001b[0m\u001b[0;34m)\u001b[0m\u001b[0;34m)\u001b[0m\u001b[0;34m\u001b[0m\u001b[0;34m\u001b[0m\u001b[0m\n\u001b[0m\u001b[1;32m     13\u001b[0m   \u001b[0mmodel\u001b[0m\u001b[0;34m.\u001b[0m\u001b[0madd\u001b[0m\u001b[0;34m(\u001b[0m\u001b[0mMaxPooling2D\u001b[0m\u001b[0;34m(\u001b[0m\u001b[0mpool_size\u001b[0m\u001b[0;34m=\u001b[0m\u001b[0;34m(\u001b[0m\u001b[0;36m2\u001b[0m\u001b[0;34m,\u001b[0m \u001b[0;36m2\u001b[0m\u001b[0;34m)\u001b[0m\u001b[0;34m)\u001b[0m\u001b[0;34m)\u001b[0m\u001b[0;34m\u001b[0m\u001b[0;34m\u001b[0m\u001b[0m\n\u001b[1;32m     14\u001b[0m   \u001b[0mmodel\u001b[0m\u001b[0;34m.\u001b[0m\u001b[0madd\u001b[0m\u001b[0;34m(\u001b[0m\u001b[0mDropout\u001b[0m\u001b[0;34m(\u001b[0m\u001b[0;36m0.2\u001b[0m\u001b[0;34m)\u001b[0m\u001b[0;34m)\u001b[0m\u001b[0;34m\u001b[0m\u001b[0;34m\u001b[0m\u001b[0m\n",
            "\u001b[0;32m/usr/local/lib/python3.7/dist-packages/tensorflow/python/training/tracking/base.py\u001b[0m in \u001b[0;36m_method_wrapper\u001b[0;34m(self, *args, **kwargs)\u001b[0m\n\u001b[1;32m    585\u001b[0m     \u001b[0mself\u001b[0m\u001b[0;34m.\u001b[0m\u001b[0m_self_setattr_tracking\u001b[0m \u001b[0;34m=\u001b[0m \u001b[0;32mFalse\u001b[0m  \u001b[0;31m# pylint: disable=protected-access\u001b[0m\u001b[0;34m\u001b[0m\u001b[0;34m\u001b[0m\u001b[0m\n\u001b[1;32m    586\u001b[0m     \u001b[0;32mtry\u001b[0m\u001b[0;34m:\u001b[0m\u001b[0;34m\u001b[0m\u001b[0;34m\u001b[0m\u001b[0m\n\u001b[0;32m--> 587\u001b[0;31m       \u001b[0mresult\u001b[0m \u001b[0;34m=\u001b[0m \u001b[0mmethod\u001b[0m\u001b[0;34m(\u001b[0m\u001b[0mself\u001b[0m\u001b[0;34m,\u001b[0m \u001b[0;34m*\u001b[0m\u001b[0margs\u001b[0m\u001b[0;34m,\u001b[0m \u001b[0;34m**\u001b[0m\u001b[0mkwargs\u001b[0m\u001b[0;34m)\u001b[0m\u001b[0;34m\u001b[0m\u001b[0;34m\u001b[0m\u001b[0m\n\u001b[0m\u001b[1;32m    588\u001b[0m     \u001b[0;32mfinally\u001b[0m\u001b[0;34m:\u001b[0m\u001b[0;34m\u001b[0m\u001b[0;34m\u001b[0m\u001b[0m\n\u001b[1;32m    589\u001b[0m       \u001b[0mself\u001b[0m\u001b[0;34m.\u001b[0m\u001b[0m_self_setattr_tracking\u001b[0m \u001b[0;34m=\u001b[0m \u001b[0mprevious_value\u001b[0m  \u001b[0;31m# pylint: disable=protected-access\u001b[0m\u001b[0;34m\u001b[0m\u001b[0;34m\u001b[0m\u001b[0m\n",
            "\u001b[0;32m/usr/local/lib/python3.7/dist-packages/keras/utils/traceback_utils.py\u001b[0m in \u001b[0;36merror_handler\u001b[0;34m(*args, **kwargs)\u001b[0m\n\u001b[1;32m     65\u001b[0m     \u001b[0;32mexcept\u001b[0m \u001b[0mException\u001b[0m \u001b[0;32mas\u001b[0m \u001b[0me\u001b[0m\u001b[0;34m:\u001b[0m  \u001b[0;31m# pylint: disable=broad-except\u001b[0m\u001b[0;34m\u001b[0m\u001b[0;34m\u001b[0m\u001b[0m\n\u001b[1;32m     66\u001b[0m       \u001b[0mfiltered_tb\u001b[0m \u001b[0;34m=\u001b[0m \u001b[0m_process_traceback_frames\u001b[0m\u001b[0;34m(\u001b[0m\u001b[0me\u001b[0m\u001b[0;34m.\u001b[0m\u001b[0m__traceback__\u001b[0m\u001b[0;34m)\u001b[0m\u001b[0;34m\u001b[0m\u001b[0;34m\u001b[0m\u001b[0m\n\u001b[0;32m---> 67\u001b[0;31m       \u001b[0;32mraise\u001b[0m \u001b[0me\u001b[0m\u001b[0;34m.\u001b[0m\u001b[0mwith_traceback\u001b[0m\u001b[0;34m(\u001b[0m\u001b[0mfiltered_tb\u001b[0m\u001b[0;34m)\u001b[0m \u001b[0;32mfrom\u001b[0m \u001b[0;32mNone\u001b[0m\u001b[0;34m\u001b[0m\u001b[0;34m\u001b[0m\u001b[0m\n\u001b[0m\u001b[1;32m     68\u001b[0m     \u001b[0;32mfinally\u001b[0m\u001b[0;34m:\u001b[0m\u001b[0;34m\u001b[0m\u001b[0;34m\u001b[0m\u001b[0m\n\u001b[1;32m     69\u001b[0m       \u001b[0;32mdel\u001b[0m \u001b[0mfiltered_tb\u001b[0m\u001b[0;34m\u001b[0m\u001b[0;34m\u001b[0m\u001b[0m\n",
            "\u001b[0;32m/usr/local/lib/python3.7/dist-packages/keras/layers/convolutional/base_conv.py\u001b[0m in \u001b[0;36mcompute_output_shape\u001b[0;34m(self, input_shape)\u001b[0m\n\u001b[1;32m    306\u001b[0m     \u001b[0;32mexcept\u001b[0m \u001b[0mValueError\u001b[0m\u001b[0;34m:\u001b[0m\u001b[0;34m\u001b[0m\u001b[0;34m\u001b[0m\u001b[0m\n\u001b[1;32m    307\u001b[0m       raise ValueError(\n\u001b[0;32m--> 308\u001b[0;31m           \u001b[0;34mf'One of the dimensions in the output is <= 0 '\u001b[0m\u001b[0;34m\u001b[0m\u001b[0;34m\u001b[0m\u001b[0m\n\u001b[0m\u001b[1;32m    309\u001b[0m           \u001b[0;34mf'due to downsampling in {self.name}. Consider '\u001b[0m\u001b[0;34m\u001b[0m\u001b[0;34m\u001b[0m\u001b[0m\n\u001b[1;32m    310\u001b[0m           \u001b[0;34mf'increasing the input size. '\u001b[0m\u001b[0;34m\u001b[0m\u001b[0;34m\u001b[0m\u001b[0m\n",
            "\u001b[0;31mValueError\u001b[0m: One of the dimensions in the output is <= 0 due to downsampling in conv2d_17. Consider increasing the input size. Received input shape [None, 1, 1, 128] which would produce output shape with a zero or negative value in a dimension."
          ]
        }
      ]
    },
    {
      "cell_type": "code",
      "source": [
        "def build_nn_model(input_shape):\n",
        "  # create model\n",
        "  model = keras.Sequential()\n",
        "\n",
        "  # 2 LSTM layers\n",
        "  model.add(layers.LSTM(64, input_shape=input_shape, return_sequences=True))\n",
        "  model.add(layers.LSTM(64))\n",
        "  \n",
        "  # dense layer\n",
        "  model.add(layers.Dense(64, activation='relu'))\n",
        "  model.add(layers.Dropout(0.3))\n",
        "\n",
        "  # output layer\n",
        "  model.add(layers.Dense(10, activation='softmax'))\n",
        "\n",
        "  return model"
      ],
      "metadata": {
        "id": "SKFG57_NXb5g"
      },
      "execution_count": null,
      "outputs": []
    },
    {
      "cell_type": "code",
      "source": [
        "import numpy as np\n",
        "from random import random\n",
        "\n",
        "# save the activations and derivatives for gd\n",
        "# implement backpropagation\n",
        "# implement gradient descent\n",
        "# implement a train method\n",
        "# train our net with some dummy dataset\n",
        "# make some predictions\n",
        "\n",
        "class MLP:\n",
        "  # Constructor\n",
        "  def __init__(self, num_inputs = 3, num_hidden = [3, 3], num_outputs = 2):\n",
        "    self.num_inputs = num_inputs\n",
        "    self.num_hidden = num_hidden\n",
        "    self.num_outputs = num_outputs\n",
        "\n",
        "    layers = [self.num_inputs] + self.num_hidden + [self.num_outputs]\n",
        "\n",
        "    # Initialize random weights\n",
        "    weights = []\n",
        "    for i in range(len(layers) - 1):\n",
        "      w = np.random.rand(layers[i], layers[i + 1])\n",
        "      weights.append(w)\n",
        "    self.weights = weights\n",
        "\n",
        "    activations = []\n",
        "    for i in range(len(layers)):\n",
        "      a = np.zeros(layers[i])\n",
        "      activations.append(a)\n",
        "    self.activations = activations\n",
        "  \n",
        "    derivatives = []\n",
        "    for i in range(len(layers)-1):\n",
        "      d = np.zeros((layers[i], layers[i + 1]))\n",
        "      derivatives.append(d)\n",
        "    self.derivatives = derivatives\n",
        "\n",
        "  def forward_propagate(self, inputs):\n",
        "    activations = inputs\n",
        "\n",
        "    self.activations[0] = inputs\n",
        "\n",
        "    for i, w in enumerate(self.weights):\n",
        "      # calculate net inputs\n",
        "      net_inputs = np.dot(activations, w)\n",
        "\n",
        "      # calculate activations\n",
        "      activations = self._sigmoid(net_inputs)\n",
        "      self.activations[i + 1] = activations\n",
        "\n",
        "    return activations\n",
        "\n",
        "  def back_propagate(self, error, verbose = False):\n",
        "    # dE/dW_i = (y - a_[i+1]) s'(h_[i+1]) a_i\n",
        "    # s'(h_[i+1]) = s(h_[i+1])(1 - s(h_[i+1]))\n",
        "    # s(h_[i+1]) = a_[i+1]\n",
        "\n",
        "    # dE/dW_[i-1] = (y - a_[i+1]) s'(h_[i+1]) W_i s'(h_i) a_[i-1]\n",
        "\n",
        "    for i in reversed(range(len(self.derivatives))):\n",
        "      activations = self.activations[i+1]\n",
        "      delta = error * self._sigmoid_derivative(activations) # ndarray([0.1, 0.2]) --> ndarray([[0.1, 0.2]])\n",
        "      delta_reshaped = delta.reshape(delta.shape[0], -1).T\n",
        "      current_activations = self.activations[i] # ndarray([0.1, 0.2]) --> ndarray([[0.1], [0.2]])\n",
        "      \n",
        "      current_activations = current_activations.reshape(current_activations.shape[0], -1)\n",
        "      \n",
        "      self.derivatives[i] = np.dot(current_activations, delta_reshaped)\n",
        "      error = np.dot(delta, self.weights[i].T)\n",
        "\n",
        "      if verbose:\n",
        "        print(f\"Derivatives for W{i}: {self.derivatives[i]}\")      \n",
        "\n",
        "    return error\n",
        "\n",
        "  def gradient_descent(self, learning_rate):\n",
        "    for i in range(len(self.weights)):\n",
        "      weights = self.weights[i]\n",
        "      #print(f\"Original W{i} {weights} \")\n",
        "\n",
        "      derivatives = self.derivatives[i]\n",
        "\n",
        "      weights +=  derivatives * learning_rate\n",
        "      #print(f\"Updated W{i} {weights} \")\n",
        "  \n",
        "  def train(self, inputs, targets, epochs, learning_rate):\n",
        "    for i in range(epochs):\n",
        "      sum_error = 0\n",
        "      for input, target  in zip(inputs, targets):\n",
        "        \n",
        "        # Perform forward Propagation\n",
        "        output = self.forward_propagate(input)\n",
        "        # calculate the error\n",
        "        error = target - output\n",
        "        # backward propagation\n",
        "        self.back_propagate(error)##, verbose = True)\n",
        "        # Apply grdient descent \n",
        "        self.gradient_descent(learning_rate)\n",
        "\n",
        "        sum_error += self._mse(target, output)\n",
        "      # report the error for each epoch\n",
        "      print(f\"Error: {sum_error / len(inputs)} at epoch {i}\")\n",
        "\n",
        "    \n",
        "\n",
        "  def _mse(self, target, output):\n",
        "    return np.average((target- output) ** 2)\n",
        "\n",
        "  def _sigmoid_derivative(self, x):\n",
        "    return x * (1.0 - x)\n",
        "\n",
        "  def _sigmoid(self, x):\n",
        "    return 1 / (1 + np.exp(-x))\n",
        "\n",
        "if __name__ == \"__main__\":\n",
        "  # Create dummy inputs --> arry([[0.1, 0.2], [0.3, 0.4]])\n",
        "  inputs = np.array([[random()/2 for _ in range(2)] for _ in range(1000)])\n",
        "  \n",
        "  targets = np.array([[i[0] + i[1]] for i in inputs]) # array([[0.3], [0.7]])\n",
        "\n",
        "  # Create MLP\n",
        "  mlp = MLP(2, [5], 1)\n",
        "  \n",
        "  print(inputs)\n",
        "  print(inputs.shape)\n",
        "  # train our mlp\n",
        "  mlp.train(inputs, targets, 50, 0.1)\n",
        "\n",
        "  # Create dummy data\n",
        "  input = np.array([0.3, 0.1])\n",
        "  target = np.array([0.4])\n",
        "  output = mlp.forward_propagate(input)\n",
        "  print(f\"\\n\\n Our network believes that {input[0]} + {input[1]} is equal to {output[0]}\")\n"
      ],
      "metadata": {
        "id": "OPi2mZF8NS4I"
      },
      "execution_count": null,
      "outputs": []
    },
    {
      "cell_type": "code",
      "source": [],
      "metadata": {
        "id": "LdI2Bt4QWJiv"
      },
      "execution_count": null,
      "outputs": []
    },
    {
      "cell_type": "code",
      "source": [
        "# read the data, build the NN, compile, train and test \n",
        "if __name__ == \"__main__\":\n",
        "  # load data\n",
        "  inputs, targets = load_data(DATASET_PATH)\n",
        "\n",
        "  # split the data into train and test sets\n",
        "  inputs_train, inputs_test, targets_train, targets_test = train_test_split(\n",
        "      inputs, targets, test_size=0.3\n",
        "  )\n",
        "  # build the network architecture\n",
        "  model = keras.Sequential([\n",
        "    # input layer\n",
        "    keras.layers.Flatten(input_shape=(inputs.shape[1], inputs.shape[2])),\n",
        "    #  1st hidden layer\n",
        "    keras.layers.Dense(512, activation = \"relu\", kernel_regularizer=keras.regularizers.l2(0.001)),\n",
        "    keras.layers.Dropout(0.3),\n",
        "    #  2nd hidden layer\n",
        "    keras.layers.Dense(256, activation = \"relu\", kernel_regularizer=keras.regularizers.l2(0.001)),\n",
        "    keras.layers.Dropout(0.3),\n",
        "    #  3rd hidden layer\n",
        "    keras.layers.Dense(64, activation = \"relu\", kernel_regularizer=keras.regularizers.l2(0.001)),\n",
        "    keras.layers.Dropout(0.3),\n",
        "\n",
        "    # output layer\n",
        "    keras.layers.Dense(10, activation = \"softmax\")\n",
        "  ])\n",
        "\n",
        "  # compile network\n",
        "  optimizer = keras.optimizers.Adam(learning_rate = 0.0001)\n",
        "  model.compile (optimizer = optimizer,\n",
        "                 loss = \"sparse_categorical_crossentropy\",\n",
        "                 metrics = \"accuracy\")\n",
        "  model.summary()\n",
        "\n",
        "  # train network\n",
        "  history = model.fit(inputs_train, targets_train, validation_data=(inputs_test, targets_test),\n",
        "            epochs = 50, batch_size = 32)\n",
        "  # plot accuracy and error over the epochs\n",
        "  plot_history(history)"
      ],
      "metadata": {
        "id": "B40NFJcUWENB"
      },
      "execution_count": null,
      "outputs": []
    }
  ]
}